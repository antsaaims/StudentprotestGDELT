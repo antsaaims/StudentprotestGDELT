{
  "nbformat": 4,
  "nbformat_minor": 0,
  "metadata": {
    "colab": {
      "name": "StudentProtestGDELT.ipynb",
      "provenance": [],
      "collapsed_sections": [],
      "authorship_tag": "ABX9TyOi/C0vpn/yuhPbsYT550SL",
      "include_colab_link": true
    },
    "kernelspec": {
      "name": "ir",
      "display_name": "R"
    },
    "language_info": {
      "name": "R"
    }
  },
  "cells": [
    {
      "cell_type": "markdown",
      "metadata": {
        "id": "view-in-github",
        "colab_type": "text"
      },
      "source": [
        "<a href=\"https://colab.research.google.com/github/antsaaims/StudentprotestGDELT/blob/main/StudentProtestGDELT.ipynb\" target=\"_parent\"><img src=\"https://colab.research.google.com/assets/colab-badge.svg\" alt=\"Open In Colab\"/></a>"
      ]
    },
    {
      "cell_type": "markdown",
      "source": [
        "#  Analysis of Student Protests Around the World and over Time Insight from the Global Database of Events, Language and Tone(GDELT) project\n",
        "\n",
        "\n"
      ],
      "metadata": {
        "id": "5AgPHKRbtMfB"
      }
    },
    {
      "cell_type": "markdown",
      "source": [
        "It is the notebook used to process the data  and do all required analysis for this project."
      ],
      "metadata": {
        "id": "wSJc5fGJtU2q"
      }
    },
    {
      "cell_type": "markdown",
      "source": [
        "## Preparing and cleaning the data.\n",
        "\n",
        "This part was used to prepare the data. After the preparation, all data was uploaded in the [GitHub repository](https://github.com/antsaaims/StudentprotestGDELT).\n"
      ],
      "metadata": {
        "id": "RMh568TpO4wF"
      }
    },
    {
      "cell_type": "code",
      "execution_count": null,
      "metadata": {
        "id": "LMjoaBiUtJep"
      },
      "outputs": [],
      "source": [
        "#url ='https://raw.githubusercontent.com/antsaaims/StudentprotestGDELT/main/protest_data_final.csv'"
      ]
    },
    {
      "cell_type": "code",
      "source": [
        "#protest_data = na.omit(read.table(url,  sep=',',header = TRUE))"
      ],
      "metadata": {
        "id": "kfstY8yquVTz"
      },
      "execution_count": null,
      "outputs": []
    },
    {
      "cell_type": "code",
      "source": [
        "# #omit the first case(1920)\n",
        "# protest_data = subset(protest_data, Year>2013 & Year<2021) \n",
        "# protest_data"
      ],
      "metadata": {
        "id": "-4Vh7w71uXla"
      },
      "execution_count": null,
      "outputs": []
    },
    {
      "cell_type": "markdown",
      "source": [
        "The detail about the data Countrycode is [here](https://vincentarelbundock.github.io/countrycode/)"
      ],
      "metadata": {
        "id": "yIsBZUtk6fFI"
      }
    },
    {
      "cell_type": "code",
      "source": [
        "#install.packages(\"countrycode\")\n"
      ],
      "metadata": {
        "id": "QsCyUYuc4JwU"
      },
      "execution_count": null,
      "outputs": []
    },
    {
      "cell_type": "code",
      "source": [
        "# library(countrycode)"
      ],
      "metadata": {
        "id": "mU5o5MNC6lX9"
      },
      "execution_count": null,
      "outputs": []
    },
    {
      "cell_type": "code",
      "source": [
        "# countrycode('PK', origin = 'fips' , destination = 'country.name')"
      ],
      "metadata": {
        "id": "wMXQunl46eKm"
      },
      "execution_count": null,
      "outputs": []
    },
    {
      "cell_type": "code",
      "source": [
        "# protest_data$Country = countrycode( protest_data$CountryCode  , origin = 'fips' , destination = 'country.name')"
      ],
      "metadata": {
        "id": "MT3hqJGZ62jw"
      },
      "execution_count": null,
      "outputs": []
    },
    {
      "cell_type": "code",
      "source": [
        "# protest_data"
      ],
      "metadata": {
        "id": "zL1b0px26_lo"
      },
      "execution_count": null,
      "outputs": []
    },
    {
      "cell_type": "code",
      "source": [
        "# urlgov = 'https://raw.githubusercontent.com/antsaaims/StudentprotestGDELT/main/governance.csv'"
      ],
      "metadata": {
        "id": "kwmj3axL7ZhZ"
      },
      "execution_count": null,
      "outputs": []
    },
    {
      "cell_type": "code",
      "source": [
        "# governance_data = read.table(urlgov, sep =',', header = TRUE)"
      ],
      "metadata": {
        "id": "9Vu8SmG38pBa"
      },
      "execution_count": null,
      "outputs": []
    },
    {
      "cell_type": "code",
      "source": [
        "# governance_data"
      ],
      "metadata": {
        "id": "YDmbq8zm8tk6"
      },
      "execution_count": null,
      "outputs": []
    },
    {
      "cell_type": "code",
      "source": [
        "# governance_data = governance_data[-c(855,856,857,858,859),]"
      ],
      "metadata": {
        "id": "XqzPf1eTDZlx"
      },
      "execution_count": null,
      "outputs": []
    },
    {
      "cell_type": "code",
      "source": [
        "# colnames  = c('Control of Corruption: Estimate', 'Government Effectiveness: Estimate', 'Political Stability and Absence of Violence/Terrorism: Estimate', 'Political Stability and Absence of Violence/Terrorism: Estimate')"
      ],
      "metadata": {
        "id": "kRj9Odv9_fdO"
      },
      "execution_count": null,
      "outputs": []
    },
    {
      "cell_type": "code",
      "source": [
        "# rownames =  2014:2020 "
      ],
      "metadata": {
        "id": "J3ZoZVGz-T5k"
      },
      "execution_count": null,
      "outputs": []
    },
    {
      "cell_type": "code",
      "source": [
        "# country = 'Afghanistan'\n",
        "# AFG = data.frame(t(subset(governance_data, Country.Name == country))[-c(1,2,3,4),])\n",
        "\n",
        "# row.names(AFG) = rownames\n",
        "# colnames(AFG) = colnames\n",
        "# AFG$Country =  country\n"
      ],
      "metadata": {
        "id": "w_4LhcCk_2zU"
      },
      "execution_count": null,
      "outputs": []
    },
    {
      "cell_type": "code",
      "source": [
        "# make_data <- function(country) {\n",
        " \n",
        "# mydata = data.frame(t(subset(governance_data, Country.Name == country))[-c(1,2,3,4),])\n",
        "\n",
        "# colnames(mydata) = colnames\n",
        "# mydata$Year = rownames\n",
        "\n",
        "# mydata$Country =  country\n",
        "# mydata\n",
        "# }\n",
        "\n"
      ],
      "metadata": {
        "id": "HjaZulzeADQG"
      },
      "execution_count": null,
      "outputs": []
    },
    {
      "cell_type": "code",
      "source": [
        "# make_data('Afghanistan') #test if it is working or not"
      ],
      "metadata": {
        "id": "TBMisYVoCG_o"
      },
      "execution_count": null,
      "outputs": []
    },
    {
      "cell_type": "code",
      "source": [
        "# list_countries = (unique(governance_data[c(\"Country.Name\")]))\n",
        "# list_countries = list_countries[-c(218,217,216)]"
      ],
      "metadata": {
        "id": "eM9pePn2Cpww"
      },
      "execution_count": null,
      "outputs": []
    },
    {
      "cell_type": "code",
      "source": [
        "# nrow(list_countries)"
      ],
      "metadata": {
        "colab": {
          "base_uri": "https://localhost:8080/",
          "height": 34
        },
        "id": "nPjhdCWGEGXp",
        "outputId": "740de88f-f5da-438a-b63f-4be594def9ff"
      },
      "execution_count": null,
      "outputs": [
        {
          "output_type": "display_data",
          "data": {
            "text/html": [
              "215"
            ],
            "text/markdown": "215",
            "text/latex": "215",
            "text/plain": [
              "[1] 215"
            ]
          },
          "metadata": {}
        }
      ]
    },
    {
      "cell_type": "code",
      "source": [
        "# for (x in 1:nrow(list_countries)) {\n",
        "#   print(list_countries['Country.Name'][x,1])\n",
        "# }"
      ],
      "metadata": {
        "id": "L-OfJ8nIEPhC"
      },
      "execution_count": null,
      "outputs": []
    },
    {
      "cell_type": "markdown",
      "source": [
        "I totally do not know what is happening with Cote dIvoire....so I removed it....\n",
        "\n"
      ],
      "metadata": {
        "id": "VCXbHdUaGjmw"
      }
    },
    {
      "cell_type": "code",
      "source": [
        "# n  = nrow(list_countries)\n",
        "# #n =3 \n",
        "# make_all_data = function(){\n",
        "# final_data = make_data(list_countries['Country.Name'][1,1])\n",
        "# for (x in 2:n) {\n",
        "#   country = list_countries['Country.Name'][x,1]\n",
        "#   if(nchar(country)<34){\n",
        "#   final_data = rbind(final_data,make_data(country))\n",
        "#   }\n",
        "# }\n",
        "# row.names(final_data) = 1:nrow(final_data)\n",
        "# final_data  \n",
        "# } "
      ],
      "metadata": {
        "id": "YsUCZCHdG18Y"
      },
      "execution_count": null,
      "outputs": []
    },
    {
      "cell_type": "code",
      "source": [
        "# governance_data_cleaned = make_all_data()\n"
      ],
      "metadata": {
        "id": "GUT3hf56HEi6"
      },
      "execution_count": null,
      "outputs": []
    },
    {
      "cell_type": "code",
      "source": [
        "# Merged_data = merge(x = protest_data, y =governance_data_cleaned, by.x = c('Year','Country'), by.y= c('Year','Country'),all.x = TRUE,all.y = FALSE, sort = TRUE)"
      ],
      "metadata": {
        "id": "AteOMUCGKlvw"
      },
      "execution_count": null,
      "outputs": []
    },
    {
      "cell_type": "code",
      "source": [
        "# Merged_data"
      ],
      "metadata": {
        "id": "Wtj7QoSrMvZR"
      },
      "execution_count": null,
      "outputs": []
    },
    {
      "cell_type": "code",
      "source": [
        "# write.csv(Merged_data,\"protest+governance.csv\", row.names = TRUE)\n"
      ],
      "metadata": {
        "id": "W08SdHNYMxn_"
      },
      "execution_count": null,
      "outputs": []
    },
    {
      "cell_type": "markdown",
      "source": [
        "Wanted to use the Income per capita but it was tremendeously messy...."
      ],
      "metadata": {
        "id": "s0NCIR0JOhOc"
      }
    },
    {
      "cell_type": "code",
      "source": [
        "#url_capita = 'https://raw.githubusercontent.com/antsaaims/StudentprotestGDELT/main/AdjustedNationalIncomePerCapita.csv'"
      ],
      "metadata": {
        "id": "pP3E8-gzN8g7"
      },
      "execution_count": null,
      "outputs": []
    },
    {
      "cell_type": "code",
      "source": [
        "#income_data = read.table(url_capita, sep =',', header = TRUE, fill = TRUE)"
      ],
      "metadata": {
        "id": "9aPEhauMO2yd"
      },
      "execution_count": null,
      "outputs": []
    },
    {
      "cell_type": "code",
      "source": [
        "#intermediate = na.omit(income_data[c('Country.Name','X2014','X2015','X2016','X2017','X2018','X2019','X2020')])"
      ],
      "metadata": {
        "id": "LvxDyP41ClrG"
      },
      "execution_count": null,
      "outputs": []
    },
    {
      "cell_type": "code",
      "source": [
        "# rownames =  2014:2020 \n",
        "# make_data2 <- function(country) {\n",
        "# mydata = data.frame(t(subset(intermediate, Country.Name == country))[-c(1)])\n",
        "\n",
        "# colnames(mydata) = c('income')\n",
        "# mydata$Year = rownames\n",
        "\n",
        "# mydata$Country =  country\n",
        "# mydata\n",
        "# }\n",
        "\n"
      ],
      "metadata": {
        "id": "QINcxlkmDdG9"
      },
      "execution_count": null,
      "outputs": []
    },
    {
      "cell_type": "code",
      "source": [
        "#list_countries = (unique(intermediate[c(\"Country.Name\")]))"
      ],
      "metadata": {
        "id": "i9Spp0tDm8Lk"
      },
      "execution_count": null,
      "outputs": []
    },
    {
      "cell_type": "code",
      "source": [
        "# n  = nrow(list_countries)\n",
        "# #n =3 \n",
        "# make_all_data = function(){\n",
        "# final_data = make_data2(list_countries['Country.Name'][1,1])\n",
        "# for (x in 2:n) {\n",
        "#   country = list_countries['Country.Name'][x,1]\n",
        "#   if(nchar(country)<34){\n",
        "#   final_data = rbind(final_data,make_data2(country))\n",
        "#   }\n",
        "# }\n",
        "# row.names(final_data) = 1:nrow(final_data)\n",
        "# final_data  \n",
        "# } "
      ],
      "metadata": {
        "id": "Xm-wU9CoFBMf"
      },
      "execution_count": null,
      "outputs": []
    },
    {
      "cell_type": "code",
      "source": [
        "#FinalIncomeData = make_all_data()"
      ],
      "metadata": {
        "id": "CGJaQu8bnIfC"
      },
      "execution_count": null,
      "outputs": []
    },
    {
      "cell_type": "code",
      "source": [
        "#FinalIncomeData"
      ],
      "metadata": {
        "id": "znpPuNrtnOK7"
      },
      "execution_count": null,
      "outputs": []
    },
    {
      "cell_type": "code",
      "source": [
        "#url_protest_gov = 'https://raw.githubusercontent.com/antsaaims/StudentprotestGDELT/main/protest%2Bgovernance.csv'\n",
        "\n",
        "##protest_data = read.table(url_protest_gov, sep =',', header = TRUE)"
      ],
      "metadata": {
        "id": "NsB0NvpRnlL4"
      },
      "execution_count": null,
      "outputs": []
    },
    {
      "cell_type": "code",
      "source": [
        "#protest_data"
      ],
      "metadata": {
        "id": "N-wrZ2z2oXfl"
      },
      "execution_count": null,
      "outputs": []
    },
    {
      "cell_type": "code",
      "source": [
        "# Merged_data = merge(x = protest_data, y =FinalIncomeData, by.x = c('Year','Country'), by.y= c('Year','Country'),all.x = TRUE,all.y = FALSE, sort = TRUE)\n",
        "# write.csv(Merged_data,\"protest+governance+income.csv\", row.names = TRUE)\n"
      ],
      "metadata": {
        "id": "kWCg_TMBnSXb"
      },
      "execution_count": null,
      "outputs": []
    },
    {
      "cell_type": "code",
      "source": [
        "#Merged_data"
      ],
      "metadata": {
        "id": "nXK0KQ7HoZGb"
      },
      "execution_count": null,
      "outputs": []
    },
    {
      "cell_type": "code",
      "source": [
        "#cleaneddata = na.omit(Merged_data)"
      ],
      "metadata": {
        "id": "wZGze4MUoj9b"
      },
      "execution_count": null,
      "outputs": []
    },
    {
      "cell_type": "code",
      "source": [
        "#cleaneddata"
      ],
      "metadata": {
        "id": "937-Bc-_o3pS"
      },
      "execution_count": null,
      "outputs": []
    },
    {
      "cell_type": "code",
      "source": [
        "#write.csv(cleaneddata,\"cleanedAllData.csv\", row.names = TRUE)\n"
      ],
      "metadata": {
        "id": "xwNVNHl_o4kJ"
      },
      "execution_count": null,
      "outputs": []
    },
    {
      "cell_type": "markdown",
      "source": [
        "## Exploratory data analysis"
      ],
      "metadata": {
        "id": "jJsGdYbMpbU2"
      }
    },
    {
      "cell_type": "code",
      "source": [
        "urldata = 'https://raw.githubusercontent.com/antsaaims/StudentprotestGDELT/main/cleanedAllData.csv'\n",
        "cleaneddata = read.table(urldata, sep =',', header = TRUE)"
      ],
      "metadata": {
        "id": "Od-Ln73TpIFP"
      },
      "execution_count": null,
      "outputs": []
    },
    {
      "cell_type": "code",
      "source": [
        "cleaneddata$protest.ratio = cleaneddata$StudentProtestCount/cleaneddata$AllProtestCount"
      ],
      "metadata": {
        "id": "UlIq0ltwOYkF"
      },
      "execution_count": null,
      "outputs": []
    },
    {
      "cell_type": "code",
      "source": [
        "cleaneddata"
      ],
      "metadata": {
        "id": "94fO1RqwrDyn",
        "outputId": "20e9a71d-bfb8-4edd-de0d-62865ed13efa",
        "colab": {
          "base_uri": "https://localhost:8080/",
          "height": 1000
        }
      },
      "execution_count": null,
      "outputs": [
        {
          "output_type": "display_data",
          "data": {
            "text/html": [
              "<table class=\"dataframe\">\n",
              "<caption>A data.frame: 234 × 13</caption>\n",
              "<thead>\n",
              "\t<tr><th scope=col>X.1</th><th scope=col>Year</th><th scope=col>Country</th><th scope=col>X</th><th scope=col>CountryCode</th><th scope=col>StudentProtestCount</th><th scope=col>AllProtestCount</th><th scope=col>Control.of.Corruption..Estimate</th><th scope=col>Government.Effectiveness..Estimate</th><th scope=col>Political.Stability.and.Absence.of.Violence.Terrorism..Estimate</th><th scope=col>Political.Stability.and.Absence.of.Violence.Terrorism..Estimate.1</th><th scope=col>income</th><th scope=col>protest.ratio</th></tr>\n",
              "\t<tr><th scope=col>&lt;int&gt;</th><th scope=col>&lt;int&gt;</th><th scope=col>&lt;chr&gt;</th><th scope=col>&lt;int&gt;</th><th scope=col>&lt;chr&gt;</th><th scope=col>&lt;int&gt;</th><th scope=col>&lt;int&gt;</th><th scope=col>&lt;dbl&gt;</th><th scope=col>&lt;dbl&gt;</th><th scope=col>&lt;dbl&gt;</th><th scope=col>&lt;dbl&gt;</th><th scope=col>&lt;dbl&gt;</th><th scope=col>&lt;dbl&gt;</th></tr>\n",
              "</thead>\n",
              "<tbody>\n",
              "\t<tr><td> 2</td><td>2014</td><td>South Africa    </td><td> 2</td><td>SF</td><td>  3</td><td>   93</td><td>-0.0614517</td><td> 0.3407953</td><td>-0.1463890</td><td> 0.1827036</td><td> 5721.9670</td><td>3.225806e-02</td></tr>\n",
              "\t<tr><td> 3</td><td>2015</td><td>Afghanistan     </td><td> 3</td><td>AF</td><td>  2</td><td> 4820</td><td>-1.3422160</td><td>-1.3231760</td><td>-2.5712220</td><td>-1.5040860</td><td>  516.9467</td><td>4.149378e-04</td></tr>\n",
              "\t<tr><td> 4</td><td>2015</td><td>Bangladesh      </td><td> 4</td><td>BG</td><td> 29</td><td> 4623</td><td>-0.8084212</td><td>-0.7238550</td><td>-1.2120180</td><td>-0.7513467</td><td> 1219.1510</td><td>6.272983e-03</td></tr>\n",
              "\t<tr><td> 5</td><td>2015</td><td>Benin           </td><td> 5</td><td>BN</td><td>  1</td><td>  408</td><td>-0.5508423</td><td>-0.6198767</td><td>-0.0135140</td><td>-0.5360809</td><td>  958.7780</td><td>2.450980e-03</td></tr>\n",
              "\t<tr><td> 6</td><td>2015</td><td>Canada          </td><td> 6</td><td>CA</td><td>  3</td><td>10403</td><td> 1.8871810</td><td> 1.7617290</td><td> 1.2746980</td><td> 1.8419200</td><td>35263.2300</td><td>2.883784e-04</td></tr>\n",
              "\t<tr><td> 7</td><td>2015</td><td>Chile           </td><td> 7</td><td>CI</td><td>  1</td><td> 3535</td><td> 1.2804150</td><td> 1.0857820</td><td> 0.4334392</td><td> 1.3439570</td><td>11235.7900</td><td>2.828854e-04</td></tr>\n",
              "\t<tr><td> 8</td><td>2015</td><td>China           </td><td> 8</td><td>CH</td><td>  8</td><td>16748</td><td>-0.2820595</td><td> 0.4075751</td><td>-0.5502946</td><td>-0.4098733</td><td> 6039.7430</td><td>4.776690e-04</td></tr>\n",
              "\t<tr><td>11</td><td>2015</td><td>France          </td><td>11</td><td>FR</td><td>  1</td><td>18638</td><td> 1.2864980</td><td> 1.4481220</td><td> 0.1067064</td><td> 1.3985060</td><td>30879.8400</td><td>5.365383e-05</td></tr>\n",
              "\t<tr><td>12</td><td>2015</td><td>Ghana           </td><td>12</td><td>GH</td><td>  1</td><td> 2105</td><td>-0.1887468</td><td>-0.2224221</td><td>-0.0320993</td><td> 0.1423040</td><td> 1380.6500</td><td>4.750594e-04</td></tr>\n",
              "\t<tr><td>13</td><td>2015</td><td>Greece          </td><td>13</td><td>GR</td><td>  3</td><td>11132</td><td>-0.0873486</td><td> 0.1770223</td><td>-0.2302524</td><td> 0.2769418</td><td>14989.5300</td><td>2.694934e-04</td></tr>\n",
              "\t<tr><td>14</td><td>2015</td><td>Guatemala       </td><td>14</td><td>GT</td><td>  1</td><td> 2558</td><td>-0.7332659</td><td>-0.7112794</td><td>-0.6550602</td><td>-0.9473416</td><td> 3416.1090</td><td>3.909304e-04</td></tr>\n",
              "\t<tr><td>15</td><td>2015</td><td>Haiti           </td><td>15</td><td>HA</td><td>  2</td><td> 1648</td><td>-1.2377180</td><td>-2.0164660</td><td>-0.6708382</td><td>-1.1806910</td><td> 1329.5260</td><td>1.213592e-03</td></tr>\n",
              "\t<tr><td>16</td><td>2015</td><td>Honduras        </td><td>16</td><td>HO</td><td>  1</td><td> 1887</td><td>-0.5667320</td><td>-0.8218005</td><td>-0.4689144</td><td>-0.9256861</td><td> 2009.2390</td><td>5.299417e-04</td></tr>\n",
              "\t<tr><td>18</td><td>2015</td><td>India           </td><td>18</td><td>IN</td><td>143</td><td>46133</td><td>-0.3519882</td><td> 0.0900683</td><td>-0.9484934</td><td>-0.0474092</td><td> 1405.1800</td><td>3.099733e-03</td></tr>\n",
              "\t<tr><td>20</td><td>2015</td><td>Israel          </td><td>20</td><td>IS</td><td>  6</td><td>31487</td><td> 0.9433662</td><td> 1.3874480</td><td>-1.0949130</td><td> 1.1621570</td><td>30811.0900</td><td>1.905548e-04</td></tr>\n",
              "\t<tr><td>21</td><td>2015</td><td>Kenya           </td><td>21</td><td>KE</td><td> 13</td><td> 2696</td><td>-1.0136170</td><td>-0.3015067</td><td>-1.2444060</td><td>-0.4882332</td><td> 1090.2630</td><td>4.821958e-03</td></tr>\n",
              "\t<tr><td>22</td><td>2015</td><td>Lebanon         </td><td>22</td><td>LE</td><td>  1</td><td> 5039</td><td>-0.8838731</td><td>-0.4745394</td><td>-1.7025870</td><td>-0.8257188</td><td> 6204.1910</td><td>1.984521e-04</td></tr>\n",
              "\t<tr><td>23</td><td>2015</td><td>Liberia         </td><td>23</td><td>LI</td><td>  8</td><td>  623</td><td>-0.6454833</td><td>-1.3572740</td><td>-0.8180257</td><td>-0.8566647</td><td>  389.9621</td><td>1.284109e-02</td></tr>\n",
              "\t<tr><td>24</td><td>2015</td><td>Malawi          </td><td>24</td><td>MI</td><td>  1</td><td>  458</td><td>-0.7666516</td><td>-0.6664509</td><td> 0.0318961</td><td>-0.3069656</td><td>  299.8452</td><td>2.183406e-03</td></tr>\n",
              "\t<tr><td>25</td><td>2015</td><td>Mexico          </td><td>25</td><td>MX</td><td> 11</td><td>12771</td><td>-0.7660108</td><td> 0.2092917</td><td>-0.7986991</td><td>-0.4471673</td><td> 7625.2530</td><td>8.613264e-04</td></tr>\n",
              "\t<tr><td>26</td><td>2015</td><td>Morocco         </td><td>26</td><td>MO</td><td>  2</td><td> 3648</td><td>-0.2202772</td><td>-0.0623169</td><td>-0.3414874</td><td>-0.0890306</td><td> 2513.5110</td><td>5.482456e-04</td></tr>\n",
              "\t<tr><td>28</td><td>2015</td><td>Nepal           </td><td>28</td><td>NP</td><td>  2</td><td> 4370</td><td>-0.5780753</td><td>-1.0538680</td><td>-0.9983346</td><td>-0.6769011</td><td>  856.5601</td><td>4.576659e-04</td></tr>\n",
              "\t<tr><td>29</td><td>2015</td><td>Netherlands     </td><td>29</td><td>NL</td><td>  8</td><td> 3154</td><td> 1.8751010</td><td> 1.8591050</td><td> 0.9261193</td><td> 1.9429480</td><td>37497.2200</td><td>2.536462e-03</td></tr>\n",
              "\t<tr><td>30</td><td>2015</td><td>Nigeria         </td><td>30</td><td>NI</td><td> 17</td><td>14582</td><td>-1.0795420</td><td>-0.9590327</td><td>-1.9254430</td><td>-0.9616836</td><td> 2299.9110</td><td>1.165821e-03</td></tr>\n",
              "\t<tr><td>31</td><td>2015</td><td>Pakistan        </td><td>31</td><td>PK</td><td> 20</td><td>17366</td><td>-0.8108425</td><td>-0.6677570</td><td>-2.4827080</td><td>-0.7667320</td><td> 1256.6000</td><td>1.151676e-03</td></tr>\n",
              "\t<tr><td>32</td><td>2015</td><td>Papua New Guinea</td><td>32</td><td>PP</td><td>  2</td><td>  199</td><td>-0.9399223</td><td>-0.6067827</td><td>-0.4221483</td><td>-0.8693526</td><td> 2195.4240</td><td>1.005025e-02</td></tr>\n",
              "\t<tr><td>33</td><td>2015</td><td>Philippines     </td><td>33</td><td>RP</td><td>  2</td><td> 4106</td><td>-0.4534664</td><td> 0.1119681</td><td>-0.8556625</td><td>-0.3429787</td><td> 3045.6390</td><td>4.870921e-04</td></tr>\n",
              "\t<tr><td>34</td><td>2015</td><td>Saudi Arabia    </td><td>34</td><td>SA</td><td>  2</td><td> 6621</td><td> 0.0522682</td><td> 0.1996553</td><td>-0.6263990</td><td> 0.1177256</td><td>16895.9400</td><td>3.020692e-04</td></tr>\n",
              "\t<tr><td>35</td><td>2015</td><td>South Africa    </td><td>35</td><td>SF</td><td>157</td><td>11801</td><td> 0.0252705</td><td> 0.2915252</td><td>-0.2129929</td><td> 0.0881371</td><td> 5190.8080</td><td>1.330396e-02</td></tr>\n",
              "\t<tr><td>36</td><td>2015</td><td>Sri Lanka       </td><td>36</td><td>CE</td><td>  7</td><td> 3268</td><td>-0.3441233</td><td>-0.0095256</td><td> 0.0903681</td><td> 0.0372322</td><td> 3476.3950</td><td>2.141983e-03</td></tr>\n",
              "\t<tr><td>⋮</td><td>⋮</td><td>⋮</td><td>⋮</td><td>⋮</td><td>⋮</td><td>⋮</td><td>⋮</td><td>⋮</td><td>⋮</td><td>⋮</td><td>⋮</td><td>⋮</td></tr>\n",
              "\t<tr><td>257</td><td>2019</td><td>Pakistan            </td><td>257</td><td>PK</td><td> 22</td><td> 17629</td><td>-0.8666273</td><td>-0.6771356</td><td>-2.2651870</td><td>-0.6674315</td><td> 1187.6320</td><td>1.247944e-03</td></tr>\n",
              "\t<tr><td>258</td><td>2019</td><td>Philippines         </td><td>258</td><td>RP</td><td>  1</td><td>  4072</td><td>-0.5730505</td><td> 0.0520084</td><td>-0.9151124</td><td>-0.4769835</td><td> 3483.2760</td><td>2.455796e-04</td></tr>\n",
              "\t<tr><td>259</td><td>2019</td><td>Poland              </td><td>259</td><td>PL</td><td>  2</td><td>  4570</td><td> 0.6421292</td><td> 0.5348010</td><td> 0.5636535</td><td> 0.4312604</td><td>13293.6600</td><td>4.376368e-04</td></tr>\n",
              "\t<tr><td>260</td><td>2019</td><td>South Africa        </td><td>260</td><td>SF</td><td> 58</td><td> 11709</td><td> 0.0729309</td><td> 0.3676561</td><td>-0.2676704</td><td>-0.0761623</td><td> 5423.6580</td><td>4.953455e-03</td></tr>\n",
              "\t<tr><td>262</td><td>2019</td><td>Sri Lanka           </td><td>262</td><td>CE</td><td>  3</td><td>  2369</td><td>-0.2891587</td><td>-0.1143393</td><td>-0.2176228</td><td>-0.0118801</td><td> 3460.5330</td><td>1.266357e-03</td></tr>\n",
              "\t<tr><td>263</td><td>2019</td><td>Sudan               </td><td>263</td><td>SU</td><td>  8</td><td> 16528</td><td>-1.3654320</td><td>-1.6220590</td><td>-1.7017870</td><td>-1.1407210</td><td>  520.1662</td><td>4.840271e-04</td></tr>\n",
              "\t<tr><td>264</td><td>2019</td><td>Uganda              </td><td>264</td><td>UG</td><td>  2</td><td>  1086</td><td>-1.1693660</td><td>-0.5854658</td><td>-0.6912174</td><td>-0.3143390</td><td>  662.0798</td><td>1.841621e-03</td></tr>\n",
              "\t<tr><td>265</td><td>2019</td><td>Ukraine             </td><td>265</td><td>UP</td><td>  1</td><td> 18805</td><td>-0.7559236</td><td>-0.2970470</td><td>-1.4235760</td><td>-0.6982756</td><td> 3238.3320</td><td>5.317735e-05</td></tr>\n",
              "\t<tr><td>267</td><td>2019</td><td>United States       </td><td>267</td><td>US</td><td> 37</td><td>145670</td><td> 1.2156340</td><td> 1.4888450</td><td> 0.1349753</td><td> 1.4613600</td><td>55401.5900</td><td>2.539988e-04</td></tr>\n",
              "\t<tr><td>268</td><td>2019</td><td>Vietnam             </td><td>268</td><td>VM</td><td>  1</td><td>  2166</td><td>-0.5156115</td><td> 0.0383097</td><td> 0.0254956</td><td>-0.0165804</td><td> 2147.9940</td><td>4.616805e-04</td></tr>\n",
              "\t<tr><td>269</td><td>2020</td><td>Afghanistan         </td><td>269</td><td>AF</td><td>  1</td><td>  2426</td><td>-1.4754050</td><td>-1.5231150</td><td>-2.7298080</td><td>-1.8076970</td><td>  475.7459</td><td>4.122012e-04</td></tr>\n",
              "\t<tr><td>270</td><td>2020</td><td>Bangladesh          </td><td>270</td><td>BG</td><td>  5</td><td>  3674</td><td>-0.9782742</td><td>-0.7878783</td><td>-0.9173985</td><td>-0.5731802</td><td> 2032.3110</td><td>1.360915e-03</td></tr>\n",
              "\t<tr><td>271</td><td>2020</td><td>Belarus             </td><td>271</td><td>BO</td><td>  4</td><td> 15867</td><td>-0.1682376</td><td>-0.7293182</td><td>-0.7303549</td><td>-0.9959167</td><td> 5148.2140</td><td>2.520955e-04</td></tr>\n",
              "\t<tr><td>272</td><td>2020</td><td>Canada              </td><td>272</td><td>CA</td><td>  3</td><td> 11989</td><td> 1.5977070</td><td> 1.6443230</td><td> 1.1092460</td><td> 1.6551190</td><td>34808.0300</td><td>2.502294e-04</td></tr>\n",
              "\t<tr><td>273</td><td>2020</td><td>China               </td><td>273</td><td>CH</td><td>  4</td><td> 20424</td><td>-0.0658865</td><td> 0.6479592</td><td>-0.2910680</td><td>-0.0595887</td><td> 7540.2170</td><td>1.958480e-04</td></tr>\n",
              "\t<tr><td>275</td><td>2020</td><td>India               </td><td>275</td><td>IN</td><td>185</td><td> 50935</td><td>-0.2448308</td><td> 0.3865438</td><td>-0.8619818</td><td>-0.0177096</td><td> 1681.8790</td><td>3.632080e-03</td></tr>\n",
              "\t<tr><td>277</td><td>2020</td><td>Iraq                </td><td>277</td><td>IZ</td><td>  3</td><td>  9488</td><td>-1.2837750</td><td>-1.3267200</td><td>-2.5283430</td><td>-1.7536840</td><td> 3222.0770</td><td>3.161889e-04</td></tr>\n",
              "\t<tr><td>278</td><td>2020</td><td>Ireland             </td><td>278</td><td>EI</td><td>  1</td><td>  3095</td><td> 1.5668980</td><td> 1.4802190</td><td> 0.9751874</td><td> 1.4988850</td><td>41458.7900</td><td>3.231018e-04</td></tr>\n",
              "\t<tr><td>279</td><td>2020</td><td>Mexico              </td><td>279</td><td>MX</td><td>  3</td><td> 10851</td><td>-0.8476247</td><td>-0.1550609</td><td>-0.8500293</td><td>-0.6701080</td><td> 6267.6080</td><td>2.764722e-04</td></tr>\n",
              "\t<tr><td>281</td><td>2020</td><td>Nigeria             </td><td>281</td><td>NI</td><td>  6</td><td> 15934</td><td>-1.0968800</td><td>-1.0294750</td><td>-1.8593490</td><td>-0.8124883</td><td> 1730.3810</td><td>3.765533e-04</td></tr>\n",
              "\t<tr><td>282</td><td>2020</td><td>Pakistan            </td><td>282</td><td>PK</td><td> 26</td><td> 12976</td><td>-0.8403147</td><td>-0.5459959</td><td>-1.8533560</td><td>-0.6917597</td><td> 1100.0830</td><td>2.003699e-03</td></tr>\n",
              "\t<tr><td>283</td><td>2020</td><td>Poland              </td><td>283</td><td>PL</td><td>  1</td><td>  5657</td><td> 0.6507944</td><td> 0.3764992</td><td> 0.5743839</td><td> 0.5398862</td><td>13298.4800</td><td>1.767721e-04</td></tr>\n",
              "\t<tr><td>284</td><td>2020</td><td>Qatar               </td><td>284</td><td>QA</td><td>  1</td><td>   437</td><td> 0.7839146</td><td> 0.9082767</td><td> 0.6707044</td><td> 1.0009290</td><td>37833.3000</td><td>2.288330e-03</td></tr>\n",
              "\t<tr><td>286</td><td>2020</td><td>South Africa        </td><td>286</td><td>SF</td><td> 22</td><td>  8200</td><td> 0.0640369</td><td> 0.2993964</td><td>-0.2368584</td><td>-0.1154166</td><td> 4550.7670</td><td>2.682927e-03</td></tr>\n",
              "\t<tr><td>288</td><td>2020</td><td>Thailand            </td><td>288</td><td>TH</td><td>  1</td><td>  4359</td><td>-0.4222212</td><td> 0.3007005</td><td>-0.6245449</td><td> 0.1213088</td><td> 5716.3340</td><td>2.294104e-04</td></tr>\n",
              "\t<tr><td>289</td><td>2020</td><td>Tunisia             </td><td>289</td><td>TS</td><td>  4</td><td>  1530</td><td>-0.0680283</td><td>-0.2039159</td><td>-0.6339517</td><td> 0.1375134</td><td> 3357.4150</td><td>2.614379e-03</td></tr>\n",
              "\t<tr><td>290</td><td>2020</td><td>Ukraine             </td><td>290</td><td>UP</td><td>  2</td><td> 13476</td><td>-0.7841346</td><td>-0.3556524</td><td>-1.1640590</td><td>-0.6700379</td><td> 3286.5910</td><td>1.484120e-04</td></tr>\n",
              "\t<tr><td>291</td><td>2020</td><td>United Arab Emirates</td><td>291</td><td>AE</td><td>  1</td><td>   938</td><td> 1.1143960</td><td> 1.3255030</td><td> 0.6264683</td><td> 0.9169419</td><td>33375.8000</td><td>1.066098e-03</td></tr>\n",
              "\t<tr><td>293</td><td>2020</td><td>United States       </td><td>293</td><td>US</td><td> 19</td><td>246280</td><td> 1.0688380</td><td> 1.3189420</td><td>-0.0220327</td><td> 1.3680860</td><td>53302.9900</td><td>7.714796e-05</td></tr>\n",
              "\t<tr><td>294</td><td>2020</td><td>Vietnam             </td><td>294</td><td>VM</td><td>  2</td><td>  1857</td><td>-0.3527095</td><td> 0.2003077</td><td>-0.0734304</td><td>-0.1339320</td><td> 2235.4960</td><td>1.077006e-03</td></tr>\n",
              "</tbody>\n",
              "</table>\n"
            ],
            "text/markdown": "\nA data.frame: 234 × 13\n\n| X.1 &lt;int&gt; | Year &lt;int&gt; | Country &lt;chr&gt; | X &lt;int&gt; | CountryCode &lt;chr&gt; | StudentProtestCount &lt;int&gt; | AllProtestCount &lt;int&gt; | Control.of.Corruption..Estimate &lt;dbl&gt; | Government.Effectiveness..Estimate &lt;dbl&gt; | Political.Stability.and.Absence.of.Violence.Terrorism..Estimate &lt;dbl&gt; | Political.Stability.and.Absence.of.Violence.Terrorism..Estimate.1 &lt;dbl&gt; | income &lt;dbl&gt; | protest.ratio &lt;dbl&gt; |\n|---|---|---|---|---|---|---|---|---|---|---|---|---|\n|  2 | 2014 | South Africa     |  2 | SF |   3 |    93 | -0.0614517 |  0.3407953 | -0.1463890 |  0.1827036 |  5721.9670 | 3.225806e-02 |\n|  3 | 2015 | Afghanistan      |  3 | AF |   2 |  4820 | -1.3422160 | -1.3231760 | -2.5712220 | -1.5040860 |   516.9467 | 4.149378e-04 |\n|  4 | 2015 | Bangladesh       |  4 | BG |  29 |  4623 | -0.8084212 | -0.7238550 | -1.2120180 | -0.7513467 |  1219.1510 | 6.272983e-03 |\n|  5 | 2015 | Benin            |  5 | BN |   1 |   408 | -0.5508423 | -0.6198767 | -0.0135140 | -0.5360809 |   958.7780 | 2.450980e-03 |\n|  6 | 2015 | Canada           |  6 | CA |   3 | 10403 |  1.8871810 |  1.7617290 |  1.2746980 |  1.8419200 | 35263.2300 | 2.883784e-04 |\n|  7 | 2015 | Chile            |  7 | CI |   1 |  3535 |  1.2804150 |  1.0857820 |  0.4334392 |  1.3439570 | 11235.7900 | 2.828854e-04 |\n|  8 | 2015 | China            |  8 | CH |   8 | 16748 | -0.2820595 |  0.4075751 | -0.5502946 | -0.4098733 |  6039.7430 | 4.776690e-04 |\n| 11 | 2015 | France           | 11 | FR |   1 | 18638 |  1.2864980 |  1.4481220 |  0.1067064 |  1.3985060 | 30879.8400 | 5.365383e-05 |\n| 12 | 2015 | Ghana            | 12 | GH |   1 |  2105 | -0.1887468 | -0.2224221 | -0.0320993 |  0.1423040 |  1380.6500 | 4.750594e-04 |\n| 13 | 2015 | Greece           | 13 | GR |   3 | 11132 | -0.0873486 |  0.1770223 | -0.2302524 |  0.2769418 | 14989.5300 | 2.694934e-04 |\n| 14 | 2015 | Guatemala        | 14 | GT |   1 |  2558 | -0.7332659 | -0.7112794 | -0.6550602 | -0.9473416 |  3416.1090 | 3.909304e-04 |\n| 15 | 2015 | Haiti            | 15 | HA |   2 |  1648 | -1.2377180 | -2.0164660 | -0.6708382 | -1.1806910 |  1329.5260 | 1.213592e-03 |\n| 16 | 2015 | Honduras         | 16 | HO |   1 |  1887 | -0.5667320 | -0.8218005 | -0.4689144 | -0.9256861 |  2009.2390 | 5.299417e-04 |\n| 18 | 2015 | India            | 18 | IN | 143 | 46133 | -0.3519882 |  0.0900683 | -0.9484934 | -0.0474092 |  1405.1800 | 3.099733e-03 |\n| 20 | 2015 | Israel           | 20 | IS |   6 | 31487 |  0.9433662 |  1.3874480 | -1.0949130 |  1.1621570 | 30811.0900 | 1.905548e-04 |\n| 21 | 2015 | Kenya            | 21 | KE |  13 |  2696 | -1.0136170 | -0.3015067 | -1.2444060 | -0.4882332 |  1090.2630 | 4.821958e-03 |\n| 22 | 2015 | Lebanon          | 22 | LE |   1 |  5039 | -0.8838731 | -0.4745394 | -1.7025870 | -0.8257188 |  6204.1910 | 1.984521e-04 |\n| 23 | 2015 | Liberia          | 23 | LI |   8 |   623 | -0.6454833 | -1.3572740 | -0.8180257 | -0.8566647 |   389.9621 | 1.284109e-02 |\n| 24 | 2015 | Malawi           | 24 | MI |   1 |   458 | -0.7666516 | -0.6664509 |  0.0318961 | -0.3069656 |   299.8452 | 2.183406e-03 |\n| 25 | 2015 | Mexico           | 25 | MX |  11 | 12771 | -0.7660108 |  0.2092917 | -0.7986991 | -0.4471673 |  7625.2530 | 8.613264e-04 |\n| 26 | 2015 | Morocco          | 26 | MO |   2 |  3648 | -0.2202772 | -0.0623169 | -0.3414874 | -0.0890306 |  2513.5110 | 5.482456e-04 |\n| 28 | 2015 | Nepal            | 28 | NP |   2 |  4370 | -0.5780753 | -1.0538680 | -0.9983346 | -0.6769011 |   856.5601 | 4.576659e-04 |\n| 29 | 2015 | Netherlands      | 29 | NL |   8 |  3154 |  1.8751010 |  1.8591050 |  0.9261193 |  1.9429480 | 37497.2200 | 2.536462e-03 |\n| 30 | 2015 | Nigeria          | 30 | NI |  17 | 14582 | -1.0795420 | -0.9590327 | -1.9254430 | -0.9616836 |  2299.9110 | 1.165821e-03 |\n| 31 | 2015 | Pakistan         | 31 | PK |  20 | 17366 | -0.8108425 | -0.6677570 | -2.4827080 | -0.7667320 |  1256.6000 | 1.151676e-03 |\n| 32 | 2015 | Papua New Guinea | 32 | PP |   2 |   199 | -0.9399223 | -0.6067827 | -0.4221483 | -0.8693526 |  2195.4240 | 1.005025e-02 |\n| 33 | 2015 | Philippines      | 33 | RP |   2 |  4106 | -0.4534664 |  0.1119681 | -0.8556625 | -0.3429787 |  3045.6390 | 4.870921e-04 |\n| 34 | 2015 | Saudi Arabia     | 34 | SA |   2 |  6621 |  0.0522682 |  0.1996553 | -0.6263990 |  0.1177256 | 16895.9400 | 3.020692e-04 |\n| 35 | 2015 | South Africa     | 35 | SF | 157 | 11801 |  0.0252705 |  0.2915252 | -0.2129929 |  0.0881371 |  5190.8080 | 1.330396e-02 |\n| 36 | 2015 | Sri Lanka        | 36 | CE |   7 |  3268 | -0.3441233 | -0.0095256 |  0.0903681 |  0.0372322 |  3476.3950 | 2.141983e-03 |\n| ⋮ | ⋮ | ⋮ | ⋮ | ⋮ | ⋮ | ⋮ | ⋮ | ⋮ | ⋮ | ⋮ | ⋮ | ⋮ |\n| 257 | 2019 | Pakistan             | 257 | PK |  22 |  17629 | -0.8666273 | -0.6771356 | -2.2651870 | -0.6674315 |  1187.6320 | 1.247944e-03 |\n| 258 | 2019 | Philippines          | 258 | RP |   1 |   4072 | -0.5730505 |  0.0520084 | -0.9151124 | -0.4769835 |  3483.2760 | 2.455796e-04 |\n| 259 | 2019 | Poland               | 259 | PL |   2 |   4570 |  0.6421292 |  0.5348010 |  0.5636535 |  0.4312604 | 13293.6600 | 4.376368e-04 |\n| 260 | 2019 | South Africa         | 260 | SF |  58 |  11709 |  0.0729309 |  0.3676561 | -0.2676704 | -0.0761623 |  5423.6580 | 4.953455e-03 |\n| 262 | 2019 | Sri Lanka            | 262 | CE |   3 |   2369 | -0.2891587 | -0.1143393 | -0.2176228 | -0.0118801 |  3460.5330 | 1.266357e-03 |\n| 263 | 2019 | Sudan                | 263 | SU |   8 |  16528 | -1.3654320 | -1.6220590 | -1.7017870 | -1.1407210 |   520.1662 | 4.840271e-04 |\n| 264 | 2019 | Uganda               | 264 | UG |   2 |   1086 | -1.1693660 | -0.5854658 | -0.6912174 | -0.3143390 |   662.0798 | 1.841621e-03 |\n| 265 | 2019 | Ukraine              | 265 | UP |   1 |  18805 | -0.7559236 | -0.2970470 | -1.4235760 | -0.6982756 |  3238.3320 | 5.317735e-05 |\n| 267 | 2019 | United States        | 267 | US |  37 | 145670 |  1.2156340 |  1.4888450 |  0.1349753 |  1.4613600 | 55401.5900 | 2.539988e-04 |\n| 268 | 2019 | Vietnam              | 268 | VM |   1 |   2166 | -0.5156115 |  0.0383097 |  0.0254956 | -0.0165804 |  2147.9940 | 4.616805e-04 |\n| 269 | 2020 | Afghanistan          | 269 | AF |   1 |   2426 | -1.4754050 | -1.5231150 | -2.7298080 | -1.8076970 |   475.7459 | 4.122012e-04 |\n| 270 | 2020 | Bangladesh           | 270 | BG |   5 |   3674 | -0.9782742 | -0.7878783 | -0.9173985 | -0.5731802 |  2032.3110 | 1.360915e-03 |\n| 271 | 2020 | Belarus              | 271 | BO |   4 |  15867 | -0.1682376 | -0.7293182 | -0.7303549 | -0.9959167 |  5148.2140 | 2.520955e-04 |\n| 272 | 2020 | Canada               | 272 | CA |   3 |  11989 |  1.5977070 |  1.6443230 |  1.1092460 |  1.6551190 | 34808.0300 | 2.502294e-04 |\n| 273 | 2020 | China                | 273 | CH |   4 |  20424 | -0.0658865 |  0.6479592 | -0.2910680 | -0.0595887 |  7540.2170 | 1.958480e-04 |\n| 275 | 2020 | India                | 275 | IN | 185 |  50935 | -0.2448308 |  0.3865438 | -0.8619818 | -0.0177096 |  1681.8790 | 3.632080e-03 |\n| 277 | 2020 | Iraq                 | 277 | IZ |   3 |   9488 | -1.2837750 | -1.3267200 | -2.5283430 | -1.7536840 |  3222.0770 | 3.161889e-04 |\n| 278 | 2020 | Ireland              | 278 | EI |   1 |   3095 |  1.5668980 |  1.4802190 |  0.9751874 |  1.4988850 | 41458.7900 | 3.231018e-04 |\n| 279 | 2020 | Mexico               | 279 | MX |   3 |  10851 | -0.8476247 | -0.1550609 | -0.8500293 | -0.6701080 |  6267.6080 | 2.764722e-04 |\n| 281 | 2020 | Nigeria              | 281 | NI |   6 |  15934 | -1.0968800 | -1.0294750 | -1.8593490 | -0.8124883 |  1730.3810 | 3.765533e-04 |\n| 282 | 2020 | Pakistan             | 282 | PK |  26 |  12976 | -0.8403147 | -0.5459959 | -1.8533560 | -0.6917597 |  1100.0830 | 2.003699e-03 |\n| 283 | 2020 | Poland               | 283 | PL |   1 |   5657 |  0.6507944 |  0.3764992 |  0.5743839 |  0.5398862 | 13298.4800 | 1.767721e-04 |\n| 284 | 2020 | Qatar                | 284 | QA |   1 |    437 |  0.7839146 |  0.9082767 |  0.6707044 |  1.0009290 | 37833.3000 | 2.288330e-03 |\n| 286 | 2020 | South Africa         | 286 | SF |  22 |   8200 |  0.0640369 |  0.2993964 | -0.2368584 | -0.1154166 |  4550.7670 | 2.682927e-03 |\n| 288 | 2020 | Thailand             | 288 | TH |   1 |   4359 | -0.4222212 |  0.3007005 | -0.6245449 |  0.1213088 |  5716.3340 | 2.294104e-04 |\n| 289 | 2020 | Tunisia              | 289 | TS |   4 |   1530 | -0.0680283 | -0.2039159 | -0.6339517 |  0.1375134 |  3357.4150 | 2.614379e-03 |\n| 290 | 2020 | Ukraine              | 290 | UP |   2 |  13476 | -0.7841346 | -0.3556524 | -1.1640590 | -0.6700379 |  3286.5910 | 1.484120e-04 |\n| 291 | 2020 | United Arab Emirates | 291 | AE |   1 |    938 |  1.1143960 |  1.3255030 |  0.6264683 |  0.9169419 | 33375.8000 | 1.066098e-03 |\n| 293 | 2020 | United States        | 293 | US |  19 | 246280 |  1.0688380 |  1.3189420 | -0.0220327 |  1.3680860 | 53302.9900 | 7.714796e-05 |\n| 294 | 2020 | Vietnam              | 294 | VM |   2 |   1857 | -0.3527095 |  0.2003077 | -0.0734304 | -0.1339320 |  2235.4960 | 1.077006e-03 |\n\n",
            "text/latex": "A data.frame: 234 × 13\n\\begin{tabular}{lllllllllllll}\n X.1 & Year & Country & X & CountryCode & StudentProtestCount & AllProtestCount & Control.of.Corruption..Estimate & Government.Effectiveness..Estimate & Political.Stability.and.Absence.of.Violence.Terrorism..Estimate & Political.Stability.and.Absence.of.Violence.Terrorism..Estimate.1 & income & protest.ratio\\\\\n <int> & <int> & <chr> & <int> & <chr> & <int> & <int> & <dbl> & <dbl> & <dbl> & <dbl> & <dbl> & <dbl>\\\\\n\\hline\n\t  2 & 2014 & South Africa     &  2 & SF &   3 &    93 & -0.0614517 &  0.3407953 & -0.1463890 &  0.1827036 &  5721.9670 & 3.225806e-02\\\\\n\t  3 & 2015 & Afghanistan      &  3 & AF &   2 &  4820 & -1.3422160 & -1.3231760 & -2.5712220 & -1.5040860 &   516.9467 & 4.149378e-04\\\\\n\t  4 & 2015 & Bangladesh       &  4 & BG &  29 &  4623 & -0.8084212 & -0.7238550 & -1.2120180 & -0.7513467 &  1219.1510 & 6.272983e-03\\\\\n\t  5 & 2015 & Benin            &  5 & BN &   1 &   408 & -0.5508423 & -0.6198767 & -0.0135140 & -0.5360809 &   958.7780 & 2.450980e-03\\\\\n\t  6 & 2015 & Canada           &  6 & CA &   3 & 10403 &  1.8871810 &  1.7617290 &  1.2746980 &  1.8419200 & 35263.2300 & 2.883784e-04\\\\\n\t  7 & 2015 & Chile            &  7 & CI &   1 &  3535 &  1.2804150 &  1.0857820 &  0.4334392 &  1.3439570 & 11235.7900 & 2.828854e-04\\\\\n\t  8 & 2015 & China            &  8 & CH &   8 & 16748 & -0.2820595 &  0.4075751 & -0.5502946 & -0.4098733 &  6039.7430 & 4.776690e-04\\\\\n\t 11 & 2015 & France           & 11 & FR &   1 & 18638 &  1.2864980 &  1.4481220 &  0.1067064 &  1.3985060 & 30879.8400 & 5.365383e-05\\\\\n\t 12 & 2015 & Ghana            & 12 & GH &   1 &  2105 & -0.1887468 & -0.2224221 & -0.0320993 &  0.1423040 &  1380.6500 & 4.750594e-04\\\\\n\t 13 & 2015 & Greece           & 13 & GR &   3 & 11132 & -0.0873486 &  0.1770223 & -0.2302524 &  0.2769418 & 14989.5300 & 2.694934e-04\\\\\n\t 14 & 2015 & Guatemala        & 14 & GT &   1 &  2558 & -0.7332659 & -0.7112794 & -0.6550602 & -0.9473416 &  3416.1090 & 3.909304e-04\\\\\n\t 15 & 2015 & Haiti            & 15 & HA &   2 &  1648 & -1.2377180 & -2.0164660 & -0.6708382 & -1.1806910 &  1329.5260 & 1.213592e-03\\\\\n\t 16 & 2015 & Honduras         & 16 & HO &   1 &  1887 & -0.5667320 & -0.8218005 & -0.4689144 & -0.9256861 &  2009.2390 & 5.299417e-04\\\\\n\t 18 & 2015 & India            & 18 & IN & 143 & 46133 & -0.3519882 &  0.0900683 & -0.9484934 & -0.0474092 &  1405.1800 & 3.099733e-03\\\\\n\t 20 & 2015 & Israel           & 20 & IS &   6 & 31487 &  0.9433662 &  1.3874480 & -1.0949130 &  1.1621570 & 30811.0900 & 1.905548e-04\\\\\n\t 21 & 2015 & Kenya            & 21 & KE &  13 &  2696 & -1.0136170 & -0.3015067 & -1.2444060 & -0.4882332 &  1090.2630 & 4.821958e-03\\\\\n\t 22 & 2015 & Lebanon          & 22 & LE &   1 &  5039 & -0.8838731 & -0.4745394 & -1.7025870 & -0.8257188 &  6204.1910 & 1.984521e-04\\\\\n\t 23 & 2015 & Liberia          & 23 & LI &   8 &   623 & -0.6454833 & -1.3572740 & -0.8180257 & -0.8566647 &   389.9621 & 1.284109e-02\\\\\n\t 24 & 2015 & Malawi           & 24 & MI &   1 &   458 & -0.7666516 & -0.6664509 &  0.0318961 & -0.3069656 &   299.8452 & 2.183406e-03\\\\\n\t 25 & 2015 & Mexico           & 25 & MX &  11 & 12771 & -0.7660108 &  0.2092917 & -0.7986991 & -0.4471673 &  7625.2530 & 8.613264e-04\\\\\n\t 26 & 2015 & Morocco          & 26 & MO &   2 &  3648 & -0.2202772 & -0.0623169 & -0.3414874 & -0.0890306 &  2513.5110 & 5.482456e-04\\\\\n\t 28 & 2015 & Nepal            & 28 & NP &   2 &  4370 & -0.5780753 & -1.0538680 & -0.9983346 & -0.6769011 &   856.5601 & 4.576659e-04\\\\\n\t 29 & 2015 & Netherlands      & 29 & NL &   8 &  3154 &  1.8751010 &  1.8591050 &  0.9261193 &  1.9429480 & 37497.2200 & 2.536462e-03\\\\\n\t 30 & 2015 & Nigeria          & 30 & NI &  17 & 14582 & -1.0795420 & -0.9590327 & -1.9254430 & -0.9616836 &  2299.9110 & 1.165821e-03\\\\\n\t 31 & 2015 & Pakistan         & 31 & PK &  20 & 17366 & -0.8108425 & -0.6677570 & -2.4827080 & -0.7667320 &  1256.6000 & 1.151676e-03\\\\\n\t 32 & 2015 & Papua New Guinea & 32 & PP &   2 &   199 & -0.9399223 & -0.6067827 & -0.4221483 & -0.8693526 &  2195.4240 & 1.005025e-02\\\\\n\t 33 & 2015 & Philippines      & 33 & RP &   2 &  4106 & -0.4534664 &  0.1119681 & -0.8556625 & -0.3429787 &  3045.6390 & 4.870921e-04\\\\\n\t 34 & 2015 & Saudi Arabia     & 34 & SA &   2 &  6621 &  0.0522682 &  0.1996553 & -0.6263990 &  0.1177256 & 16895.9400 & 3.020692e-04\\\\\n\t 35 & 2015 & South Africa     & 35 & SF & 157 & 11801 &  0.0252705 &  0.2915252 & -0.2129929 &  0.0881371 &  5190.8080 & 1.330396e-02\\\\\n\t 36 & 2015 & Sri Lanka        & 36 & CE &   7 &  3268 & -0.3441233 & -0.0095256 &  0.0903681 &  0.0372322 &  3476.3950 & 2.141983e-03\\\\\n\t ⋮ & ⋮ & ⋮ & ⋮ & ⋮ & ⋮ & ⋮ & ⋮ & ⋮ & ⋮ & ⋮ & ⋮ & ⋮\\\\\n\t 257 & 2019 & Pakistan             & 257 & PK &  22 &  17629 & -0.8666273 & -0.6771356 & -2.2651870 & -0.6674315 &  1187.6320 & 1.247944e-03\\\\\n\t 258 & 2019 & Philippines          & 258 & RP &   1 &   4072 & -0.5730505 &  0.0520084 & -0.9151124 & -0.4769835 &  3483.2760 & 2.455796e-04\\\\\n\t 259 & 2019 & Poland               & 259 & PL &   2 &   4570 &  0.6421292 &  0.5348010 &  0.5636535 &  0.4312604 & 13293.6600 & 4.376368e-04\\\\\n\t 260 & 2019 & South Africa         & 260 & SF &  58 &  11709 &  0.0729309 &  0.3676561 & -0.2676704 & -0.0761623 &  5423.6580 & 4.953455e-03\\\\\n\t 262 & 2019 & Sri Lanka            & 262 & CE &   3 &   2369 & -0.2891587 & -0.1143393 & -0.2176228 & -0.0118801 &  3460.5330 & 1.266357e-03\\\\\n\t 263 & 2019 & Sudan                & 263 & SU &   8 &  16528 & -1.3654320 & -1.6220590 & -1.7017870 & -1.1407210 &   520.1662 & 4.840271e-04\\\\\n\t 264 & 2019 & Uganda               & 264 & UG &   2 &   1086 & -1.1693660 & -0.5854658 & -0.6912174 & -0.3143390 &   662.0798 & 1.841621e-03\\\\\n\t 265 & 2019 & Ukraine              & 265 & UP &   1 &  18805 & -0.7559236 & -0.2970470 & -1.4235760 & -0.6982756 &  3238.3320 & 5.317735e-05\\\\\n\t 267 & 2019 & United States        & 267 & US &  37 & 145670 &  1.2156340 &  1.4888450 &  0.1349753 &  1.4613600 & 55401.5900 & 2.539988e-04\\\\\n\t 268 & 2019 & Vietnam              & 268 & VM &   1 &   2166 & -0.5156115 &  0.0383097 &  0.0254956 & -0.0165804 &  2147.9940 & 4.616805e-04\\\\\n\t 269 & 2020 & Afghanistan          & 269 & AF &   1 &   2426 & -1.4754050 & -1.5231150 & -2.7298080 & -1.8076970 &   475.7459 & 4.122012e-04\\\\\n\t 270 & 2020 & Bangladesh           & 270 & BG &   5 &   3674 & -0.9782742 & -0.7878783 & -0.9173985 & -0.5731802 &  2032.3110 & 1.360915e-03\\\\\n\t 271 & 2020 & Belarus              & 271 & BO &   4 &  15867 & -0.1682376 & -0.7293182 & -0.7303549 & -0.9959167 &  5148.2140 & 2.520955e-04\\\\\n\t 272 & 2020 & Canada               & 272 & CA &   3 &  11989 &  1.5977070 &  1.6443230 &  1.1092460 &  1.6551190 & 34808.0300 & 2.502294e-04\\\\\n\t 273 & 2020 & China                & 273 & CH &   4 &  20424 & -0.0658865 &  0.6479592 & -0.2910680 & -0.0595887 &  7540.2170 & 1.958480e-04\\\\\n\t 275 & 2020 & India                & 275 & IN & 185 &  50935 & -0.2448308 &  0.3865438 & -0.8619818 & -0.0177096 &  1681.8790 & 3.632080e-03\\\\\n\t 277 & 2020 & Iraq                 & 277 & IZ &   3 &   9488 & -1.2837750 & -1.3267200 & -2.5283430 & -1.7536840 &  3222.0770 & 3.161889e-04\\\\\n\t 278 & 2020 & Ireland              & 278 & EI &   1 &   3095 &  1.5668980 &  1.4802190 &  0.9751874 &  1.4988850 & 41458.7900 & 3.231018e-04\\\\\n\t 279 & 2020 & Mexico               & 279 & MX &   3 &  10851 & -0.8476247 & -0.1550609 & -0.8500293 & -0.6701080 &  6267.6080 & 2.764722e-04\\\\\n\t 281 & 2020 & Nigeria              & 281 & NI &   6 &  15934 & -1.0968800 & -1.0294750 & -1.8593490 & -0.8124883 &  1730.3810 & 3.765533e-04\\\\\n\t 282 & 2020 & Pakistan             & 282 & PK &  26 &  12976 & -0.8403147 & -0.5459959 & -1.8533560 & -0.6917597 &  1100.0830 & 2.003699e-03\\\\\n\t 283 & 2020 & Poland               & 283 & PL &   1 &   5657 &  0.6507944 &  0.3764992 &  0.5743839 &  0.5398862 & 13298.4800 & 1.767721e-04\\\\\n\t 284 & 2020 & Qatar                & 284 & QA &   1 &    437 &  0.7839146 &  0.9082767 &  0.6707044 &  1.0009290 & 37833.3000 & 2.288330e-03\\\\\n\t 286 & 2020 & South Africa         & 286 & SF &  22 &   8200 &  0.0640369 &  0.2993964 & -0.2368584 & -0.1154166 &  4550.7670 & 2.682927e-03\\\\\n\t 288 & 2020 & Thailand             & 288 & TH &   1 &   4359 & -0.4222212 &  0.3007005 & -0.6245449 &  0.1213088 &  5716.3340 & 2.294104e-04\\\\\n\t 289 & 2020 & Tunisia              & 289 & TS &   4 &   1530 & -0.0680283 & -0.2039159 & -0.6339517 &  0.1375134 &  3357.4150 & 2.614379e-03\\\\\n\t 290 & 2020 & Ukraine              & 290 & UP &   2 &  13476 & -0.7841346 & -0.3556524 & -1.1640590 & -0.6700379 &  3286.5910 & 1.484120e-04\\\\\n\t 291 & 2020 & United Arab Emirates & 291 & AE &   1 &    938 &  1.1143960 &  1.3255030 &  0.6264683 &  0.9169419 & 33375.8000 & 1.066098e-03\\\\\n\t 293 & 2020 & United States        & 293 & US &  19 & 246280 &  1.0688380 &  1.3189420 & -0.0220327 &  1.3680860 & 53302.9900 & 7.714796e-05\\\\\n\t 294 & 2020 & Vietnam              & 294 & VM &   2 &   1857 & -0.3527095 &  0.2003077 & -0.0734304 & -0.1339320 &  2235.4960 & 1.077006e-03\\\\\n\\end{tabular}\n",
            "text/plain": [
              "    X.1 Year Country              X   CountryCode StudentProtestCount\n",
              "1    2  2014 South Africa          2  SF            3                \n",
              "2    3  2015 Afghanistan           3  AF            2                \n",
              "3    4  2015 Bangladesh            4  BG           29                \n",
              "4    5  2015 Benin                 5  BN            1                \n",
              "5    6  2015 Canada                6  CA            3                \n",
              "6    7  2015 Chile                 7  CI            1                \n",
              "7    8  2015 China                 8  CH            8                \n",
              "8   11  2015 France               11  FR            1                \n",
              "9   12  2015 Ghana                12  GH            1                \n",
              "10  13  2015 Greece               13  GR            3                \n",
              "11  14  2015 Guatemala            14  GT            1                \n",
              "12  15  2015 Haiti                15  HA            2                \n",
              "13  16  2015 Honduras             16  HO            1                \n",
              "14  18  2015 India                18  IN          143                \n",
              "15  20  2015 Israel               20  IS            6                \n",
              "16  21  2015 Kenya                21  KE           13                \n",
              "17  22  2015 Lebanon              22  LE            1                \n",
              "18  23  2015 Liberia              23  LI            8                \n",
              "19  24  2015 Malawi               24  MI            1                \n",
              "20  25  2015 Mexico               25  MX           11                \n",
              "21  26  2015 Morocco              26  MO            2                \n",
              "22  28  2015 Nepal                28  NP            2                \n",
              "23  29  2015 Netherlands          29  NL            8                \n",
              "24  30  2015 Nigeria              30  NI           17                \n",
              "25  31  2015 Pakistan             31  PK           20                \n",
              "26  32  2015 Papua New Guinea     32  PP            2                \n",
              "27  33  2015 Philippines          33  RP            2                \n",
              "28  34  2015 Saudi Arabia         34  SA            2                \n",
              "29  35  2015 South Africa         35  SF          157                \n",
              "30  36  2015 Sri Lanka            36  CE            7                \n",
              "⋮   ⋮   ⋮    ⋮                    ⋮   ⋮           ⋮                  \n",
              "205 257 2019 Pakistan             257 PK           22                \n",
              "206 258 2019 Philippines          258 RP            1                \n",
              "207 259 2019 Poland               259 PL            2                \n",
              "208 260 2019 South Africa         260 SF           58                \n",
              "209 262 2019 Sri Lanka            262 CE            3                \n",
              "210 263 2019 Sudan                263 SU            8                \n",
              "211 264 2019 Uganda               264 UG            2                \n",
              "212 265 2019 Ukraine              265 UP            1                \n",
              "213 267 2019 United States        267 US           37                \n",
              "214 268 2019 Vietnam              268 VM            1                \n",
              "215 269 2020 Afghanistan          269 AF            1                \n",
              "216 270 2020 Bangladesh           270 BG            5                \n",
              "217 271 2020 Belarus              271 BO            4                \n",
              "218 272 2020 Canada               272 CA            3                \n",
              "219 273 2020 China                273 CH            4                \n",
              "220 275 2020 India                275 IN          185                \n",
              "221 277 2020 Iraq                 277 IZ            3                \n",
              "222 278 2020 Ireland              278 EI            1                \n",
              "223 279 2020 Mexico               279 MX            3                \n",
              "224 281 2020 Nigeria              281 NI            6                \n",
              "225 282 2020 Pakistan             282 PK           26                \n",
              "226 283 2020 Poland               283 PL            1                \n",
              "227 284 2020 Qatar                284 QA            1                \n",
              "228 286 2020 South Africa         286 SF           22                \n",
              "229 288 2020 Thailand             288 TH            1                \n",
              "230 289 2020 Tunisia              289 TS            4                \n",
              "231 290 2020 Ukraine              290 UP            2                \n",
              "232 291 2020 United Arab Emirates 291 AE            1                \n",
              "233 293 2020 United States        293 US           19                \n",
              "234 294 2020 Vietnam              294 VM            2                \n",
              "    AllProtestCount Control.of.Corruption..Estimate\n",
              "1      93           -0.0614517                     \n",
              "2    4820           -1.3422160                     \n",
              "3    4623           -0.8084212                     \n",
              "4     408           -0.5508423                     \n",
              "5   10403            1.8871810                     \n",
              "6    3535            1.2804150                     \n",
              "7   16748           -0.2820595                     \n",
              "8   18638            1.2864980                     \n",
              "9    2105           -0.1887468                     \n",
              "10  11132           -0.0873486                     \n",
              "11   2558           -0.7332659                     \n",
              "12   1648           -1.2377180                     \n",
              "13   1887           -0.5667320                     \n",
              "14  46133           -0.3519882                     \n",
              "15  31487            0.9433662                     \n",
              "16   2696           -1.0136170                     \n",
              "17   5039           -0.8838731                     \n",
              "18    623           -0.6454833                     \n",
              "19    458           -0.7666516                     \n",
              "20  12771           -0.7660108                     \n",
              "21   3648           -0.2202772                     \n",
              "22   4370           -0.5780753                     \n",
              "23   3154            1.8751010                     \n",
              "24  14582           -1.0795420                     \n",
              "25  17366           -0.8108425                     \n",
              "26    199           -0.9399223                     \n",
              "27   4106           -0.4534664                     \n",
              "28   6621            0.0522682                     \n",
              "29  11801            0.0252705                     \n",
              "30   3268           -0.3441233                     \n",
              "⋮   ⋮               ⋮                              \n",
              "205  17629          -0.8666273                     \n",
              "206   4072          -0.5730505                     \n",
              "207   4570           0.6421292                     \n",
              "208  11709           0.0729309                     \n",
              "209   2369          -0.2891587                     \n",
              "210  16528          -1.3654320                     \n",
              "211   1086          -1.1693660                     \n",
              "212  18805          -0.7559236                     \n",
              "213 145670           1.2156340                     \n",
              "214   2166          -0.5156115                     \n",
              "215   2426          -1.4754050                     \n",
              "216   3674          -0.9782742                     \n",
              "217  15867          -0.1682376                     \n",
              "218  11989           1.5977070                     \n",
              "219  20424          -0.0658865                     \n",
              "220  50935          -0.2448308                     \n",
              "221   9488          -1.2837750                     \n",
              "222   3095           1.5668980                     \n",
              "223  10851          -0.8476247                     \n",
              "224  15934          -1.0968800                     \n",
              "225  12976          -0.8403147                     \n",
              "226   5657           0.6507944                     \n",
              "227    437           0.7839146                     \n",
              "228   8200           0.0640369                     \n",
              "229   4359          -0.4222212                     \n",
              "230   1530          -0.0680283                     \n",
              "231  13476          -0.7841346                     \n",
              "232    938           1.1143960                     \n",
              "233 246280           1.0688380                     \n",
              "234   1857          -0.3527095                     \n",
              "    Government.Effectiveness..Estimate\n",
              "1    0.3407953                        \n",
              "2   -1.3231760                        \n",
              "3   -0.7238550                        \n",
              "4   -0.6198767                        \n",
              "5    1.7617290                        \n",
              "6    1.0857820                        \n",
              "7    0.4075751                        \n",
              "8    1.4481220                        \n",
              "9   -0.2224221                        \n",
              "10   0.1770223                        \n",
              "11  -0.7112794                        \n",
              "12  -2.0164660                        \n",
              "13  -0.8218005                        \n",
              "14   0.0900683                        \n",
              "15   1.3874480                        \n",
              "16  -0.3015067                        \n",
              "17  -0.4745394                        \n",
              "18  -1.3572740                        \n",
              "19  -0.6664509                        \n",
              "20   0.2092917                        \n",
              "21  -0.0623169                        \n",
              "22  -1.0538680                        \n",
              "23   1.8591050                        \n",
              "24  -0.9590327                        \n",
              "25  -0.6677570                        \n",
              "26  -0.6067827                        \n",
              "27   0.1119681                        \n",
              "28   0.1996553                        \n",
              "29   0.2915252                        \n",
              "30  -0.0095256                        \n",
              "⋮   ⋮                                 \n",
              "205 -0.6771356                        \n",
              "206  0.0520084                        \n",
              "207  0.5348010                        \n",
              "208  0.3676561                        \n",
              "209 -0.1143393                        \n",
              "210 -1.6220590                        \n",
              "211 -0.5854658                        \n",
              "212 -0.2970470                        \n",
              "213  1.4888450                        \n",
              "214  0.0383097                        \n",
              "215 -1.5231150                        \n",
              "216 -0.7878783                        \n",
              "217 -0.7293182                        \n",
              "218  1.6443230                        \n",
              "219  0.6479592                        \n",
              "220  0.3865438                        \n",
              "221 -1.3267200                        \n",
              "222  1.4802190                        \n",
              "223 -0.1550609                        \n",
              "224 -1.0294750                        \n",
              "225 -0.5459959                        \n",
              "226  0.3764992                        \n",
              "227  0.9082767                        \n",
              "228  0.2993964                        \n",
              "229  0.3007005                        \n",
              "230 -0.2039159                        \n",
              "231 -0.3556524                        \n",
              "232  1.3255030                        \n",
              "233  1.3189420                        \n",
              "234  0.2003077                        \n",
              "    Political.Stability.and.Absence.of.Violence.Terrorism..Estimate\n",
              "1   -0.1463890                                                     \n",
              "2   -2.5712220                                                     \n",
              "3   -1.2120180                                                     \n",
              "4   -0.0135140                                                     \n",
              "5    1.2746980                                                     \n",
              "6    0.4334392                                                     \n",
              "7   -0.5502946                                                     \n",
              "8    0.1067064                                                     \n",
              "9   -0.0320993                                                     \n",
              "10  -0.2302524                                                     \n",
              "11  -0.6550602                                                     \n",
              "12  -0.6708382                                                     \n",
              "13  -0.4689144                                                     \n",
              "14  -0.9484934                                                     \n",
              "15  -1.0949130                                                     \n",
              "16  -1.2444060                                                     \n",
              "17  -1.7025870                                                     \n",
              "18  -0.8180257                                                     \n",
              "19   0.0318961                                                     \n",
              "20  -0.7986991                                                     \n",
              "21  -0.3414874                                                     \n",
              "22  -0.9983346                                                     \n",
              "23   0.9261193                                                     \n",
              "24  -1.9254430                                                     \n",
              "25  -2.4827080                                                     \n",
              "26  -0.4221483                                                     \n",
              "27  -0.8556625                                                     \n",
              "28  -0.6263990                                                     \n",
              "29  -0.2129929                                                     \n",
              "30   0.0903681                                                     \n",
              "⋮   ⋮                                                              \n",
              "205 -2.2651870                                                     \n",
              "206 -0.9151124                                                     \n",
              "207  0.5636535                                                     \n",
              "208 -0.2676704                                                     \n",
              "209 -0.2176228                                                     \n",
              "210 -1.7017870                                                     \n",
              "211 -0.6912174                                                     \n",
              "212 -1.4235760                                                     \n",
              "213  0.1349753                                                     \n",
              "214  0.0254956                                                     \n",
              "215 -2.7298080                                                     \n",
              "216 -0.9173985                                                     \n",
              "217 -0.7303549                                                     \n",
              "218  1.1092460                                                     \n",
              "219 -0.2910680                                                     \n",
              "220 -0.8619818                                                     \n",
              "221 -2.5283430                                                     \n",
              "222  0.9751874                                                     \n",
              "223 -0.8500293                                                     \n",
              "224 -1.8593490                                                     \n",
              "225 -1.8533560                                                     \n",
              "226  0.5743839                                                     \n",
              "227  0.6707044                                                     \n",
              "228 -0.2368584                                                     \n",
              "229 -0.6245449                                                     \n",
              "230 -0.6339517                                                     \n",
              "231 -1.1640590                                                     \n",
              "232  0.6264683                                                     \n",
              "233 -0.0220327                                                     \n",
              "234 -0.0734304                                                     \n",
              "    Political.Stability.and.Absence.of.Violence.Terrorism..Estimate.1\n",
              "1    0.1827036                                                       \n",
              "2   -1.5040860                                                       \n",
              "3   -0.7513467                                                       \n",
              "4   -0.5360809                                                       \n",
              "5    1.8419200                                                       \n",
              "6    1.3439570                                                       \n",
              "7   -0.4098733                                                       \n",
              "8    1.3985060                                                       \n",
              "9    0.1423040                                                       \n",
              "10   0.2769418                                                       \n",
              "11  -0.9473416                                                       \n",
              "12  -1.1806910                                                       \n",
              "13  -0.9256861                                                       \n",
              "14  -0.0474092                                                       \n",
              "15   1.1621570                                                       \n",
              "16  -0.4882332                                                       \n",
              "17  -0.8257188                                                       \n",
              "18  -0.8566647                                                       \n",
              "19  -0.3069656                                                       \n",
              "20  -0.4471673                                                       \n",
              "21  -0.0890306                                                       \n",
              "22  -0.6769011                                                       \n",
              "23   1.9429480                                                       \n",
              "24  -0.9616836                                                       \n",
              "25  -0.7667320                                                       \n",
              "26  -0.8693526                                                       \n",
              "27  -0.3429787                                                       \n",
              "28   0.1177256                                                       \n",
              "29   0.0881371                                                       \n",
              "30   0.0372322                                                       \n",
              "⋮   ⋮                                                                \n",
              "205 -0.6674315                                                       \n",
              "206 -0.4769835                                                       \n",
              "207  0.4312604                                                       \n",
              "208 -0.0761623                                                       \n",
              "209 -0.0118801                                                       \n",
              "210 -1.1407210                                                       \n",
              "211 -0.3143390                                                       \n",
              "212 -0.6982756                                                       \n",
              "213  1.4613600                                                       \n",
              "214 -0.0165804                                                       \n",
              "215 -1.8076970                                                       \n",
              "216 -0.5731802                                                       \n",
              "217 -0.9959167                                                       \n",
              "218  1.6551190                                                       \n",
              "219 -0.0595887                                                       \n",
              "220 -0.0177096                                                       \n",
              "221 -1.7536840                                                       \n",
              "222  1.4988850                                                       \n",
              "223 -0.6701080                                                       \n",
              "224 -0.8124883                                                       \n",
              "225 -0.6917597                                                       \n",
              "226  0.5398862                                                       \n",
              "227  1.0009290                                                       \n",
              "228 -0.1154166                                                       \n",
              "229  0.1213088                                                       \n",
              "230  0.1375134                                                       \n",
              "231 -0.6700379                                                       \n",
              "232  0.9169419                                                       \n",
              "233  1.3680860                                                       \n",
              "234 -0.1339320                                                       \n",
              "    income     protest.ratio\n",
              "1    5721.9670 3.225806e-02 \n",
              "2     516.9467 4.149378e-04 \n",
              "3    1219.1510 6.272983e-03 \n",
              "4     958.7780 2.450980e-03 \n",
              "5   35263.2300 2.883784e-04 \n",
              "6   11235.7900 2.828854e-04 \n",
              "7    6039.7430 4.776690e-04 \n",
              "8   30879.8400 5.365383e-05 \n",
              "9    1380.6500 4.750594e-04 \n",
              "10  14989.5300 2.694934e-04 \n",
              "11   3416.1090 3.909304e-04 \n",
              "12   1329.5260 1.213592e-03 \n",
              "13   2009.2390 5.299417e-04 \n",
              "14   1405.1800 3.099733e-03 \n",
              "15  30811.0900 1.905548e-04 \n",
              "16   1090.2630 4.821958e-03 \n",
              "17   6204.1910 1.984521e-04 \n",
              "18    389.9621 1.284109e-02 \n",
              "19    299.8452 2.183406e-03 \n",
              "20   7625.2530 8.613264e-04 \n",
              "21   2513.5110 5.482456e-04 \n",
              "22    856.5601 4.576659e-04 \n",
              "23  37497.2200 2.536462e-03 \n",
              "24   2299.9110 1.165821e-03 \n",
              "25   1256.6000 1.151676e-03 \n",
              "26   2195.4240 1.005025e-02 \n",
              "27   3045.6390 4.870921e-04 \n",
              "28  16895.9400 3.020692e-04 \n",
              "29   5190.8080 1.330396e-02 \n",
              "30   3476.3950 2.141983e-03 \n",
              "⋮   ⋮          ⋮            \n",
              "205  1187.6320 1.247944e-03 \n",
              "206  3483.2760 2.455796e-04 \n",
              "207 13293.6600 4.376368e-04 \n",
              "208  5423.6580 4.953455e-03 \n",
              "209  3460.5330 1.266357e-03 \n",
              "210   520.1662 4.840271e-04 \n",
              "211   662.0798 1.841621e-03 \n",
              "212  3238.3320 5.317735e-05 \n",
              "213 55401.5900 2.539988e-04 \n",
              "214  2147.9940 4.616805e-04 \n",
              "215   475.7459 4.122012e-04 \n",
              "216  2032.3110 1.360915e-03 \n",
              "217  5148.2140 2.520955e-04 \n",
              "218 34808.0300 2.502294e-04 \n",
              "219  7540.2170 1.958480e-04 \n",
              "220  1681.8790 3.632080e-03 \n",
              "221  3222.0770 3.161889e-04 \n",
              "222 41458.7900 3.231018e-04 \n",
              "223  6267.6080 2.764722e-04 \n",
              "224  1730.3810 3.765533e-04 \n",
              "225  1100.0830 2.003699e-03 \n",
              "226 13298.4800 1.767721e-04 \n",
              "227 37833.3000 2.288330e-03 \n",
              "228  4550.7670 2.682927e-03 \n",
              "229  5716.3340 2.294104e-04 \n",
              "230  3357.4150 2.614379e-03 \n",
              "231  3286.5910 1.484120e-04 \n",
              "232 33375.8000 1.066098e-03 \n",
              "233 53302.9900 7.714796e-05 \n",
              "234  2235.4960 1.077006e-03 "
            ]
          },
          "metadata": {}
        }
      ]
    },
    {
      "cell_type": "code",
      "source": [
        "list_countries = (unique(cleaneddata[c(\"Country\")]))"
      ],
      "metadata": {
        "id": "cf4BE3MIrE0m"
      },
      "execution_count": null,
      "outputs": []
    },
    {
      "cell_type": "code",
      "source": [
        "n <- dim(list_countries)"
      ],
      "metadata": {
        "id": "2gy_bArt6wqN"
      },
      "execution_count": null,
      "outputs": []
    },
    {
      "cell_type": "markdown",
      "source": [
        "### Plotting the number of protest yearly per country."
      ],
      "metadata": {
        "id": "ow_dva-f7NVm"
      }
    },
    {
      "cell_type": "code",
      "source": [
        "list_countries[1:10,]"
      ],
      "metadata": {
        "colab": {
          "base_uri": "https://localhost:8080/",
          "height": 34
        },
        "id": "MslFqdMk6ysE",
        "outputId": "2d0eb8d8-ef39-4d56-b087-7b6aac225c85"
      },
      "execution_count": null,
      "outputs": [
        {
          "output_type": "display_data",
          "data": {
            "text/html": [
              "<style>\n",
              ".list-inline {list-style: none; margin:0; padding: 0}\n",
              ".list-inline>li {display: inline-block}\n",
              ".list-inline>li:not(:last-child)::after {content: \"\\00b7\"; padding: 0 .5ex}\n",
              "</style>\n",
              "<ol class=list-inline><li>'South Africa'</li><li>'Afghanistan'</li><li>'Bangladesh'</li><li>'Benin'</li><li>'Canada'</li><li>'Chile'</li><li>'China'</li><li>'France'</li><li>'Ghana'</li><li>'Greece'</li></ol>\n"
            ],
            "text/markdown": "1. 'South Africa'\n2. 'Afghanistan'\n3. 'Bangladesh'\n4. 'Benin'\n5. 'Canada'\n6. 'Chile'\n7. 'China'\n8. 'France'\n9. 'Ghana'\n10. 'Greece'\n\n\n",
            "text/latex": "\\begin{enumerate*}\n\\item 'South Africa'\n\\item 'Afghanistan'\n\\item 'Bangladesh'\n\\item 'Benin'\n\\item 'Canada'\n\\item 'Chile'\n\\item 'China'\n\\item 'France'\n\\item 'Ghana'\n\\item 'Greece'\n\\end{enumerate*}\n",
            "text/plain": [
              " [1] \"South Africa\" \"Afghanistan\"  \"Bangladesh\"   \"Benin\"        \"Canada\"      \n",
              " [6] \"Chile\"        \"China\"        \"France\"       \"Ghana\"        \"Greece\"      "
            ]
          },
          "metadata": {}
        }
      ]
    },
    {
      "cell_type": "code",
      "source": [
        "plot(x= x1[x2 == \"mutual\"], y= Y[x2 == \"mutual\"], xlab= \"Size\", ylab= \"Speed\",\n",
        "col= \"blue\", xlim= c(min(x1), max(x1)), ylim= c(min(Y), max(Y)))\n",
        "points(x= x1[x2 == \"stock\"], y= Y[x2 == \"stock\"], xlab= \"Size\", ylab= \"Speed\",\n",
        "col= \"red\")"
      ],
      "metadata": {
        "id": "kkGjv8VR67Lm"
      },
      "execution_count": null,
      "outputs": []
    },
    {
      "cell_type": "code",
      "source": [
        "cols = c('aquamarine','blue', 'blueviolet', 'brown1', 'darkgreen', 'deeppink1', 'orange1', 'yellow', 'black','darkgoldenrod')"
      ],
      "metadata": {
        "id": "uE4Zwikd-1C1"
      },
      "execution_count": null,
      "outputs": []
    },
    {
      "cell_type": "code",
      "source": [
        "colnames(cleaneddata)"
      ],
      "metadata": {
        "colab": {
          "base_uri": "https://localhost:8080/",
          "height": 86
        },
        "id": "deUAYDWM_qiA",
        "outputId": "6fecdcb3-22bb-4e6a-d0b2-6787d2a9829f"
      },
      "execution_count": null,
      "outputs": [
        {
          "output_type": "display_data",
          "data": {
            "text/html": [
              "<style>\n",
              ".list-inline {list-style: none; margin:0; padding: 0}\n",
              ".list-inline>li {display: inline-block}\n",
              ".list-inline>li:not(:last-child)::after {content: \"\\00b7\"; padding: 0 .5ex}\n",
              "</style>\n",
              "<ol class=list-inline><li>'X.1'</li><li>'Year'</li><li>'Country'</li><li>'X'</li><li>'CountryCode'</li><li>'StudentProtestCount'</li><li>'AllProtestCount'</li><li>'Control.of.Corruption..Estimate'</li><li>'Government.Effectiveness..Estimate'</li><li>'Political.Stability.and.Absence.of.Violence.Terrorism..Estimate'</li><li>'Political.Stability.and.Absence.of.Violence.Terrorism..Estimate.1'</li><li>'income'</li></ol>\n"
            ],
            "text/markdown": "1. 'X.1'\n2. 'Year'\n3. 'Country'\n4. 'X'\n5. 'CountryCode'\n6. 'StudentProtestCount'\n7. 'AllProtestCount'\n8. 'Control.of.Corruption..Estimate'\n9. 'Government.Effectiveness..Estimate'\n10. 'Political.Stability.and.Absence.of.Violence.Terrorism..Estimate'\n11. 'Political.Stability.and.Absence.of.Violence.Terrorism..Estimate.1'\n12. 'income'\n\n\n",
            "text/latex": "\\begin{enumerate*}\n\\item 'X.1'\n\\item 'Year'\n\\item 'Country'\n\\item 'X'\n\\item 'CountryCode'\n\\item 'StudentProtestCount'\n\\item 'AllProtestCount'\n\\item 'Control.of.Corruption..Estimate'\n\\item 'Government.Effectiveness..Estimate'\n\\item 'Political.Stability.and.Absence.of.Violence.Terrorism..Estimate'\n\\item 'Political.Stability.and.Absence.of.Violence.Terrorism..Estimate.1'\n\\item 'income'\n\\end{enumerate*}\n",
            "text/plain": [
              " [1] \"X.1\"                                                              \n",
              " [2] \"Year\"                                                             \n",
              " [3] \"Country\"                                                          \n",
              " [4] \"X\"                                                                \n",
              " [5] \"CountryCode\"                                                      \n",
              " [6] \"StudentProtestCount\"                                              \n",
              " [7] \"AllProtestCount\"                                                  \n",
              " [8] \"Control.of.Corruption..Estimate\"                                  \n",
              " [9] \"Government.Effectiveness..Estimate\"                               \n",
              "[10] \"Political.Stability.and.Absence.of.Violence.Terrorism..Estimate\"  \n",
              "[11] \"Political.Stability.and.Absence.of.Violence.Terrorism..Estimate.1\"\n",
              "[12] \"income\"                                                           "
            ]
          },
          "metadata": {}
        }
      ]
    },
    {
      "cell_type": "code",
      "source": [
        ""
      ],
      "metadata": {
        "colab": {
          "base_uri": "https://localhost:8080/",
          "height": 34
        },
        "id": "fAaMRTrUNJxy",
        "outputId": "0f8e099f-c8f8-4d56-aa04-857cb24e3b27"
      },
      "execution_count": null,
      "outputs": [
        {
          "output_type": "display_data",
          "data": {
            "text/html": [
              "'rplot1.jpg'"
            ],
            "text/markdown": "'rplot1.jpg'",
            "text/latex": "'rplot1.jpg'",
            "text/plain": [
              "[1] \"rplot1.jpg\""
            ]
          },
          "metadata": {}
        }
      ]
    },
    {
      "cell_type": "code",
      "source": [
        "paste(\"Today is\", date())\n"
      ],
      "metadata": {
        "colab": {
          "base_uri": "https://localhost:8080/",
          "height": 34
        },
        "id": "pOMxWlr_NgcG",
        "outputId": "7a15afe9-1226-4998-c0af-c3ff04e11c39"
      },
      "execution_count": null,
      "outputs": [
        {
          "output_type": "display_data",
          "data": {
            "text/html": [
              "'Today is Tue Jul 26 20:32:32 2022'"
            ],
            "text/markdown": "'Today is Tue Jul 26 20:32:32 2022'",
            "text/latex": "'Today is Tue Jul 26 20:32:32 2022'",
            "text/plain": [
              "[1] \"Today is Tue Jul 26 20:32:32 2022\""
            ]
          },
          "metadata": {}
        }
      ]
    },
    {
      "cell_type": "code",
      "source": [
        "for (i in 0:7){\n",
        "jpeg(paste( 'StudentProtestCount',i, '.jpg',sep = '', collapse = NULL))\n",
        "plot(x =  cleaneddata$Year[cleaneddata$Country == list_countries[10*i +1,1]],y = cleaneddata$StudentProtestCount[cleaneddata$Country == list_countries[10*i +1,1]], main=\"Student protest per year per country\", xlab = 'Year', ylab = 'Student Protest Count', col = cols[1], pch = 20, xlim= c(2013, 2021), ylim= c(min(cleaneddata$StudentProtestCount), max(cleaneddata$StudentProtestCount)))\n",
        "for (j in 2:10){\n",
        "points(x =  cleaneddata$Year[cleaneddata$Country == list_countries[10*i +j,1 ]] ,y = cleaneddata$StudentProtestCount[cleaneddata$Country == list_countries[10*i +j,1]], main=\"Student protest per year per country\", xlab = 'Year', ylab = 'Student Protest Count', col = cols[j], pch = 20)\n",
        "}\n",
        "\n",
        "legend(\"topright\", legend =  list_countries[(10*i+1):(10*i +10),1],\n",
        "      lwd = 3, col = cols)\n",
        "dev.off()            \n",
        "}\n",
        "\n"
      ],
      "metadata": {
        "id": "81URMK5X_hCB"
      },
      "execution_count": null,
      "outputs": []
    },
    {
      "cell_type": "code",
      "source": [
        ""
      ],
      "metadata": {
        "id": "lp73oGYSLWCt"
      },
      "execution_count": null,
      "outputs": []
    },
    {
      "cell_type": "markdown",
      "source": [
        "### Plotting the ratio Studentprotest/Allprotest per year per country"
      ],
      "metadata": {
        "id": "ptGXNv9MKjhC"
      }
    },
    {
      "cell_type": "code",
      "source": [
        "for (i in 0:7){\n",
        "jpeg(paste( 'ProtestRatio',i, '.jpg',sep = '', collapse = NULL))\n",
        "plot(x =  cleaneddata$Year[cleaneddata$Country == list_countries[10*i +1,1]],y = cleaneddata$protest.ratio[cleaneddata$Country == list_countries[10*i +1,1]], main=\" Ratio of Student protest per year per country\", xlab = 'Year', ylab = 'Student Protest/All protests', col = cols[1], pch = 20, xlim= c(2013, 2021), ylim= c(0, 1))\n",
        "for (j in 2:10){\n",
        "points(x =  cleaneddata$Year[cleaneddata$Country == list_countries[10*i +j,1 ]] ,y = cleaneddata$protest.ratio[cleaneddata$Country == list_countries[10*i +j,1]], main=\"Ratio of Student protest  per year per country\", xlab = 'Year', ylab = 'Student Protest/All protests', col = cols[j], pch = 20)\n",
        "}\n",
        "\n",
        "legend(\"topright\", legend =  list_countries[(10*i+1):(10*i +10),1],\n",
        "      lwd = 3, col = cols)\n",
        "dev.off()            \n",
        "}\n",
        "\n"
      ],
      "metadata": {
        "id": "5B1g6fw9IBSs"
      },
      "execution_count": null,
      "outputs": []
    },
    {
      "cell_type": "code",
      "source": [
        ""
      ],
      "metadata": {
        "id": "AkF_ApTKO4D2"
      },
      "execution_count": null,
      "outputs": []
    },
    {
      "cell_type": "code",
      "source": [
        "colnames(cleaneddata)"
      ],
      "metadata": {
        "colab": {
          "base_uri": "https://localhost:8080/",
          "height": 86
        },
        "id": "WV_zr4ruIEoj",
        "outputId": "cbddd35f-dde5-4986-ae20-378b8b773838"
      },
      "execution_count": null,
      "outputs": [
        {
          "output_type": "display_data",
          "data": {
            "text/html": [
              "<style>\n",
              ".list-inline {list-style: none; margin:0; padding: 0}\n",
              ".list-inline>li {display: inline-block}\n",
              ".list-inline>li:not(:last-child)::after {content: \"\\00b7\"; padding: 0 .5ex}\n",
              "</style>\n",
              "<ol class=list-inline><li>'X.1'</li><li>'Year'</li><li>'Country'</li><li>'X'</li><li>'CountryCode'</li><li>'StudentProtestCount'</li><li>'AllProtestCount'</li><li>'Control.of.Corruption..Estimate'</li><li>'Government.Effectiveness..Estimate'</li><li>'Political.Stability.and.Absence.of.Violence.Terrorism..Estimate'</li><li>'Political.Stability.and.Absence.of.Violence.Terrorism..Estimate.1'</li><li>'income'</li><li>'protest.ratio'</li></ol>\n"
            ],
            "text/markdown": "1. 'X.1'\n2. 'Year'\n3. 'Country'\n4. 'X'\n5. 'CountryCode'\n6. 'StudentProtestCount'\n7. 'AllProtestCount'\n8. 'Control.of.Corruption..Estimate'\n9. 'Government.Effectiveness..Estimate'\n10. 'Political.Stability.and.Absence.of.Violence.Terrorism..Estimate'\n11. 'Political.Stability.and.Absence.of.Violence.Terrorism..Estimate.1'\n12. 'income'\n13. 'protest.ratio'\n\n\n",
            "text/latex": "\\begin{enumerate*}\n\\item 'X.1'\n\\item 'Year'\n\\item 'Country'\n\\item 'X'\n\\item 'CountryCode'\n\\item 'StudentProtestCount'\n\\item 'AllProtestCount'\n\\item 'Control.of.Corruption..Estimate'\n\\item 'Government.Effectiveness..Estimate'\n\\item 'Political.Stability.and.Absence.of.Violence.Terrorism..Estimate'\n\\item 'Political.Stability.and.Absence.of.Violence.Terrorism..Estimate.1'\n\\item 'income'\n\\item 'protest.ratio'\n\\end{enumerate*}\n",
            "text/plain": [
              " [1] \"X.1\"                                                              \n",
              " [2] \"Year\"                                                             \n",
              " [3] \"Country\"                                                          \n",
              " [4] \"X\"                                                                \n",
              " [5] \"CountryCode\"                                                      \n",
              " [6] \"StudentProtestCount\"                                              \n",
              " [7] \"AllProtestCount\"                                                  \n",
              " [8] \"Control.of.Corruption..Estimate\"                                  \n",
              " [9] \"Government.Effectiveness..Estimate\"                               \n",
              "[10] \"Political.Stability.and.Absence.of.Violence.Terrorism..Estimate\"  \n",
              "[11] \"Political.Stability.and.Absence.of.Violence.Terrorism..Estimate.1\"\n",
              "[12] \"income\"                                                           \n",
              "[13] \"protest.ratio\"                                                    "
            ]
          },
          "metadata": {}
        }
      ]
    },
    {
      "cell_type": "code",
      "source": [
        "for (j in 1:9){print(1+j)}"
      ],
      "metadata": {
        "colab": {
          "base_uri": "https://localhost:8080/"
        },
        "id": "Nnf0qPkbA57W",
        "outputId": "aa335dc6-fd4a-48b4-b431-994839f5bea3"
      },
      "execution_count": null,
      "outputs": [
        {
          "output_type": "stream",
          "name": "stdout",
          "text": [
            "[1] 2\n",
            "[1] 3\n",
            "[1] 4\n",
            "[1] 5\n",
            "[1] 6\n",
            "[1] 7\n",
            "[1] 8\n",
            "[1] 9\n",
            "[1] 10\n"
          ]
        }
      ]
    },
    {
      "cell_type": "code",
      "source": [
        ""
      ],
      "metadata": {
        "id": "v3tycup-CVoB"
      },
      "execution_count": null,
      "outputs": []
    }
  ]
}