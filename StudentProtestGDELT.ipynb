{
  "nbformat": 4,
  "nbformat_minor": 0,
  "metadata": {
    "colab": {
      "name": "StudentProtestGDELT.ipynb",
      "provenance": [],
      "authorship_tag": "ABX9TyPRHtGNwaVMVW+npi9wIc01",
      "include_colab_link": true
    },
    "kernelspec": {
      "name": "ir",
      "display_name": "R"
    },
    "language_info": {
      "name": "R"
    }
  },
  "cells": [
    {
      "cell_type": "markdown",
      "metadata": {
        "id": "view-in-github",
        "colab_type": "text"
      },
      "source": [
        "<a href=\"https://colab.research.google.com/github/antsaaims/StudentprotestGDELT/blob/main/StudentProtestGDELT.ipynb\" target=\"_parent\"><img src=\"https://colab.research.google.com/assets/colab-badge.svg\" alt=\"Open In Colab\"/></a>"
      ]
    },
    {
      "cell_type": "markdown",
      "source": [
        "#  Analysis of Student Protests Around the World and over Time Insight from the Global Database of Events, Language and Tone(GDELT) project\n",
        "\n",
        "\n"
      ],
      "metadata": {
        "id": "5AgPHKRbtMfB"
      }
    },
    {
      "cell_type": "markdown",
      "source": [
        "It is the notebook used to process the data  and do all required analysis for this project."
      ],
      "metadata": {
        "id": "wSJc5fGJtU2q"
      }
    },
    {
      "cell_type": "code",
      "execution_count": null,
      "metadata": {
        "id": "LMjoaBiUtJep"
      },
      "outputs": [],
      "source": [
        ""
      ]
    }
  ]
}