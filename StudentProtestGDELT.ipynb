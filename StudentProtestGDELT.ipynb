{
  "nbformat": 4,
  "nbformat_minor": 0,
  "metadata": {
    "colab": {
      "name": "StudentProtestGDELT.ipynb",
      "provenance": [],
      "collapsed_sections": [
        "CwAEfXvLCDcB"
      ],
      "authorship_tag": "ABX9TyPM9s5kY1WLVNVESRSUgvLn",
      "include_colab_link": true
    },
    "kernelspec": {
      "name": "ir",
      "display_name": "R"
    },
    "language_info": {
      "name": "R"
    }
  },
  "cells": [
    {
      "cell_type": "markdown",
      "metadata": {
        "id": "view-in-github",
        "colab_type": "text"
      },
      "source": [
        "<a href=\"https://colab.research.google.com/github/antsaaims/StudentprotestGDELT/blob/main/StudentProtestGDELT.ipynb\" target=\"_parent\"><img src=\"https://colab.research.google.com/assets/colab-badge.svg\" alt=\"Open In Colab\"/></a>"
      ]
    },
    {
      "cell_type": "markdown",
      "source": [
        "#  Analysis of Student Protests Around the World and over Time Insight from the Global Database of Events, Language and Tone(GDELT) project\n",
        "\n",
        "\n"
      ],
      "metadata": {
        "id": "5AgPHKRbtMfB"
      }
    },
    {
      "cell_type": "markdown",
      "source": [
        "It is the notebook used to process the data  and do all required analysis for this project. Please uncomment before running. Also, you will need to download all output file on the go as they are not stored permanently in Google Colab. "
      ],
      "metadata": {
        "id": "wSJc5fGJtU2q"
      }
    },
    {
      "cell_type": "markdown",
      "source": [
        "## Paquages installation"
      ],
      "metadata": {
        "id": "xSWbb6amC1Tu"
      }
    },
    {
      "cell_type": "code",
      "source": [
        "# installing paquages\n",
        "\n",
        "#install.packages(\"countrycode\") #conversion between different country codes\n",
        "#install.packages(\"DataExplorer\") # Exploratory data analysis\n",
        "#install.packages('ISLR') #Data for an Introduction to \n",
        "#Statistical Learning with Applications in R\n",
        "#just for messing around with function!\n",
        "install.packages('glmnet') # general linear regression with penalty\n",
        "install.packages('conflicted') #used when there are packages having teh sam emethod name\n",
        "install.packages('betareg') # for beta regression \n",
        "install.packages('kableExtra') # to build table\n",
        "install.packages('sjPlot') #creating graphics\n",
        "install.packages('sjmisc') #data transformation \n",
        "install.packages('sjlabelled') #work with labelled data\n",
        "install.packages('glmnetUtils')#utilities for glmnet\n",
        "library( xtable)"
      ],
      "metadata": {
        "id": "LD6oxRhEC4Dk"
      },
      "execution_count": null,
      "outputs": []
    },
    {
      "cell_type": "markdown",
      "source": [
        "## Calling librairies"
      ],
      "metadata": {
        "id": "7kX7UrZOJcBB"
      }
    },
    {
      "cell_type": "code",
      "source": [
        "# library(countrycode)\n",
        "#library(DataExplorer)\n",
        "#library('ISLR')\n",
        "library(glmnet)\n",
        "library(dplyr)\n",
        "library(tidyr)\n",
        "library(\"conflicted\")\n",
        "suppressPackageStartupMessages(library(\"tidyverse\"))\n",
        "conflict_prefer(\"filter\", \"dplyr\")\n",
        "#> [conflicted] Will prefer dplyr::filter over any other package\n",
        "library(\"betareg\")\n",
        "library(\"broom\") # bridge the gap from untidy outputs of \n",
        "#predictions and estimations to the tidy data we want to work with\n",
        "library(\"kableExtra\")\n",
        "library(sjPlot)\n",
        "library(sjmisc)\n",
        "library(sjlabelled)\n",
        "library(lmtest)\n",
        "library(glmnet)\n",
        "library(glmnetUtils)\n",
        "conflict_prefer(\"cv.glmnet\", \"glmnetUtils\") \n",
        "conflict_prefer(\"glmnet\", \"glmnetUtils\")"
      ],
      "metadata": {
        "id": "Lg-6bV2RJe6w"
      },
      "execution_count": null,
      "outputs": []
    },
    {
      "cell_type": "markdown",
      "source": [
        "## Preparing and cleaning the data.\n",
        "\n",
        "This part was used to prepare the data. After the preparation, all data was uploaded in the [GitHub repository](https://github.com/antsaaims/StudentprotestGDELT).\n"
      ],
      "metadata": {
        "id": "RMh568TpO4wF"
      }
    },
    {
      "cell_type": "code",
      "execution_count": null,
      "metadata": {
        "id": "LMjoaBiUtJep"
      },
      "outputs": [],
      "source": [
        "#url ='https://raw.githubusercontent.com/antsaaims/StudentprotestGDELT/main/protest_data_final.csv'"
      ]
    },
    {
      "cell_type": "code",
      "source": [
        "#protest_data = na.omit(read.table(url,  sep=',',header = TRUE))"
      ],
      "metadata": {
        "id": "kfstY8yquVTz"
      },
      "execution_count": null,
      "outputs": []
    },
    {
      "cell_type": "code",
      "source": [
        "# #omit the first case(1920)\n",
        "# protest_data = subset(protest_data, Year>2013 & Year<2021) \n",
        "# protest_data"
      ],
      "metadata": {
        "id": "-4Vh7w71uXla"
      },
      "execution_count": null,
      "outputs": []
    },
    {
      "cell_type": "markdown",
      "source": [
        "The detail about the data Countrycode is [here](https://vincentarelbundock.github.io/countrycode/)"
      ],
      "metadata": {
        "id": "yIsBZUtk6fFI"
      }
    },
    {
      "cell_type": "code",
      "source": [
        "# countrycode('PK', origin = 'fips' , destination = 'country.name')"
      ],
      "metadata": {
        "id": "wMXQunl46eKm"
      },
      "execution_count": null,
      "outputs": []
    },
    {
      "cell_type": "code",
      "source": [
        "# protest_data$Country = countrycode( protest_data$CountryCode  , origin = 'fips' , destination = 'country.name')"
      ],
      "metadata": {
        "id": "MT3hqJGZ62jw"
      },
      "execution_count": null,
      "outputs": []
    },
    {
      "cell_type": "code",
      "source": [
        "# protest_data"
      ],
      "metadata": {
        "id": "zL1b0px26_lo"
      },
      "execution_count": null,
      "outputs": []
    },
    {
      "cell_type": "code",
      "source": [
        "# urlgov = 'https://raw.githubusercontent.com/antsaaims/StudentprotestGDELT/main/governance.csv'"
      ],
      "metadata": {
        "id": "kwmj3axL7ZhZ"
      },
      "execution_count": null,
      "outputs": []
    },
    {
      "cell_type": "code",
      "source": [
        "# governance_data = read.table(urlgov, sep =',', header = TRUE)"
      ],
      "metadata": {
        "id": "9Vu8SmG38pBa"
      },
      "execution_count": null,
      "outputs": []
    },
    {
      "cell_type": "code",
      "source": [
        "# governance_data"
      ],
      "metadata": {
        "id": "YDmbq8zm8tk6"
      },
      "execution_count": null,
      "outputs": []
    },
    {
      "cell_type": "code",
      "source": [
        "# governance_data = governance_data[-c(855,856,857,858,859),]"
      ],
      "metadata": {
        "id": "XqzPf1eTDZlx"
      },
      "execution_count": null,
      "outputs": []
    },
    {
      "cell_type": "code",
      "source": [
        "# colnames  = c('Control of Corruption: Estimate', 'Government Effectiveness: Estimate', 'Political Stability and Absence of Violence/Terrorism: Estimate', 'Political Stability and Absence of Violence/Terrorism: Estimate')"
      ],
      "metadata": {
        "id": "kRj9Odv9_fdO"
      },
      "execution_count": null,
      "outputs": []
    },
    {
      "cell_type": "code",
      "source": [
        "# rownames =  2014:2020 "
      ],
      "metadata": {
        "id": "J3ZoZVGz-T5k"
      },
      "execution_count": null,
      "outputs": []
    },
    {
      "cell_type": "code",
      "source": [
        "# country = 'Afghanistan'\n",
        "# AFG = data.frame(t(subset(governance_data, Country.Name == country))[-c(1,2,3,4),])\n",
        "\n",
        "# row.names(AFG) = rownames\n",
        "# colnames(AFG) = colnames\n",
        "# AFG$Country =  country"
      ],
      "metadata": {
        "id": "w_4LhcCk_2zU"
      },
      "execution_count": null,
      "outputs": []
    },
    {
      "cell_type": "code",
      "source": [
        "# make_data <- function(country) {\n",
        " \n",
        "# mydata = data.frame(t(subset(governance_data, Country.Name == country))[-c(1,2,3,4),])\n",
        "\n",
        "# colnames(mydata) = colnames\n",
        "# mydata$Year = rownames\n",
        "\n",
        "# mydata$Country =  country\n",
        "# mydata\n",
        "# }"
      ],
      "metadata": {
        "id": "HjaZulzeADQG"
      },
      "execution_count": null,
      "outputs": []
    },
    {
      "cell_type": "code",
      "source": [
        "# make_data('Afghanistan') #test if it is working or not"
      ],
      "metadata": {
        "id": "TBMisYVoCG_o"
      },
      "execution_count": null,
      "outputs": []
    },
    {
      "cell_type": "code",
      "source": [
        "# list_countries = (unique(governance_data[c(\"Country.Name\")]))\n",
        "# list_countries = list_countries[-c(218,217,216)]"
      ],
      "metadata": {
        "id": "eM9pePn2Cpww"
      },
      "execution_count": null,
      "outputs": []
    },
    {
      "cell_type": "code",
      "source": [
        "# nrow(list_countries)"
      ],
      "metadata": {
        "id": "nPjhdCWGEGXp"
      },
      "execution_count": null,
      "outputs": []
    },
    {
      "cell_type": "code",
      "source": [
        "# for (x in 1:nrow(list_countries)) {\n",
        "#   print(list_countries['Country.Name'][x,1])\n",
        "# }"
      ],
      "metadata": {
        "id": "L-OfJ8nIEPhC"
      },
      "execution_count": null,
      "outputs": []
    },
    {
      "cell_type": "markdown",
      "source": [
        "I totally do not know what is happening with Cote dIvoire....so I removed it....\n",
        "\n"
      ],
      "metadata": {
        "id": "VCXbHdUaGjmw"
      }
    },
    {
      "cell_type": "code",
      "source": [
        "# n  = nrow(list_countries)\n",
        "# #n =3 \n",
        "# make_all_data = function(){\n",
        "# final_data = make_data(list_countries['Country.Name'][1,1])\n",
        "# for (x in 2:n) {\n",
        "#   country = list_countries['Country.Name'][x,1]\n",
        "#   if(nchar(country)<34){\n",
        "#   final_data = rbind(final_data,make_data(country))\n",
        "#   }\n",
        "# }\n",
        "# row.names(final_data) = 1:nrow(final_data)\n",
        "# final_data  \n",
        "# } "
      ],
      "metadata": {
        "id": "YsUCZCHdG18Y"
      },
      "execution_count": null,
      "outputs": []
    },
    {
      "cell_type": "code",
      "source": [
        "# governance_data_cleaned = make_all_data()"
      ],
      "metadata": {
        "id": "GUT3hf56HEi6"
      },
      "execution_count": null,
      "outputs": []
    },
    {
      "cell_type": "code",
      "source": [
        "# Merged_data = merge(x = protest_data, y =governance_data_cleaned, by.x = c('Year','Country'), by.y= c('Year','Country'),all.x = TRUE,all.y = FALSE, sort = TRUE)"
      ],
      "metadata": {
        "id": "AteOMUCGKlvw"
      },
      "execution_count": null,
      "outputs": []
    },
    {
      "cell_type": "code",
      "source": [
        "# Merged_data"
      ],
      "metadata": {
        "id": "Wtj7QoSrMvZR"
      },
      "execution_count": null,
      "outputs": []
    },
    {
      "cell_type": "code",
      "source": [
        "# write.csv(Merged_data,\"protest+governance.csv\", row.names = TRUE)"
      ],
      "metadata": {
        "id": "W08SdHNYMxn_"
      },
      "execution_count": null,
      "outputs": []
    },
    {
      "cell_type": "markdown",
      "source": [
        "Wanted to use the Income per capita but it was tremendeously messy...."
      ],
      "metadata": {
        "id": "s0NCIR0JOhOc"
      }
    },
    {
      "cell_type": "code",
      "source": [
        "#url_capita = 'https://raw.githubusercontent.com/antsaaims/StudentprotestGDELT/main/AdjustedNationalIncomePerCapita.csv'"
      ],
      "metadata": {
        "id": "pP3E8-gzN8g7"
      },
      "execution_count": null,
      "outputs": []
    },
    {
      "cell_type": "code",
      "source": [
        "#income_data = read.table(url_capita, sep =',', header = TRUE, fill = TRUE)"
      ],
      "metadata": {
        "id": "9aPEhauMO2yd"
      },
      "execution_count": null,
      "outputs": []
    },
    {
      "cell_type": "code",
      "source": [
        "#intermediate = na.omit(income_data[c('Country.Name','X2014','X2015','X2016','X2017','X2018','X2019','X2020')])"
      ],
      "metadata": {
        "id": "LvxDyP41ClrG"
      },
      "execution_count": null,
      "outputs": []
    },
    {
      "cell_type": "code",
      "source": [
        "# rownames =  2014:2020 \n",
        "# make_data2 <- function(country) {\n",
        "# mydata = data.frame(t(subset(intermediate, Country.Name == country))[-c(1)])\n",
        "\n",
        "# colnames(mydata) = c('income')\n",
        "# mydata$Year = rownames\n",
        "\n",
        "# mydata$Country =  country\n",
        "# mydata\n",
        "# }"
      ],
      "metadata": {
        "id": "QINcxlkmDdG9"
      },
      "execution_count": null,
      "outputs": []
    },
    {
      "cell_type": "code",
      "source": [
        "#list_countries = (unique(intermediate[c(\"Country.Name\")]))"
      ],
      "metadata": {
        "id": "i9Spp0tDm8Lk"
      },
      "execution_count": null,
      "outputs": []
    },
    {
      "cell_type": "code",
      "source": [
        "# n  = nrow(list_countries)\n",
        "# #n =3 \n",
        "# make_all_data = function(){\n",
        "# final_data = make_data2(list_countries['Country.Name'][1,1])\n",
        "# for (x in 2:n) {\n",
        "#   country = list_countries['Country.Name'][x,1]\n",
        "#   if(nchar(country)<34){\n",
        "#   final_data = rbind(final_data,make_data2(country))\n",
        "#   }\n",
        "# }\n",
        "# row.names(final_data) = 1:nrow(final_data)\n",
        "# final_data  \n",
        "# } "
      ],
      "metadata": {
        "id": "Xm-wU9CoFBMf"
      },
      "execution_count": null,
      "outputs": []
    },
    {
      "cell_type": "code",
      "source": [
        "#FinalIncomeData = make_all_data()"
      ],
      "metadata": {
        "id": "CGJaQu8bnIfC"
      },
      "execution_count": null,
      "outputs": []
    },
    {
      "cell_type": "code",
      "source": [
        "#url_protest_gov = 'https://raw.githubusercontent.com/antsaaims/StudentprotestGDELT/main/protest%2Bgovernance.csv'\n",
        "\n",
        "##protest_data = read.table(url_protest_gov, sep =',', header = TRUE)"
      ],
      "metadata": {
        "id": "NsB0NvpRnlL4"
      },
      "execution_count": null,
      "outputs": []
    },
    {
      "cell_type": "code",
      "source": [
        "# Merged_data = merge(x = protest_data, y =FinalIncomeData, by.x = c('Year','Country'), by.y= c('Year','Country'),all.x = TRUE,all.y = FALSE, sort = TRUE)\n",
        "# write.csv(Merged_data,\"protest+governance+income.csv\", row.names = TRUE)\n"
      ],
      "metadata": {
        "id": "kWCg_TMBnSXb"
      },
      "execution_count": null,
      "outputs": []
    },
    {
      "cell_type": "code",
      "source": [
        "#cleaneddata = na.omit(Merged_data)"
      ],
      "metadata": {
        "id": "wZGze4MUoj9b"
      },
      "execution_count": null,
      "outputs": []
    },
    {
      "cell_type": "code",
      "source": [
        "#write.csv(cleaneddata,\"cleanedAllData.csv\", row.names = TRUE)"
      ],
      "metadata": {
        "id": "xwNVNHl_o4kJ"
      },
      "execution_count": null,
      "outputs": []
    },
    {
      "cell_type": "markdown",
      "source": [
        "## Exploratory data analysis"
      ],
      "metadata": {
        "id": "jJsGdYbMpbU2"
      }
    },
    {
      "cell_type": "code",
      "source": [
        "# urldata = 'https://raw.githubusercontent.com/antsaaims/StudentprotestGDELT/main/cleanedAllData.csv'\n",
        "# cleaneddata = read.table(urldata, sep =',', header = TRUE)"
      ],
      "metadata": {
        "id": "Od-Ln73TpIFP"
      },
      "execution_count": null,
      "outputs": []
    },
    {
      "cell_type": "code",
      "source": [
        "# cleaneddata$protest.ratio = cleaneddata$StudentProtestCount/cleaneddata$AllProtestCount\n",
        "# L = (colnames(cleaneddata))[-c(1,4,5)]\n",
        "# cleaneddata = cleaneddata[L]"
      ],
      "metadata": {
        "id": "UlIq0ltwOYkF"
      },
      "execution_count": null,
      "outputs": []
    },
    {
      "cell_type": "code",
      "source": [
        "#list_countries = (unique(cleaneddata[c(\"Country\")]))"
      ],
      "metadata": {
        "id": "cf4BE3MIrE0m"
      },
      "execution_count": null,
      "outputs": []
    },
    {
      "cell_type": "code",
      "source": [
        "#n <- dim(list_countries)"
      ],
      "metadata": {
        "id": "2gy_bArt6wqN"
      },
      "execution_count": null,
      "outputs": []
    },
    {
      "cell_type": "code",
      "source": [
        "#write.csv(cleaneddata,\"cleaneddatawithprop.csv\", row.names = TRUE)"
      ],
      "metadata": {
        "id": "-A3wUphWGxis"
      },
      "execution_count": null,
      "outputs": []
    },
    {
      "cell_type": "code",
      "source": [
        "# urldata = 'https://raw.githubusercontent.com/antsaaims/StudentprotestGDELT/main/cleaneddatawithprop.csv'\n",
        "# cleaneddata = read.table(urldata, sep =',', header = TRUE)\n",
        "# cleaneddata"
      ],
      "metadata": {
        "id": "WzDJRJCiHIq0"
      },
      "execution_count": null,
      "outputs": []
    },
    {
      "cell_type": "code",
      "source": [
        "# cleaneddata = cleaneddata[-c(1)]"
      ],
      "metadata": {
        "id": "z7eeFbHYJNv4"
      },
      "execution_count": null,
      "outputs": []
    },
    {
      "cell_type": "markdown",
      "source": [
        "### Plotting the number of protest yearly per country."
      ],
      "metadata": {
        "id": "ow_dva-f7NVm"
      }
    },
    {
      "cell_type": "code",
      "source": [
        "#cols = c('aquamarine','blue', 'blueviolet', 'brown1', 'darkgreen', 'deeppink1', 'orange1', 'yellow', 'black','darkgoldenrod')"
      ],
      "metadata": {
        "id": "uE4Zwikd-1C1"
      },
      "execution_count": null,
      "outputs": []
    },
    {
      "cell_type": "code",
      "source": [
        "# for (i in 0:7){\n",
        "# jpeg(paste( 'StudentProtestCount',i, '.jpg',sep = '', collapse = NULL))\n",
        "# plot(x =  cleaneddata$Year[cleaneddata$Country == list_countries[10*i +1,1]],y = cleaneddata$StudentProtestCount[cleaneddata$Country == list_countries[10*i +1,1]], main=\"Student protest per year per country\", xlab = 'Year', ylab = 'Student Protest Count', col = cols[1], pch = 20, xlim= c(2013, 2021), ylim= c(min(cleaneddata$StudentProtestCount), max(cleaneddata$StudentProtestCount)))\n",
        "# for (j in 2:10){\n",
        "# points(x =  cleaneddata$Year[cleaneddata$Country == list_countries[10*i +j,1 ]] ,y = cleaneddata$StudentProtestCount[cleaneddata$Country == list_countries[10*i +j,1]], main=\"Student protest per year per country\", xlab = 'Year', ylab = 'Student Protest Count', col = cols[j], pch = 20)\n",
        "# }\n",
        "# legend(\"topright\", legend =  list_countries[(10*i+1):(10*i +10),1],\n",
        "#       lwd = 3, col = cols)\n",
        "# dev.off()            \n",
        "# }"
      ],
      "metadata": {
        "id": "81URMK5X_hCB"
      },
      "execution_count": null,
      "outputs": []
    },
    {
      "cell_type": "markdown",
      "source": [
        "### Plotting the ratio Studentprotest/Allprotest per year per country"
      ],
      "metadata": {
        "id": "ptGXNv9MKjhC"
      }
    },
    {
      "cell_type": "code",
      "source": [
        "# for (i in 0:7){\n",
        "# jpeg(paste( 'ProtestRatio',i, '.jpg',sep = '', collapse = NULL))\n",
        "# plot(x =  cleaneddata$Year[cleaneddata$Country == list_countries[10*i +1,1]],y = cleaneddata$protest.ratio[cleaneddata$Country == list_countries[10*i +1,1]], main=\" Ratio of Student protest per year per country\", xlab = 'Year', ylab = 'Student Protest/All protests', col = cols[1], pch = 20, xlim= c(2013, 2021), ylim= c(0, 1))\n",
        "# for (j in 2:10){\n",
        "# points(x =  cleaneddata$Year[cleaneddata$Country == list_countries[10*i +j,1 ]] ,y = cleaneddata$protest.ratio[cleaneddata$Country == list_countries[10*i +j,1]], main=\"Ratio of Student protest  per year per country\", xlab = 'Year', ylab = 'Student Protest/All protests', col = cols[j], pch = 20)\n",
        "# }\n",
        "# legend(\"topright\", legend =  list_countries[(10*i+1):(10*i +10),1],\n",
        "#       lwd = 3, col = cols)\n",
        "# dev.off()            \n",
        "# }"
      ],
      "metadata": {
        "id": "5B1g6fw9IBSs"
      },
      "execution_count": null,
      "outputs": []
    },
    {
      "cell_type": "code",
      "source": [
        ""
      ],
      "metadata": {
        "id": "AkF_ApTKO4D2"
      },
      "execution_count": null,
      "outputs": []
    },
    {
      "cell_type": "markdown",
      "source": [
        "## Using Data Explorer"
      ],
      "metadata": {
        "id": "JeOX2pIliV_t"
      }
    },
    {
      "cell_type": "code",
      "source": [
        "#plot_str(cleaneddata)"
      ],
      "metadata": {
        "id": "Qcy8Ea5DjjA_"
      },
      "execution_count": null,
      "outputs": []
    },
    {
      "cell_type": "code",
      "source": [
        "#t(introduce(cleaneddata))"
      ],
      "metadata": {
        "id": "ti8oHg5oluDP"
      },
      "execution_count": null,
      "outputs": []
    },
    {
      "cell_type": "code",
      "source": [
        "#plot_intro(cleaneddata)"
      ],
      "metadata": {
        "id": "493eZTjemE_j"
      },
      "execution_count": null,
      "outputs": []
    },
    {
      "cell_type": "code",
      "source": [
        "#plot_bar(cleaneddata) # We could not plot because there is a lot of countries"
      ],
      "metadata": {
        "id": "PHuyHgucn60x"
      },
      "execution_count": null,
      "outputs": []
    },
    {
      "cell_type": "code",
      "source": [
        "# for (i in c(1,3,4,5,6,7,8,1,10)){\n",
        "#      jpeg(paste(  colnames(cleaneddata)[i] ,'.jpg',sep = '', collapse = NULL))\n",
        "#      plot_histogram(cleaneddata[i])\n",
        "#      dev.off()\n",
        "#               }"
      ],
      "metadata": {
        "id": "NTKPfVOUoLQ7"
      },
      "execution_count": null,
      "outputs": []
    },
    {
      "cell_type": "code",
      "source": [
        "# s =''\n",
        "# for (i in c(1,3,4,5,6,7,8,1,10)){\n",
        "# s =(paste(s,\"\\\\includegraphics[scale =0.5]{image/\", colnames(cleaneddata)[i] ,'.jpg}\\\\',sep = '', collapse = NULL))\n",
        "# }\n",
        "# s"
      ],
      "metadata": {
        "id": "dM55nYwKs6Gz"
      },
      "execution_count": null,
      "outputs": []
    },
    {
      "cell_type": "code",
      "source": [
        "# jpeg('correlation.jpg')\n",
        "# plot_correlation(cleaneddata, maxcat = 5L)\n",
        "# dev.off()"
      ],
      "metadata": {
        "id": "2mWpLjrSwLDX"
      },
      "execution_count": null,
      "outputs": []
    },
    {
      "cell_type": "code",
      "source": [
        "#colnames(cleaneddata)"
      ],
      "metadata": {
        "id": "1S5pOds7zpYz"
      },
      "execution_count": null,
      "outputs": []
    },
    {
      "cell_type": "code",
      "source": [
        "# jpeg('scatter.jpg')\n",
        "# plot_scatterplot(cleaneddata, by = 'protest.ratio', sampled_rows = 1000L)\n",
        "# dev.off()"
      ],
      "metadata": {
        "id": "say9qvj0zYJu"
      },
      "execution_count": null,
      "outputs": []
    },
    {
      "cell_type": "code",
      "source": [
        "#plot_scatterplot(cleaneddata, by = 'StudentProtestCount', sampled_rows = 1000L)"
      ],
      "metadata": {
        "id": "3y2VxwXF1wVJ"
      },
      "execution_count": null,
      "outputs": []
    },
    {
      "cell_type": "code",
      "source": [
        "#plot_scatterplot(cleaneddata, by = 'AllProtestCount', sampled_rows = 1000L)"
      ],
      "metadata": {
        "id": "Uo1x5MXS12wB"
      },
      "execution_count": null,
      "outputs": []
    },
    {
      "cell_type": "markdown",
      "source": [
        "# Analysis"
      ],
      "metadata": {
        "id": "1-xHwIvMI6K_"
      }
    },
    {
      "cell_type": "code",
      "source": [
        "# Country = cleaneddata$Country\n",
        "# cleaneddata = cleaneddata[-c(2)]\n",
        "# cleaneddata$Country = Country#putting the country variables in the end"
      ],
      "metadata": {
        "id": "Op8gEbl9LqCk"
      },
      "execution_count": null,
      "outputs": []
    },
    {
      "cell_type": "code",
      "source": [
        "# # spliting the data into test and train.\n",
        "# # Create testing / training sets\n",
        "# set.seed(1) # so that the result will always be the same for the split\n",
        "# train <- sample(1:nrow(cleaneddata), nrow(cleaneddata)*70/100) # Indices for training set, we use 70% of the data\n",
        "# test <- -train # Indices for test set (= remaining indices)\n",
        "# X = model.matrix(~., cleaneddata[,1:9])[, -1] # make dummy variable, remove the intercept\n",
        "# Y = cleaneddata %>%\n",
        "#     select(protest.ratio) %>%\n",
        "#     unlist() %>%\n",
        "#     as.numeric()\n",
        "# data.train = X[train,]\n",
        "# data.test = X[test,]\n",
        "# data.train = as.data.frame(X[train,])\n",
        "# data.test = as.data.frame(X[test,])"
      ],
      "metadata": {
        "id": "eElfMTJRI9Ff"
      },
      "execution_count": null,
      "outputs": []
    },
    {
      "cell_type": "markdown",
      "source": [
        "## Logistic regression"
      ],
      "metadata": {
        "id": "MrOwfTs9Illw"
      }
    },
    {
      "cell_type": "markdown",
      "source": [
        "### Simple binomial/quasi-binomial regression"
      ],
      "metadata": {
        "id": "qNu4J_6DIqXv"
      }
    },
    {
      "cell_type": "markdown",
      "source": [
        "#### if you want to play with the data"
      ],
      "metadata": {
        "id": "CwAEfXvLCDcB"
      }
    },
    {
      "cell_type": "code",
      "source": [
        "# # Only income as a predictor\n",
        "# modlogitinc<- glm(protest.ratio ~ income,\n",
        "#              data= data.train, \n",
        "#              family= binomial(link= \"logit\"),\n",
        "#              weights=AllProtestCount)\n",
        "# summary(modlogitinc)"
      ],
      "metadata": {
        "id": "B7mXKxIgscop"
      },
      "execution_count": null,
      "outputs": []
    },
    {
      "cell_type": "code",
      "source": [
        "# plot(data.train$income, data.train$protest.ratio, pch= 20, xlab= \"Income\",\n",
        "# ylab= \"P(ratio =1)\")\n",
        "# lines(sort(data.train$income), modlogitinc$fit[order(data.train$income)], lwd= 2)"
      ],
      "metadata": {
        "id": "JnIJMcRXsvJZ"
      },
      "execution_count": null,
      "outputs": []
    },
    {
      "cell_type": "code",
      "source": [
        "# plot(data.train$income, data.train$protest.ratio, pch= 20, xlab= \"Income\",\n",
        "# # ylab= \"P(ratio =1)\")\n",
        "# lines(sort(data.train$income), modlogit$fit[order(data.train$income)], lwd= 2)"
      ],
      "metadata": {
        "id": "QbpksMZXsvF5"
      },
      "execution_count": null,
      "outputs": []
    },
    {
      "cell_type": "code",
      "source": [
        "# plot(data.train$Year, data.train$protest.ratio, pch= 20, xlab= \"Income\",\n",
        "# ylab= \"P(ratio =1)\")\n",
        "# lines(sort(data.train$Year), modlogit$fit[order(data.train$Year)], lwd= 2)"
      ],
      "metadata": {
        "id": "C0mOrfqdsu_o"
      },
      "execution_count": null,
      "outputs": []
    },
    {
      "cell_type": "code",
      "source": [
        "# Ypredict = predict(modlogit,  type = \"response\", newdata = X.test)\n",
        "# Ytrainpredict = predict(modlogit,  type = \"response\", newdata = data.train)"
      ],
      "metadata": {
        "id": "-oZQ97lBsu8Z"
      },
      "execution_count": null,
      "outputs": []
    },
    {
      "cell_type": "code",
      "source": [
        "# ## RMSE\n",
        "# ## Training error\n",
        "# RMSEtrain = sqrt(sum((Ytrainpredict- data.train$protest.ratio )^2 ))\n",
        "# ## Testing error\n",
        "# RMSEtest = sqrt(sum((Ypredict- Y.test)^2 ))"
      ],
      "metadata": {
        "id": "9Xh18t3NvMfo"
      },
      "execution_count": null,
      "outputs": []
    },
    {
      "cell_type": "code",
      "source": [
        "# s = paste('RMSE Train = ', RMSEtrain ,\"\\n RMSE test = \", RMSEtest)\n",
        "# print(s)"
      ],
      "metadata": {
        "id": "DIfGq-lyvMYJ"
      },
      "execution_count": null,
      "outputs": []
    },
    {
      "cell_type": "markdown",
      "source": [
        "### All at once"
      ],
      "metadata": {
        "id": "eNvRVvT06bu4"
      }
    },
    {
      "cell_type": "code",
      "source": [
        "# res11 <- list()\n",
        "# ### Average ###\n",
        "# # This \"model\" simply predicts for each year\n",
        "# # the average proportion of student protest among all protests\n",
        "# res11$average_no <- \n",
        "#   glm(protest.ratio ~ Year, data = data.train,\n",
        "#         family = quasibinomial(logit), weights = AllProtestCount)\n",
        "# ### binomial (logit) ###\n",
        "# res11$binomial_logit <-\n",
        "#     glm(protest.ratio ~ Year + Control.of.Corruption..Estimate\n",
        "#         + Government.Effectiveness..Estimate +Political.Stability.and.Absence.of.Violence.Terrorism..Estimate\n",
        "#         + Political.Stability.and.Absence.of.Violence.Terrorism..Estimate.1\n",
        "#         + income, data = data.train,\n",
        "#         family = binomial(logit), weights = AllProtestCount)\n",
        "# ### binomial (probit) ###\n",
        "# res11$binomial_probit <-\n",
        "#     glm(protest.ratio ~ Year + Control.of.Corruption..Estimate\n",
        "#         + Government.Effectiveness..Estimate +Political.Stability.and.Absence.of.Violence.Terrorism..Estimate\n",
        "#         + Political.Stability.and.Absence.of.Violence.Terrorism..Estimate.1\n",
        "#         + income, data = data.train,\n",
        "#         family = binomial(probit), weights = AllProtestCount)\n",
        "# ### binomial (loglog) ###\n",
        "# res11$binomial_cloglog <-\n",
        "#     glm(protest.ratio ~ Year + Control.of.Corruption..Estimate\n",
        "#         + Government.Effectiveness..Estimate +Political.Stability.and.Absence.of.Violence.Terrorism..Estimate\n",
        "#         + Political.Stability.and.Absence.of.Violence.Terrorism..Estimate.1\n",
        "#         + income, data = data.train,\n",
        "#         family = binomial(link ='cloglog'), weights = AllProtestCount)\n",
        "# ### quasi-binomial (logit) ###\n",
        "\n",
        "# res11$quasibinomial_lin <-\n",
        "#     glm(protest.ratio ~ Year + Control.of.Corruption..Estimate\n",
        "#         + Government.Effectiveness..Estimate +Political.Stability.and.Absence.of.Violence.Terrorism..Estimate\n",
        "#         + Political.Stability.and.Absence.of.Violence.Terrorism..Estimate.1\n",
        "#         + income, data = data.train,\n",
        "#         family = quasibinomial(logit), weights = AllProtestCount)\n",
        "# ### beta (logit) ###\n",
        "\n",
        "# res11$betaDsplogit_lin <-\n",
        "#     betareg(protest.ratio ~ Year + Control.of.Corruption..Estimate\n",
        "#     + Government.Effectiveness..Estimate +Political.Stability.and.Absence.of.Violence.Terrorism..Estimate\n",
        "#     + Political.Stability.and.Absence.of.Violence.Terrorism..Estimate.1\n",
        "#     + income, data = data.train)\n",
        "\n",
        "# ### beta (loglog) ###\n",
        "\n",
        "# res11$betaDsploglog_lin <-\n",
        "#     update(res11$betaDsplogit_lin, link = \"loglog\")\n",
        "# ## Binomial with cross validated Ridge penalty\n",
        "# ## Binomial with cross validated  Lasso  penalty\n",
        "# res12 <- enframe(res11)\n",
        "# #res12"
      ],
      "metadata": {
        "id": "TE5vSFu_vMSI"
      },
      "execution_count": null,
      "outputs": []
    },
    {
      "cell_type": "code",
      "source": [
        "# summary(res11)"
      ],
      "metadata": {
        "id": "5sr2PVIQvMPJ"
      },
      "execution_count": null,
      "outputs": []
    },
    {
      "cell_type": "markdown",
      "source": [
        "#### taking the summary of all teh models in html file."
      ],
      "metadata": {
        "id": "ERATTwTxEnDB"
      }
    },
    {
      "cell_type": "code",
      "source": [
        "# for (i in 1:7){\n",
        "# print(tab_model( res11[i], show.se = TRUE, show.std = TRUE, show.stat = TRUE, file = paste('Nopenalty#',i ,'.html', sep ='')))\n",
        "# }"
      ],
      "metadata": {
        "id": "REdk2xB881KW"
      },
      "execution_count": null,
      "outputs": []
    },
    {
      "cell_type": "markdown",
      "source": [
        "### Model Performance"
      ],
      "metadata": {
        "id": "1xS_iLn1E1uZ"
      }
    },
    {
      "cell_type": "code",
      "source": [
        "# model.names <- c('average_no',\n",
        "#               'binomial_logit',\n",
        "#               'binomial_probit',\n",
        "#               'binomial_cloglog',\n",
        "#               'quasibinomial_lin',\n",
        "#               'betaDsplogit_lin',\n",
        "#               'betaDsploglog_lin'\n",
        "#               )"
      ],
      "metadata": {
        "id": "bR1HvZzWEuur"
      },
      "execution_count": null,
      "outputs": []
    },
    {
      "cell_type": "code",
      "source": [
        "# listRMSEtrain = c()\n",
        "# listRMSEtest = c()\n",
        "# listMAEtrain = c()\n",
        "# listMAEtest = c()\n",
        "# for(i in res11)  {\n",
        "#  trainrmse = sqrt(mean((predict(i ,newdata = data.train, type ='response') - data.train$protest.ratio)^2)  )\n",
        "#  trainmae =  mean(abs(predict(i ,newdata = data.train, type ='response') - data.train$protest.ratio) )   \n",
        "#  testrmse = sqrt(mean((predict(i ,newdata = data.test, type ='response') - data.test$protest.ratio)^2)  )\n",
        "#  testmae =  mean(abs(predict(i ,newdata = data.test, type ='response') - data.test$protest.ratio) ) \n",
        "#  listRMSEtrain = append(listRMSEtrain, trainrmse)\n",
        "#  listMAEtrain = append(listMAEtrain, trainmae)\n",
        "#  listRMSEtest = append(listRMSEtest, testrmse)\n",
        "#  listMAEtest = append(listMAEtest, testmae)\n",
        "#   }"
      ],
      "metadata": {
        "id": "YGXQxRRbHVyJ"
      },
      "execution_count": null,
      "outputs": []
    },
    {
      "cell_type": "code",
      "source": [
        "# jpeg('comparison.jpg')\n",
        "# plot(listRMSEtrain, xlab = 'model number', ylab = 'probability', col = 'red', pch = 19, ylim = c(0.001,0.008),\n",
        "# main = \"Comparison of Different Models for Proportion Data\")\n",
        "# points(listRMSEtest , xlab = 'model number', ylab = 'probability', col = 'blue', pch = 19 )\n",
        "# points(listMAEtrain , xlab = 'model number', ylab = 'probability', col = 'pink', pch = 19 )\n",
        "# points(listMAEtest , xlab = 'model number', ylab = 'probability', col = 'purple', pch = 19 )\n",
        "# legend(\"topright\", legend = c('RMSE train', 'RMSE test', 'MAE train','MAE test' ),\n",
        "#  lwd = 3, col = c('red','blue','pink', 'purple'))\n",
        "#  dev.off()"
      ],
      "metadata": {
        "id": "v4QVrloPNr69"
      },
      "execution_count": null,
      "outputs": []
    },
    {
      "cell_type": "markdown",
      "source": [
        "## Likelyhood Ratio test"
      ],
      "metadata": {
        "id": "0sffg1XKcd8D"
      }
    },
    {
      "cell_type": "code",
      "source": [
        "# model.full = res11$binomial_logit"
      ],
      "metadata": {
        "id": "zOA_0w1hNruV"
      },
      "execution_count": null,
      "outputs": []
    },
    {
      "cell_type": "code",
      "source": [
        "# model.full"
      ],
      "metadata": {
        "id": "_D3Hnqs7cmHD"
      },
      "execution_count": null,
      "outputs": []
    },
    {
      "cell_type": "code",
      "source": [
        "# model.reduced <-list()\n",
        "# model.reduced$noyear <-  glm(formula = protest.ratio ~ Control.of.Corruption..Estimate + \n",
        "#     Government.Effectiveness..Estimate + Political.Stability.and.Absence.of.Violence.Terrorism..Estimate + \n",
        "#     Political.Stability.and.Absence.of.Violence.Terrorism..Estimate.1 + \n",
        "#     income, family = binomial(logit), data = data.train, weights = AllProtestCount)\n",
        "\n",
        "# model.reduced$nocorrups <-  glm(formula = protest.ratio ~ Year + \n",
        "#     Government.Effectiveness..Estimate + Political.Stability.and.Absence.of.Violence.Terrorism..Estimate + \n",
        "#     Political.Stability.and.Absence.of.Violence.Terrorism..Estimate.1 + \n",
        "#     income, family = binomial(logit), data = data.train, weights = AllProtestCount)\n",
        "\n",
        "# model.reduced$nogov<- glm(formula = protest.ratio ~ Year + Control.of.Corruption..Estimate +  Political.Stability.and.Absence.of.Violence.Terrorism..Estimate + \n",
        "#     Political.Stability.and.Absence.of.Violence.Terrorism..Estimate.1 + \n",
        "#     income, family = binomial(logit), data = data.train, weights = AllProtestCount)\n",
        "\n",
        "# model.reduced$noviolence1 <- glm(formula = protest.ratio ~ Year + Control.of.Corruption..Estimate + \n",
        "#     Government.Effectiveness..Estimate   + \n",
        "#     Political.Stability.and.Absence.of.Violence.Terrorism..Estimate.1 + \n",
        "#     income, family = binomial(logit), data = data.train, weights = AllProtestCount)\n",
        "\n",
        "# model.reduced$noviolence2 <- glm(formula = protest.ratio ~ Year + Control.of.Corruption..Estimate + \n",
        "#     Government.Effectiveness..Estimate + Political.Stability.and.Absence.of.Violence.Terrorism..Estimate + \n",
        "#     income, family = binomial(logit), data = data.train, weights = AllProtestCount)\n",
        "# model.reduced$noincome <-  glm(formula = protest.ratio ~ Year + Control.of.Corruption..Estimate + \n",
        "#     Government.Effectiveness..Estimate + Political.Stability.and.Absence.of.Violence.Terrorism..Estimate + \n",
        "#     Political.Stability.and.Absence.of.Violence.Terrorism..Estimate.1,\n",
        "#     family = binomial(logit), data = data.train, weights = AllProtestCount)"
      ],
      "metadata": {
        "id": "txLnArJgcn2i"
      },
      "execution_count": null,
      "outputs": []
    },
    {
      "cell_type": "code",
      "source": [
        "#summary(model.reduced)"
      ],
      "metadata": {
        "id": "WmqcKA11czKy"
      },
      "execution_count": null,
      "outputs": []
    },
    {
      "cell_type": "code",
      "source": [
        "#library(lmtest)"
      ],
      "metadata": {
        "id": "IbMu-hXQczIE"
      },
      "execution_count": null,
      "outputs": []
    },
    {
      "cell_type": "code",
      "source": [
        "# pv <- list()\n",
        "# for (i in model.reduced){\n",
        "# #print(lrtest(model.full,i ))\n",
        "# pv <- append(pv, (lrtest(model.full,i )[2,5]))#pvalue of the test.\n",
        "# }"
      ],
      "metadata": {
        "id": "ZzQKiSCPczFB"
      },
      "execution_count": null,
      "outputs": []
    },
    {
      "cell_type": "code",
      "source": [
        "# s = '\\begin{tabular}{|c|c|} \\\\hline coef&p-value\\\\ \\\\hline'\n",
        "# for (i in 1:6){\n",
        "# s= (paste(s,'$\\beta_ ', i, '$&$', pv[i], '$\\\\\\\\hline', sep =''))  \n",
        "# }\n",
        "# s = paste(s, '\\\\end{tabular}')\n",
        "# s"
      ],
      "metadata": {
        "id": "NlcMG5uTczCE"
      },
      "execution_count": null,
      "outputs": []
    },
    {
      "cell_type": "code",
      "source": [
        "#selectedmodel = model.reduced$nocorrups"
      ],
      "metadata": {
        "id": "lcVrI_4Ucy8p"
      },
      "execution_count": null,
      "outputs": []
    },
    {
      "cell_type": "code",
      "source": [
        "# data.train$selectedmodelpred <- predict(selectedmodel, \n",
        "#newdata= data.train, type = \"response\")\n",
        "# data.test$selectedmodelpred <- predict(selectedmodel, \n",
        "#newdata= data.test, type = \"response\")"
      ],
      "metadata": {
        "id": "zOJgDdiBm13E"
      },
      "execution_count": null,
      "outputs": []
    },
    {
      "cell_type": "code",
      "source": [
        "#selectedmodel$coefficients"
      ],
      "metadata": {
        "id": "1H1zeO4quKX0"
      },
      "execution_count": null,
      "outputs": []
    },
    {
      "cell_type": "code",
      "source": [
        "#tab_model(selectedmodel, file = 'selected.html')"
      ],
      "metadata": {
        "id": "DuyQorZ9uWgs"
      },
      "execution_count": null,
      "outputs": []
    },
    {
      "cell_type": "code",
      "source": [
        "#colnames(data.train)"
      ],
      "metadata": {
        "id": "Hh3MaO2rlqjI"
      },
      "execution_count": null,
      "outputs": []
    },
    {
      "cell_type": "code",
      "source": [
        "# trainRMSEselect = sqrt(mean((data.train[,10]- data.train[,9])^2))\n",
        "# testRMSEselect = sqrt(mean((data.test[,10]- data.test[,9])^2))\n",
        "# trainMAEselect =  mean(abs(data.train[,10]- data.train[,9]) ) \n",
        "# testMAEselect =  mean(abs(data.test[,10]- data.test[,9]) ) "
      ],
      "metadata": {
        "id": "cbxwY3fulXPu"
      },
      "execution_count": null,
      "outputs": []
    },
    {
      "cell_type": "code",
      "source": [
        "#print(paste(trainRMSEselect, testRMSEselect, trainMAEselect, testMAEselect))"
      ],
      "metadata": {
        "id": "YZ1l5NntlwGM"
      },
      "execution_count": null,
      "outputs": []
    },
    {
      "cell_type": "code",
      "source": [
        "# trainrmse = sqrt(mean((predict(model.full ,newdata = as.data.frame(data.train), type ='response') - data.train[,9])^2)  )\n",
        "# trainmae =  mean(abs(predict(model.full ,newdata = as.data.frame(data.train), type ='response') - data.train[,9]) )   \n",
        "# testrmse = sqrt(mean((predict(model.full ,newdata = as.data.frame(data.test), type ='response') - data.test[,9])^2)  )\n",
        "# testmae =  mean(abs(predict(model.full,newdata =  as.data.frame(data.test), type ='response') - data.test[,9]) )"
      ],
      "metadata": {
        "id": "ZtHW5WZ-nBtu"
      },
      "execution_count": null,
      "outputs": []
    },
    {
      "cell_type": "code",
      "source": [
        "#print(paste(trainrmse, testrmse, trainmae, testmae))#"
      ],
      "metadata": {
        "id": "Ssfv8Cq3olf3"
      },
      "execution_count": null,
      "outputs": []
    },
    {
      "cell_type": "markdown",
      "source": [
        "### Logistic regression with elastic net penalty using cross validation."
      ],
      "metadata": {
        "id": "ne0wl2iwItif"
      }
    },
    {
      "cell_type": "code",
      "source": [
        "# data.train <- as.matrix(data.train) \n",
        "# data.test <- as.matrix(data.test) "
      ],
      "metadata": {
        "id": "E26K4b2Lmgjz"
      },
      "execution_count": null,
      "outputs": []
    },
    {
      "cell_type": "code",
      "source": [
        "# colnames(data.train)"
      ],
      "metadata": {
        "id": "ATviO8bboq6P"
      },
      "execution_count": null,
      "outputs": []
    },
    {
      "cell_type": "code",
      "source": [
        "# features = colnames(data.train)[-c(2,3,9,10)]"
      ],
      "metadata": {
        "id": "va9tPsaEoxzu"
      },
      "execution_count": null,
      "outputs": []
    },
    {
      "cell_type": "code",
      "source": [
        "# #test glmnet \n",
        "\n",
        "# failure = data.train[,3]-  data.train[,2]\n",
        "# success = data.train[,2]\n",
        " \n",
        "# y<- data.frame(failure, success)\n",
        "# y = as.matrix(y)"
      ],
      "metadata": {
        "id": "FhNdlmP0rnka"
      },
      "execution_count": null,
      "outputs": []
    },
    {
      "cell_type": "code",
      "source": [
        "# y"
      ],
      "metadata": {
        "id": "MZSRuf_NsH5K"
      },
      "execution_count": null,
      "outputs": []
    },
    {
      "cell_type": "code",
      "source": [
        "# cv_train_std <- cv.glmnet(as.matrix(data.train[,features]) , y, type.measure=\"mse\", nfolds=10, family=\"binomial\",alpha=0)\n",
        "\n",
        "# lambda <- cv_train_std$lambda.min"
      ],
      "metadata": {
        "id": "YsAr51LHmgg8"
      },
      "execution_count": null,
      "outputs": []
    },
    {
      "cell_type": "code",
      "source": [
        "# lambda"
      ],
      "metadata": {
        "id": "UDwh-ti7s3nj"
      },
      "execution_count": null,
      "outputs": []
    },
    {
      "cell_type": "code",
      "source": [
        "# #fit the model\n",
        "# #alpha=0 for the ridge penalty, alpha=1 for the lasso penalty\n",
        "\n",
        "# std_ridge_logit <- glmnet(as.matrix(data.train[,features]), y, family=\"binomial\", alpha=0)\n",
        "\n",
        "# #predicting with the training set\n",
        "# SRL_pred_train <- predict( std_ridge_logit, newx = as.matrix(data.train[,features]), type=\"response\", s=lambda)"
      ],
      "metadata": {
        "id": "LBi1Ewoxs3kl"
      },
      "execution_count": null,
      "outputs": []
    },
    {
      "cell_type": "code",
      "source": [
        "# SRL_pred_train"
      ],
      "metadata": {
        "id": "VGARfmDss3hc"
      },
      "execution_count": null,
      "outputs": []
    },
    {
      "cell_type": "code",
      "source": [
        "# SRL_pred_test <- predict( std_ridge_logit, newx = as.matrix(data.test[,features]), type=\"response\", s=lambda)"
      ],
      "metadata": {
        "id": "-80AwvDCs3em"
      },
      "execution_count": null,
      "outputs": []
    },
    {
      "cell_type": "code",
      "source": [
        "# coef(std_ridge_logit, s = lambda) "
      ],
      "metadata": {
        "id": "BSqwQ-aqs3bj"
      },
      "execution_count": null,
      "outputs": []
    },
    {
      "cell_type": "code",
      "source": [
        "# trainrmse = sqrt(mean((SRL_pred_train - data.train[,9])^2)  )\n",
        "# trainmae =  mean(abs(SRL_pred_train - data.train[,9]) )   \n",
        "# testrmse = sqrt(mean((SRL_pred_test- data.test[,9])^2)  )\n",
        "# testmae =  mean(abs(SRL_pred_test - data.test[,9]) )"
      ],
      "metadata": {
        "id": "AYn7ilsds3Yr"
      },
      "execution_count": null,
      "outputs": []
    },
    {
      "cell_type": "code",
      "source": [
        "# print(paste(trainrmse, testrmse, trainmae, testmae))"
      ],
      "metadata": {
        "id": "oH-QT-H-w1v4"
      },
      "execution_count": null,
      "outputs": []
    },
    {
      "cell_type": "code",
      "source": [
        "# ridge = c(lambda, 0,as.vector(coef(std_ridge_logit, s = lambda)), trainrmse, testrmse, trainmae, testmae )"
      ],
      "metadata": {
        "id": "ojQa2Eha6w4B"
      },
      "execution_count": null,
      "outputs": []
    },
    {
      "cell_type": "code",
      "source": [
        "# length(ridge.prams)"
      ],
      "metadata": {
        "id": "2eBIVvj18_ms"
      },
      "execution_count": null,
      "outputs": []
    },
    {
      "cell_type": "code",
      "source": [
        "# model.coef <- data.frame(ridge)\n",
        "# row.names(model.coef) <- c('lambda', 'alpha',\n",
        "#                         'beta_0', 'beta_1','beta_2',\n",
        "#                         'beta_3','beta_4','beta_5',\n",
        "#                         'beta_6', 'train rmse', \n",
        "#                         'testr mse', 'train mae', 'test mae')\n",
        "# model.coef"
      ],
      "metadata": {
        "id": "Vk7F_VB46wrM"
      },
      "execution_count": null,
      "outputs": []
    },
    {
      "cell_type": "code",
      "source": [
        "# # LASSO regression\n",
        "# set.seed(123)\n",
        " \n",
        "# cv_train_std <- cv.glmnet(as.matrix(data.train[,features]) , y, type.measure=\"mse\", nfolds=10, family=\"binomial\",alpha=1)\n",
        "# lambda <- cv_train_std$lambda.min\n",
        "# #fit the model\n",
        "# #alpha=0 for the ridge penalty, alpha=1 for the lasso penalty\n",
        "\n",
        "# std_lasso_logit <- glmnet(as.matrix(data.train[,features]), y, family=\"binomial\", alpha=1)\n",
        "\n",
        "# #predicting with the training set\n",
        "# lasso_pred_train <- predict(std_lasso_logit, newx = as.matrix(data.train[,features]), type=\"response\", s=lambda)\n",
        "# #predicting with the testing set\n",
        "# lasso_pred_test <- predict(std_lasso_logit, newx = as.matrix(data.test[,features]), type=\"response\", s=lambda)"
      ],
      "metadata": {
        "id": "xEZdy_9qxUp-"
      },
      "execution_count": null,
      "outputs": []
    },
    {
      "cell_type": "code",
      "source": [
        "# trainrmse = sqrt(mean((lasso_pred_train - data.train[,9])^2)  )\n",
        "# trainmae =  mean(abs(lasso_pred_train - data.train[,9]) )   \n",
        "# testrmse = sqrt(mean((lasso_pred_test- data.test[,9])^2)  )\n",
        "# testmae =  mean(abs(lasso_pred_test - data.test[,9]) )\n",
        "\n",
        "# print(paste(trainrmse, testrmse, trainmae, testmae))"
      ],
      "metadata": {
        "id": "JcRi7JK3xUdC"
      },
      "execution_count": null,
      "outputs": []
    },
    {
      "cell_type": "code",
      "source": [
        "# lasso = c(lambda,1,as.vector(coef(std_lasso_logit, s = lambda)), trainrmse, testrmse, trainmae, testmae )"
      ],
      "metadata": {
        "id": "-R7xNojy9kXg"
      },
      "execution_count": null,
      "outputs": []
    },
    {
      "cell_type": "code",
      "source": [
        "# model.coef$lasso <- lasso\n",
        "# model.coef"
      ],
      "metadata": {
        "id": "EHdUiAUu9kUt"
      },
      "execution_count": null,
      "outputs": []
    },
    {
      "cell_type": "code",
      "source": [
        "# # Train model.\n",
        "# set.seed(123)\n",
        "\n",
        "# fit <- cva.glmnet(as.matrix(data.train[,features]), as.matrix(y), family ='binomial')\n",
        "\n",
        "# # Get alpha.\n",
        "# get_alpha <- function(fit) {\n",
        "#   alpha <- fit$alpha\n",
        "#   error <- sapply(fit$modlist, function(mod) {min(mod$cvm)})\n",
        "#   alpha[which.min(error)]\n",
        "# }\n",
        "\n",
        "# # Get all parameters.\n",
        "# get_model_params <- function(fit) {\n",
        "#   alpha <- fit$alpha\n",
        "#   lambdaMin <- sapply(fit$modlist, `[[`, \"lambda.min\")\n",
        "#   lambdaSE <- sapply(fit$modlist, `[[`, \"lambda.1se\")\n",
        "#   error <- sapply(fit$modlist, function(mod) {min(mod$cvm)})\n",
        "#   best <- which.min(error)\n",
        "#   data.frame(alpha = alpha[best], lambdaMin = lambdaMin[best],\n",
        "#              lambdaSE = lambdaSE[best], eror = error[best])\n",
        "# }"
      ],
      "metadata": {
        "id": "LmDRF3lyxUZS"
      },
      "execution_count": null,
      "outputs": []
    },
    {
      "cell_type": "code",
      "source": [
        "#alpha = get_alpha(fit)"
      ],
      "metadata": {
        "id": "06-d18trxUWH"
      },
      "execution_count": null,
      "outputs": []
    },
    {
      "cell_type": "code",
      "source": [
        "#lambda = get_model_params(fit)$lambdaMin"
      ],
      "metadata": {
        "id": "YVsfDPV149y1"
      },
      "execution_count": null,
      "outputs": []
    },
    {
      "cell_type": "code",
      "source": [
        "# #fit the model\n",
        "# std_mixed_logit <- glmnet(as.matrix(data.train[,features]),\n",
        "# y, family=\"binomial\", alpha=alpha)\n",
        "\n",
        "# #predicting with the training set\n",
        "# mixed_pred_train <- predict(std_mixed_logit, \n",
        "#newx = as.matrix(data.train[,features]),\n",
        "# type=\"response\", s=lambda)\n",
        "# #predicting with the testing set\n",
        "# mixed_pred_test <- predict(std_mixed_logit, \n",
        "#newx = as.matrix(data.test[,features]), \n",
        "#type=\"response\", s=lambda)"
      ],
      "metadata": {
        "id": "dI7zB8xZ5bJU"
      },
      "execution_count": null,
      "outputs": []
    },
    {
      "cell_type": "code",
      "source": [
        "# trainrmse = sqrt(mean((mixed_pred_train - data.train[,9])^2)  )\n",
        "# trainmae =  mean(abs(mixed_pred_train - data.train[,9]) )   \n",
        "# testrmse = sqrt(mean((mixed_pred_test- data.test[,9])^2)  )\n",
        "# testmae =  mean(abs(mixed_pred_test - data.test[,9]) )\n",
        "\n",
        "# print(paste(trainrmse, testrmse, trainmae, testmae))"
      ],
      "metadata": {
        "id": "KhgY2E2r5a_b"
      },
      "execution_count": null,
      "outputs": []
    },
    {
      "cell_type": "code",
      "source": [
        "# mixed  = c(lambda,alpha,as.vector(coef(std_mixed_logit, s = lambda)), trainrmse, testrmse, trainmae, testmae )"
      ],
      "metadata": {
        "id": "QRqH0a-b_OT1"
      },
      "execution_count": null,
      "outputs": []
    },
    {
      "cell_type": "code",
      "source": [
        "# model.coef$mixed <- mixed\n",
        "# model.coef"
      ],
      "metadata": {
        "id": "h_gekr73_OQq"
      },
      "execution_count": null,
      "outputs": []
    },
    {
      "cell_type": "code",
      "source": [
        "#write.csv(model.coef, 'coefs.txt')"
      ],
      "metadata": {
        "id": "bQy1rHLQ_ONI"
      },
      "execution_count": null,
      "outputs": []
    },
    {
      "cell_type": "code",
      "source": [
        "# data.train <- as.data.frame(data.train)\n",
        "# data.test<- as.data.frame(data.test)"
      ],
      "metadata": {
        "id": "xhNp8JbuGZMb"
      },
      "execution_count": null,
      "outputs": []
    },
    {
      "cell_type": "code",
      "source": [
        "# data.train$Ridge <- SRL_pred_train\n",
        "# data.test$Ridge <- SRL_pred_test\n",
        "# data.train$Lasso <- lasso_pred_train\n",
        "# data.test$Lasso <- lasso_pred_test\n",
        "# data.train$Mixed <- mixed_pred_train\n",
        "# data.test$Mixed <- mixed_pred_test"
      ],
      "metadata": {
        "id": "U2gnlCVTGh4F"
      },
      "execution_count": null,
      "outputs": []
    },
    {
      "cell_type": "code",
      "source": [
        "# write.csv(data.train, 'datatrainbinomial.csv')\n",
        "# write.csv(data.test, 'datatestbinomial.csv')"
      ],
      "metadata": {
        "id": "C5P1LDbsHNhE"
      },
      "execution_count": null,
      "outputs": []
    },
    {
      "cell_type": "code",
      "source": [
        "data.train <- read.csv('https://raw.githubusercontent.com/antsaaims/StudentprotestGDELT/main/datatrainbinomial.csv', header =TRUE)"
      ],
      "metadata": {
        "id": "G0myQvtgE_iZ"
      },
      "execution_count": null,
      "outputs": []
    },
    {
      "cell_type": "code",
      "source": [
        "data.test <- read.csv('https://raw.githubusercontent.com/antsaaims/StudentprotestGDELT/main/datatestbinomial.csv', header =TRUE)"
      ],
      "metadata": {
        "id": "L5BpUm0jLCn5"
      },
      "execution_count": null,
      "outputs": []
    },
    {
      "cell_type": "markdown",
      "source": [
        "## Poisson regression."
      ],
      "metadata": {
        "id": "uz1dO6pJI1mH"
      }
    },
    {
      "cell_type": "code",
      "source": [
        "features =  colnames(data.train)[-c(1,3,4,10,11,12,13,14,15)]"
      ],
      "metadata": {
        "id": "myC80aVBOUFJ"
      },
      "execution_count": null,
      "outputs": []
    },
    {
      "cell_type": "code",
      "source": [
        "x = as.matrix(data.train[features])"
      ],
      "metadata": {
        "id": "wUPCQ3BGxn0X"
      },
      "execution_count": null,
      "outputs": []
    },
    {
      "cell_type": "code",
      "source": [
        "y = as.matrix(data.train['StudentProtestCount'])"
      ],
      "metadata": {
        "id": "RIVPZF1Cxwln"
      },
      "execution_count": null,
      "outputs": []
    },
    {
      "cell_type": "code",
      "source": [
        "cvfit <- cva.glmnet(x, y, family = \"poisson\", type.measure= 'mse')"
      ],
      "metadata": {
        "id": "QH_23YZzxxSX"
      },
      "execution_count": null,
      "outputs": []
    },
    {
      "cell_type": "code",
      "source": [
        "# Get alpha.\n",
        "get_alpha <- function(fit) {\n",
        "  alpha <- fit$alpha\n",
        "  error <- sapply(fit$modlist, function(mod) {min(mod$cvm)})\n",
        "  alpha[which.min(error)]\n",
        "}\n",
        "\n",
        "# Get all parameters.\n",
        "get_model_params <- function(fit) {\n",
        "  alpha <- fit$alpha\n",
        "  lambdaMin <- sapply(fit$modlist, `[[`, \"lambda.min\")\n",
        "  lambdaSE <- sapply(fit$modlist, `[[`, \"lambda.1se\")\n",
        "  error <- sapply(fit$modlist, function(mod) {min(mod$cvm)})\n",
        "  best <- which.min(error)\n",
        "  data.frame(alpha = alpha[best], lambdaMin = lambdaMin[best],\n",
        "             lambdaSE = lambdaSE[best], eror = error[best])\n",
        "}"
      ],
      "metadata": {
        "id": "taRiiX8o7bkD"
      },
      "execution_count": null,
      "outputs": []
    },
    {
      "cell_type": "code",
      "source": [
        "alpha = get_alpha(cvfit)\n",
        "lambda = get_model_params(cvfit)$lambdaMin"
      ],
      "metadata": {
        "id": "Xc-TrNAn7bbT"
      },
      "execution_count": null,
      "outputs": []
    },
    {
      "cell_type": "code",
      "source": [
        "#fit the model\n",
        "std_mixed_poisson <- glmnet(x,\n",
        "y, family=\"poisson\", alpha=alpha)\n",
        "\n",
        "#predicting with the training set\n",
        "poisson_pred_train <- predict(std_mixed_poisson, \n",
        "newx =  x,\n",
        "type=\"response\", s=lambda)\n",
        "\n",
        "#predicting with the testing set\n",
        "\n",
        "poisson_pred_test <-  predict(std_mixed_poisson, \n",
        "newx = as.matrix(data.test[features]), \n",
        "type=\"response\", s=lambda)"
      ],
      "metadata": {
        "id": "Ijh-iT4M8Ax0"
      },
      "execution_count": null,
      "outputs": []
    },
    {
      "cell_type": "code",
      "source": [
        "trainrmse = sqrt(mean((poisson_pred_train - data.train$StudentProtestCount)^2)  )\n",
        "trainmae =  mean(abs(poisson_pred_train - data.train$StudentProtestCount) )   \n",
        "testrmse = sqrt(mean((poisson_pred_test- data.test$StudentProtestCount)^2)  )\n",
        "testmae =  mean(abs(poisson_pred_test - data.test$StudentProtestCount) )\n",
        "\n",
        "print(paste(trainrmse, testrmse, trainmae, testmae))"
      ],
      "metadata": {
        "id": "lIn2xs2t3yqP"
      },
      "execution_count": null,
      "outputs": []
    },
    {
      "cell_type": "code",
      "source": [
        "predict(std_mixed_poisson, \n",
        "newx =  x,\n",
        "type=\"coefficients\", s=lambda)"
      ],
      "metadata": {
        "id": "oKoCDYfJ37G3"
      },
      "execution_count": null,
      "outputs": []
    },
    {
      "cell_type": "code",
      "source": [
        "poiss = c(lambda,alpha,as.vector(coef(std_mixed_poisson, s = lambda)), trainrmse, testrmse, trainmae, testmae )"
      ],
      "metadata": {
        "id": "7Dbs9ofT815X"
      },
      "execution_count": null,
      "outputs": []
    },
    {
      "cell_type": "code",
      "source": [
        "model.coef <- data.frame(poiss)\n",
        "row.names(model.coef) <- c('lambda', 'alpha',\n",
        "                        'beta_0', 'beta_1','beta_2',\n",
        "                        'beta_3','beta_4','beta_5',\n",
        "                        'beta_6', 'train rmse', \n",
        "                        'testr mse', 'train mae', 'test mae')\n",
        "model.coef"
      ],
      "metadata": {
        "id": "nrRy61Ce9Z7y"
      },
      "execution_count": null,
      "outputs": []
    },
    {
      "cell_type": "code",
      "source": [
        "#write.csv(model.coef, 'poisson.txt')"
      ],
      "metadata": {
        "id": "1hXFHZf69N3x"
      },
      "execution_count": null,
      "outputs": []
    },
    {
      "cell_type": "code",
      "source": [
        "data.train$Poisson <- poisson_pred_train \n",
        "data.test$Poisson <- poisson_pred_test"
      ],
      "metadata": {
        "id": "dDi_Gi_x9WqB"
      },
      "execution_count": null,
      "outputs": []
    },
    {
      "cell_type": "code",
      "source": [
        "data.train$selectedcount <- data.train$selectedmodelpred *  data.train$AllProtestCount\n",
        "data.test$selectedcount <- data.test$selectedmodelpred *  data.test$AllProtestCount\n",
        "\n",
        "data.train$ridgecount <- data.train$Ridge *  data.train$AllProtestCount\n",
        "data.test$ridgecount <- data.test$Ridge *  data.test$AllProtestCount\n",
        "\n",
        "data.train$lassocount <- data.train$Lasso *  data.train$AllProtestCount\n",
        "data.test$lassocount <- data.test$Lasso *  data.test$AllProtestCount\n",
        "\n",
        "data.train$mixedcount <- data.train$Mixed *  data.train$AllProtestCount\n",
        "data.test$mixedcount <- data.test$Mixed *  data.test$AllProtestCount\n"
      ],
      "metadata": {
        "id": "l6AQOi3a-It7"
      },
      "execution_count": null,
      "outputs": []
    },
    {
      "cell_type": "code",
      "source": [
        "# reduced model \n",
        "x1 =x[,-c(2)]\n",
        "\n",
        "\n",
        "\n",
        "\n",
        "cvfit2 <- cva.glmnet(x1, y, family = \"poisson\", type.measure= 'mse')\n",
        "alpha = get_alpha(cvfit2)\n",
        "lambda = get_model_params(cvfit2)$lambdaMin\n",
        "\n",
        "\n",
        "\n",
        "#fit the model\n",
        "reduced_poisson <- glmnet(x1,\n",
        "y, family=\"poisson\", alpha=alpha)\n",
        "\n",
        "# #predicting with the training set\n",
        "# poisson_pred_train <- predict(std_mixed_poisson, \n",
        "# newx =  x,\n",
        "# type=\"response\", s=lambda)\n",
        "\n",
        "# #predicting with the testing set\n",
        "\n",
        "# poisson_pred_test <-  predict(std_mixed_poisson, \n",
        "# newx = as.matrix(data.test[features]), \n",
        "# type=\"response\", s=lambda)\n"
      ],
      "metadata": {
        "id": "XzfaYlz_N_UY"
      },
      "execution_count": null,
      "outputs": []
    },
    {
      "cell_type": "code",
      "source": [
        "m1 <- glm( StudentProtestCount ~ \n",
        "        Year\n",
        "        +Control.of.Corruption..Estimate\n",
        "        +Government.Effectiveness..Estimate\n",
        "        +Political.Stability.and.Absence.of.Violence.Terrorism..Estimate\n",
        "        +Political.Stability.and.Absence.of.Violence.Terrorism..Estimate.1\n",
        "        +income\n",
        "        , family=\"poisson\", data=data.train)"
      ],
      "metadata": {
        "id": "8f5yvUM7OAZg"
      },
      "execution_count": null,
      "outputs": []
    },
    {
      "cell_type": "code",
      "source": [
        "trainpred <- predict(m1, newdata = data.train )\n",
        "testpred<- predict(m1, newdata = data.test)"
      ],
      "metadata": {
        "id": "3V1Fk9Y3ZTCm"
      },
      "execution_count": null,
      "outputs": []
    },
    {
      "cell_type": "code",
      "source": [
        "#print(tab_model(m1, file =  'poisson.html'))"
      ],
      "metadata": {
        "id": "Bl_55H9PUl9G"
      },
      "execution_count": null,
      "outputs": []
    },
    {
      "cell_type": "code",
      "source": [
        "trainrmse = sqrt(mean(( - data.train$StudentProtestCount)^2)  )\n",
        "trainmae =  mean(abs(  - data.train$StudentProtestCount) )   \n",
        "testrmse = sqrt(mean(( - data.test$StudentProtestCount)^2)  )\n",
        "testmae =  mean(abs(  - data.test$StudentProtestCount) )\n",
        "\n",
        "print(paste(trainrmse, testrmse, trainmae, testmae))"
      ],
      "metadata": {
        "id": "Ms0Z18K_UnId"
      },
      "execution_count": null,
      "outputs": []
    },
    {
      "cell_type": "code",
      "source": [
        "m2 <- glm( StudentProtestCount ~ \n",
        "        Year\n",
        "        +Government.Effectiveness..Estimate\n",
        "        +Political.Stability.and.Absence.of.Violence.Terrorism..Estimate\n",
        "        +Political.Stability.and.Absence.of.Violence.Terrorism..Estimate.1\n",
        "        +income\n",
        "        , family=\"poisson\", data=data.train)"
      ],
      "metadata": {
        "id": "2m5v_dz3apLR"
      },
      "execution_count": null,
      "outputs": []
    },
    {
      "cell_type": "code",
      "source": [
        "print(lrtest(m1, m2))"
      ],
      "metadata": {
        "id": "ceOpR-8zas5D"
      },
      "execution_count": null,
      "outputs": []
    }
  ]
}