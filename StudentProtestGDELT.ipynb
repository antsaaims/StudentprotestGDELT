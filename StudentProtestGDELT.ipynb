{
  "nbformat": 4,
  "nbformat_minor": 0,
  "metadata": {
    "colab": {
      "name": "StudentProtestGDELT.ipynb",
      "provenance": [],
      "collapsed_sections": [
        "CwAEfXvLCDcB",
        "1xS_iLn1E1uZ"
      ],
      "authorship_tag": "ABX9TyMikj+jlSy9L1ZAvxmYUEOt",
      "include_colab_link": true
    },
    "kernelspec": {
      "name": "ir",
      "display_name": "R"
    },
    "language_info": {
      "name": "R"
    }
  },
  "cells": [
    {
      "cell_type": "markdown",
      "metadata": {
        "id": "view-in-github",
        "colab_type": "text"
      },
      "source": [
        "<a href=\"https://colab.research.google.com/github/antsaaims/StudentprotestGDELT/blob/main/StudentProtestGDELT.ipynb\" target=\"_parent\"><img src=\"https://colab.research.google.com/assets/colab-badge.svg\" alt=\"Open In Colab\"/></a>"
      ]
    },
    {
      "cell_type": "markdown",
      "source": [
        "#  Analysis of Student Protests Around the World and over Time Insight from the Global Database of Events, Language and Tone(GDELT) project\n",
        "\n",
        "\n"
      ],
      "metadata": {
        "id": "5AgPHKRbtMfB"
      }
    },
    {
      "cell_type": "markdown",
      "source": [
        "It is the notebook used to process the data  and do all required analysis for this project."
      ],
      "metadata": {
        "id": "wSJc5fGJtU2q"
      }
    },
    {
      "cell_type": "markdown",
      "source": [
        "## Paquages installation"
      ],
      "metadata": {
        "id": "xSWbb6amC1Tu"
      }
    },
    {
      "cell_type": "code",
      "source": [
        "# installing paquages\n",
        "\n",
        "#install.packages(\"countrycode\") #conversion between different country codes\n",
        "#install.packages(\"DataExplorer\") # Exploratory data analysis\n",
        "#install.packages('ISLR') #Data for an Introduction to \n",
        "#Statistical Learning with Applications in R\n",
        "#just for messing around with function!\n",
        "install.packages('glmnet') # general linear regression with penalty\n",
        "install.packages('conflicted') #used when there are packages having teh sam emethod name\n",
        "install.packages('betareg') # for beta regression \n",
        "install.packages('kableExtra') # to build table\n",
        "install.packages('sjPlot') #creating graphics\n",
        "install.packages('sjmisc') #data transformation \n",
        "install.packages('sjlabelled') #work with labelled data"
      ],
      "metadata": {
        "id": "LD6oxRhEC4Dk",
        "colab": {
          "base_uri": "https://localhost:8080/"
        },
        "outputId": "508b9078-0f17-4d1b-f4e8-d707e849c4ca"
      },
      "execution_count": 1,
      "outputs": [
        {
          "output_type": "stream",
          "name": "stderr",
          "text": [
            "Installing package into ‘/usr/local/lib/R/site-library’\n",
            "(as ‘lib’ is unspecified)\n",
            "\n",
            "Installing package into ‘/usr/local/lib/R/site-library’\n",
            "(as ‘lib’ is unspecified)\n",
            "\n",
            "Installing package into ‘/usr/local/lib/R/site-library’\n",
            "(as ‘lib’ is unspecified)\n",
            "\n",
            "Installing package into ‘/usr/local/lib/R/site-library’\n",
            "(as ‘lib’ is unspecified)\n",
            "\n",
            "Installing package into ‘/usr/local/lib/R/site-library’\n",
            "(as ‘lib’ is unspecified)\n",
            "\n",
            "Installing package into ‘/usr/local/lib/R/site-library’\n",
            "(as ‘lib’ is unspecified)\n",
            "\n",
            "Installing package into ‘/usr/local/lib/R/site-library’\n",
            "(as ‘lib’ is unspecified)\n",
            "\n"
          ]
        }
      ]
    },
    {
      "cell_type": "markdown",
      "source": [
        "## Preparing and cleaning the data.\n",
        "\n",
        "This part was used to prepare the data. After the preparation, all data was uploaded in the [GitHub repository](https://github.com/antsaaims/StudentprotestGDELT).\n"
      ],
      "metadata": {
        "id": "RMh568TpO4wF"
      }
    },
    {
      "cell_type": "code",
      "execution_count": 2,
      "metadata": {
        "id": "LMjoaBiUtJep"
      },
      "outputs": [],
      "source": [
        "#url ='https://raw.githubusercontent.com/antsaaims/StudentprotestGDELT/main/protest_data_final.csv'"
      ]
    },
    {
      "cell_type": "code",
      "source": [
        "#protest_data = na.omit(read.table(url,  sep=',',header = TRUE))"
      ],
      "metadata": {
        "id": "kfstY8yquVTz"
      },
      "execution_count": 3,
      "outputs": []
    },
    {
      "cell_type": "code",
      "source": [
        "# #omit the first case(1920)\n",
        "# protest_data = subset(protest_data, Year>2013 & Year<2021) \n",
        "# protest_data"
      ],
      "metadata": {
        "id": "-4Vh7w71uXla"
      },
      "execution_count": 4,
      "outputs": []
    },
    {
      "cell_type": "markdown",
      "source": [
        "The detail about the data Countrycode is [here](https://vincentarelbundock.github.io/countrycode/)"
      ],
      "metadata": {
        "id": "yIsBZUtk6fFI"
      }
    },
    {
      "cell_type": "code",
      "source": [
        "# library(countrycode)"
      ],
      "metadata": {
        "id": "mU5o5MNC6lX9"
      },
      "execution_count": 5,
      "outputs": []
    },
    {
      "cell_type": "code",
      "source": [
        "# countrycode('PK', origin = 'fips' , destination = 'country.name')"
      ],
      "metadata": {
        "id": "wMXQunl46eKm"
      },
      "execution_count": 6,
      "outputs": []
    },
    {
      "cell_type": "code",
      "source": [
        "# protest_data$Country = countrycode( protest_data$CountryCode  , origin = 'fips' , destination = 'country.name')"
      ],
      "metadata": {
        "id": "MT3hqJGZ62jw"
      },
      "execution_count": 7,
      "outputs": []
    },
    {
      "cell_type": "code",
      "source": [
        "# protest_data"
      ],
      "metadata": {
        "id": "zL1b0px26_lo"
      },
      "execution_count": 8,
      "outputs": []
    },
    {
      "cell_type": "code",
      "source": [
        "# urlgov = 'https://raw.githubusercontent.com/antsaaims/StudentprotestGDELT/main/governance.csv'"
      ],
      "metadata": {
        "id": "kwmj3axL7ZhZ"
      },
      "execution_count": 9,
      "outputs": []
    },
    {
      "cell_type": "code",
      "source": [
        "# governance_data = read.table(urlgov, sep =',', header = TRUE)"
      ],
      "metadata": {
        "id": "9Vu8SmG38pBa"
      },
      "execution_count": 10,
      "outputs": []
    },
    {
      "cell_type": "code",
      "source": [
        "# governance_data"
      ],
      "metadata": {
        "id": "YDmbq8zm8tk6"
      },
      "execution_count": 11,
      "outputs": []
    },
    {
      "cell_type": "code",
      "source": [
        "# governance_data = governance_data[-c(855,856,857,858,859),]"
      ],
      "metadata": {
        "id": "XqzPf1eTDZlx"
      },
      "execution_count": 12,
      "outputs": []
    },
    {
      "cell_type": "code",
      "source": [
        "# colnames  = c('Control of Corruption: Estimate', 'Government Effectiveness: Estimate', 'Political Stability and Absence of Violence/Terrorism: Estimate', 'Political Stability and Absence of Violence/Terrorism: Estimate')"
      ],
      "metadata": {
        "id": "kRj9Odv9_fdO"
      },
      "execution_count": 13,
      "outputs": []
    },
    {
      "cell_type": "code",
      "source": [
        "# rownames =  2014:2020 "
      ],
      "metadata": {
        "id": "J3ZoZVGz-T5k"
      },
      "execution_count": 14,
      "outputs": []
    },
    {
      "cell_type": "code",
      "source": [
        "# country = 'Afghanistan'\n",
        "# AFG = data.frame(t(subset(governance_data, Country.Name == country))[-c(1,2,3,4),])\n",
        "\n",
        "# row.names(AFG) = rownames\n",
        "# colnames(AFG) = colnames\n",
        "# AFG$Country =  country\n"
      ],
      "metadata": {
        "id": "w_4LhcCk_2zU"
      },
      "execution_count": 15,
      "outputs": []
    },
    {
      "cell_type": "code",
      "source": [
        "# make_data <- function(country) {\n",
        " \n",
        "# mydata = data.frame(t(subset(governance_data, Country.Name == country))[-c(1,2,3,4),])\n",
        "\n",
        "# colnames(mydata) = colnames\n",
        "# mydata$Year = rownames\n",
        "\n",
        "# mydata$Country =  country\n",
        "# mydata\n",
        "# }\n",
        "\n"
      ],
      "metadata": {
        "id": "HjaZulzeADQG"
      },
      "execution_count": 16,
      "outputs": []
    },
    {
      "cell_type": "code",
      "source": [
        "# make_data('Afghanistan') #test if it is working or not"
      ],
      "metadata": {
        "id": "TBMisYVoCG_o"
      },
      "execution_count": 17,
      "outputs": []
    },
    {
      "cell_type": "code",
      "source": [
        "# list_countries = (unique(governance_data[c(\"Country.Name\")]))\n",
        "# list_countries = list_countries[-c(218,217,216)]"
      ],
      "metadata": {
        "id": "eM9pePn2Cpww"
      },
      "execution_count": 18,
      "outputs": []
    },
    {
      "cell_type": "code",
      "source": [
        "# nrow(list_countries)"
      ],
      "metadata": {
        "id": "nPjhdCWGEGXp"
      },
      "execution_count": 19,
      "outputs": []
    },
    {
      "cell_type": "code",
      "source": [
        "# for (x in 1:nrow(list_countries)) {\n",
        "#   print(list_countries['Country.Name'][x,1])\n",
        "# }"
      ],
      "metadata": {
        "id": "L-OfJ8nIEPhC"
      },
      "execution_count": 20,
      "outputs": []
    },
    {
      "cell_type": "markdown",
      "source": [
        "I totally do not know what is happening with Cote dIvoire....so I removed it....\n",
        "\n"
      ],
      "metadata": {
        "id": "VCXbHdUaGjmw"
      }
    },
    {
      "cell_type": "code",
      "source": [
        "# n  = nrow(list_countries)\n",
        "# #n =3 \n",
        "# make_all_data = function(){\n",
        "# final_data = make_data(list_countries['Country.Name'][1,1])\n",
        "# for (x in 2:n) {\n",
        "#   country = list_countries['Country.Name'][x,1]\n",
        "#   if(nchar(country)<34){\n",
        "#   final_data = rbind(final_data,make_data(country))\n",
        "#   }\n",
        "# }\n",
        "# row.names(final_data) = 1:nrow(final_data)\n",
        "# final_data  \n",
        "# } "
      ],
      "metadata": {
        "id": "YsUCZCHdG18Y"
      },
      "execution_count": 21,
      "outputs": []
    },
    {
      "cell_type": "code",
      "source": [
        "# governance_data_cleaned = make_all_data()\n"
      ],
      "metadata": {
        "id": "GUT3hf56HEi6"
      },
      "execution_count": 22,
      "outputs": []
    },
    {
      "cell_type": "code",
      "source": [
        "# Merged_data = merge(x = protest_data, y =governance_data_cleaned, by.x = c('Year','Country'), by.y= c('Year','Country'),all.x = TRUE,all.y = FALSE, sort = TRUE)"
      ],
      "metadata": {
        "id": "AteOMUCGKlvw"
      },
      "execution_count": 23,
      "outputs": []
    },
    {
      "cell_type": "code",
      "source": [
        "# Merged_data"
      ],
      "metadata": {
        "id": "Wtj7QoSrMvZR"
      },
      "execution_count": 24,
      "outputs": []
    },
    {
      "cell_type": "code",
      "source": [
        "# write.csv(Merged_data,\"protest+governance.csv\", row.names = TRUE)\n"
      ],
      "metadata": {
        "id": "W08SdHNYMxn_"
      },
      "execution_count": 25,
      "outputs": []
    },
    {
      "cell_type": "markdown",
      "source": [
        "Wanted to use the Income per capita but it was tremendeously messy...."
      ],
      "metadata": {
        "id": "s0NCIR0JOhOc"
      }
    },
    {
      "cell_type": "code",
      "source": [
        "#url_capita = 'https://raw.githubusercontent.com/antsaaims/StudentprotestGDELT/main/AdjustedNationalIncomePerCapita.csv'"
      ],
      "metadata": {
        "id": "pP3E8-gzN8g7"
      },
      "execution_count": 26,
      "outputs": []
    },
    {
      "cell_type": "code",
      "source": [
        "#income_data = read.table(url_capita, sep =',', header = TRUE, fill = TRUE)"
      ],
      "metadata": {
        "id": "9aPEhauMO2yd"
      },
      "execution_count": 27,
      "outputs": []
    },
    {
      "cell_type": "code",
      "source": [
        "#intermediate = na.omit(income_data[c('Country.Name','X2014','X2015','X2016','X2017','X2018','X2019','X2020')])"
      ],
      "metadata": {
        "id": "LvxDyP41ClrG"
      },
      "execution_count": 28,
      "outputs": []
    },
    {
      "cell_type": "code",
      "source": [
        "# rownames =  2014:2020 \n",
        "# make_data2 <- function(country) {\n",
        "# mydata = data.frame(t(subset(intermediate, Country.Name == country))[-c(1)])\n",
        "\n",
        "# colnames(mydata) = c('income')\n",
        "# mydata$Year = rownames\n",
        "\n",
        "# mydata$Country =  country\n",
        "# mydata\n",
        "# }\n",
        "\n"
      ],
      "metadata": {
        "id": "QINcxlkmDdG9"
      },
      "execution_count": 29,
      "outputs": []
    },
    {
      "cell_type": "code",
      "source": [
        "#list_countries = (unique(intermediate[c(\"Country.Name\")]))"
      ],
      "metadata": {
        "id": "i9Spp0tDm8Lk"
      },
      "execution_count": 30,
      "outputs": []
    },
    {
      "cell_type": "code",
      "source": [
        "# n  = nrow(list_countries)\n",
        "# #n =3 \n",
        "# make_all_data = function(){\n",
        "# final_data = make_data2(list_countries['Country.Name'][1,1])\n",
        "# for (x in 2:n) {\n",
        "#   country = list_countries['Country.Name'][x,1]\n",
        "#   if(nchar(country)<34){\n",
        "#   final_data = rbind(final_data,make_data2(country))\n",
        "#   }\n",
        "# }\n",
        "# row.names(final_data) = 1:nrow(final_data)\n",
        "# final_data  \n",
        "# } "
      ],
      "metadata": {
        "id": "Xm-wU9CoFBMf"
      },
      "execution_count": 31,
      "outputs": []
    },
    {
      "cell_type": "code",
      "source": [
        "#FinalIncomeData = make_all_data()"
      ],
      "metadata": {
        "id": "CGJaQu8bnIfC"
      },
      "execution_count": 32,
      "outputs": []
    },
    {
      "cell_type": "code",
      "source": [
        "#FinalIncomeData"
      ],
      "metadata": {
        "id": "znpPuNrtnOK7"
      },
      "execution_count": 33,
      "outputs": []
    },
    {
      "cell_type": "code",
      "source": [
        "#url_protest_gov = 'https://raw.githubusercontent.com/antsaaims/StudentprotestGDELT/main/protest%2Bgovernance.csv'\n",
        "\n",
        "##protest_data = read.table(url_protest_gov, sep =',', header = TRUE)"
      ],
      "metadata": {
        "id": "NsB0NvpRnlL4"
      },
      "execution_count": 34,
      "outputs": []
    },
    {
      "cell_type": "code",
      "source": [
        "#protest_data"
      ],
      "metadata": {
        "id": "N-wrZ2z2oXfl"
      },
      "execution_count": 35,
      "outputs": []
    },
    {
      "cell_type": "code",
      "source": [
        "# Merged_data = merge(x = protest_data, y =FinalIncomeData, by.x = c('Year','Country'), by.y= c('Year','Country'),all.x = TRUE,all.y = FALSE, sort = TRUE)\n",
        "# write.csv(Merged_data,\"protest+governance+income.csv\", row.names = TRUE)\n"
      ],
      "metadata": {
        "id": "kWCg_TMBnSXb"
      },
      "execution_count": 36,
      "outputs": []
    },
    {
      "cell_type": "code",
      "source": [
        "#Merged_data"
      ],
      "metadata": {
        "id": "nXK0KQ7HoZGb"
      },
      "execution_count": 37,
      "outputs": []
    },
    {
      "cell_type": "code",
      "source": [
        "#cleaneddata = na.omit(Merged_data)"
      ],
      "metadata": {
        "id": "wZGze4MUoj9b"
      },
      "execution_count": 38,
      "outputs": []
    },
    {
      "cell_type": "code",
      "source": [
        "#cleaneddata"
      ],
      "metadata": {
        "id": "937-Bc-_o3pS"
      },
      "execution_count": 39,
      "outputs": []
    },
    {
      "cell_type": "code",
      "source": [
        "#write.csv(cleaneddata,\"cleanedAllData.csv\", row.names = TRUE)\n"
      ],
      "metadata": {
        "id": "xwNVNHl_o4kJ"
      },
      "execution_count": 40,
      "outputs": []
    },
    {
      "cell_type": "markdown",
      "source": [
        "## Exploratory data analysis"
      ],
      "metadata": {
        "id": "jJsGdYbMpbU2"
      }
    },
    {
      "cell_type": "code",
      "source": [
        "# urldata = 'https://raw.githubusercontent.com/antsaaims/StudentprotestGDELT/main/cleanedAllData.csv'\n",
        "# cleaneddata = read.table(urldata, sep =',', header = TRUE)"
      ],
      "metadata": {
        "id": "Od-Ln73TpIFP"
      },
      "execution_count": 41,
      "outputs": []
    },
    {
      "cell_type": "code",
      "source": [
        "# cleaneddata$protest.ratio = cleaneddata$StudentProtestCount/cleaneddata$AllProtestCount\n",
        "# L = (colnames(cleaneddata))[-c(1,4,5)]\n",
        "# cleaneddata = cleaneddata[L]"
      ],
      "metadata": {
        "id": "UlIq0ltwOYkF"
      },
      "execution_count": 42,
      "outputs": []
    },
    {
      "cell_type": "code",
      "source": [
        "#list_countries = (unique(cleaneddata[c(\"Country\")]))"
      ],
      "metadata": {
        "id": "cf4BE3MIrE0m"
      },
      "execution_count": 43,
      "outputs": []
    },
    {
      "cell_type": "code",
      "source": [
        "#n <- dim(list_countries)"
      ],
      "metadata": {
        "id": "2gy_bArt6wqN"
      },
      "execution_count": 44,
      "outputs": []
    },
    {
      "cell_type": "code",
      "source": [
        "#write.csv(cleaneddata,\"cleaneddatawithprop.csv\", row.names = TRUE)"
      ],
      "metadata": {
        "id": "-A3wUphWGxis"
      },
      "execution_count": 45,
      "outputs": []
    },
    {
      "cell_type": "code",
      "source": [
        "urldata = 'https://raw.githubusercontent.com/antsaaims/StudentprotestGDELT/main/cleaneddatawithprop.csv'\n",
        "cleaneddata = read.table(urldata, sep =',', header = TRUE)\n",
        "cleaneddata"
      ],
      "metadata": {
        "id": "WzDJRJCiHIq0",
        "colab": {
          "base_uri": "https://localhost:8080/",
          "height": 1000
        },
        "outputId": "41b3f45d-68c9-4e88-a0bd-c182d1706089"
      },
      "execution_count": 2,
      "outputs": [
        {
          "output_type": "display_data",
          "data": {
            "text/html": [
              "<table class=\"dataframe\">\n",
              "<caption>A data.frame: 234 × 11</caption>\n",
              "<thead>\n",
              "\t<tr><th scope=col>X</th><th scope=col>Year</th><th scope=col>Country</th><th scope=col>StudentProtestCount</th><th scope=col>AllProtestCount</th><th scope=col>Control.of.Corruption..Estimate</th><th scope=col>Government.Effectiveness..Estimate</th><th scope=col>Political.Stability.and.Absence.of.Violence.Terrorism..Estimate</th><th scope=col>Political.Stability.and.Absence.of.Violence.Terrorism..Estimate.1</th><th scope=col>income</th><th scope=col>protest.ratio</th></tr>\n",
              "\t<tr><th scope=col>&lt;int&gt;</th><th scope=col>&lt;int&gt;</th><th scope=col>&lt;chr&gt;</th><th scope=col>&lt;int&gt;</th><th scope=col>&lt;int&gt;</th><th scope=col>&lt;dbl&gt;</th><th scope=col>&lt;dbl&gt;</th><th scope=col>&lt;dbl&gt;</th><th scope=col>&lt;dbl&gt;</th><th scope=col>&lt;dbl&gt;</th><th scope=col>&lt;dbl&gt;</th></tr>\n",
              "</thead>\n",
              "<tbody>\n",
              "\t<tr><td> 1</td><td>2014</td><td>South Africa    </td><td>  3</td><td>   93</td><td>-0.0614517</td><td> 0.3407953</td><td>-0.1463890</td><td> 0.1827036</td><td> 5721.9670</td><td>3.225806e-02</td></tr>\n",
              "\t<tr><td> 2</td><td>2015</td><td>Afghanistan     </td><td>  2</td><td> 4820</td><td>-1.3422160</td><td>-1.3231760</td><td>-2.5712220</td><td>-1.5040860</td><td>  516.9467</td><td>4.149378e-04</td></tr>\n",
              "\t<tr><td> 3</td><td>2015</td><td>Bangladesh      </td><td> 29</td><td> 4623</td><td>-0.8084212</td><td>-0.7238550</td><td>-1.2120180</td><td>-0.7513467</td><td> 1219.1510</td><td>6.272983e-03</td></tr>\n",
              "\t<tr><td> 4</td><td>2015</td><td>Benin           </td><td>  1</td><td>  408</td><td>-0.5508423</td><td>-0.6198767</td><td>-0.0135140</td><td>-0.5360809</td><td>  958.7780</td><td>2.450980e-03</td></tr>\n",
              "\t<tr><td> 5</td><td>2015</td><td>Canada          </td><td>  3</td><td>10403</td><td> 1.8871810</td><td> 1.7617290</td><td> 1.2746980</td><td> 1.8419200</td><td>35263.2300</td><td>2.883784e-04</td></tr>\n",
              "\t<tr><td> 6</td><td>2015</td><td>Chile           </td><td>  1</td><td> 3535</td><td> 1.2804150</td><td> 1.0857820</td><td> 0.4334392</td><td> 1.3439570</td><td>11235.7900</td><td>2.828854e-04</td></tr>\n",
              "\t<tr><td> 7</td><td>2015</td><td>China           </td><td>  8</td><td>16748</td><td>-0.2820595</td><td> 0.4075751</td><td>-0.5502946</td><td>-0.4098733</td><td> 6039.7430</td><td>4.776690e-04</td></tr>\n",
              "\t<tr><td> 8</td><td>2015</td><td>France          </td><td>  1</td><td>18638</td><td> 1.2864980</td><td> 1.4481220</td><td> 0.1067064</td><td> 1.3985060</td><td>30879.8400</td><td>5.365383e-05</td></tr>\n",
              "\t<tr><td> 9</td><td>2015</td><td>Ghana           </td><td>  1</td><td> 2105</td><td>-0.1887468</td><td>-0.2224221</td><td>-0.0320993</td><td> 0.1423040</td><td> 1380.6500</td><td>4.750594e-04</td></tr>\n",
              "\t<tr><td>10</td><td>2015</td><td>Greece          </td><td>  3</td><td>11132</td><td>-0.0873486</td><td> 0.1770223</td><td>-0.2302524</td><td> 0.2769418</td><td>14989.5300</td><td>2.694934e-04</td></tr>\n",
              "\t<tr><td>11</td><td>2015</td><td>Guatemala       </td><td>  1</td><td> 2558</td><td>-0.7332659</td><td>-0.7112794</td><td>-0.6550602</td><td>-0.9473416</td><td> 3416.1090</td><td>3.909304e-04</td></tr>\n",
              "\t<tr><td>12</td><td>2015</td><td>Haiti           </td><td>  2</td><td> 1648</td><td>-1.2377180</td><td>-2.0164660</td><td>-0.6708382</td><td>-1.1806910</td><td> 1329.5260</td><td>1.213592e-03</td></tr>\n",
              "\t<tr><td>13</td><td>2015</td><td>Honduras        </td><td>  1</td><td> 1887</td><td>-0.5667320</td><td>-0.8218005</td><td>-0.4689144</td><td>-0.9256861</td><td> 2009.2390</td><td>5.299417e-04</td></tr>\n",
              "\t<tr><td>14</td><td>2015</td><td>India           </td><td>143</td><td>46133</td><td>-0.3519882</td><td> 0.0900683</td><td>-0.9484934</td><td>-0.0474092</td><td> 1405.1800</td><td>3.099733e-03</td></tr>\n",
              "\t<tr><td>15</td><td>2015</td><td>Israel          </td><td>  6</td><td>31487</td><td> 0.9433662</td><td> 1.3874480</td><td>-1.0949130</td><td> 1.1621570</td><td>30811.0900</td><td>1.905548e-04</td></tr>\n",
              "\t<tr><td>16</td><td>2015</td><td>Kenya           </td><td> 13</td><td> 2696</td><td>-1.0136170</td><td>-0.3015067</td><td>-1.2444060</td><td>-0.4882332</td><td> 1090.2630</td><td>4.821958e-03</td></tr>\n",
              "\t<tr><td>17</td><td>2015</td><td>Lebanon         </td><td>  1</td><td> 5039</td><td>-0.8838731</td><td>-0.4745394</td><td>-1.7025870</td><td>-0.8257188</td><td> 6204.1910</td><td>1.984521e-04</td></tr>\n",
              "\t<tr><td>18</td><td>2015</td><td>Liberia         </td><td>  8</td><td>  623</td><td>-0.6454833</td><td>-1.3572740</td><td>-0.8180257</td><td>-0.8566647</td><td>  389.9621</td><td>1.284109e-02</td></tr>\n",
              "\t<tr><td>19</td><td>2015</td><td>Malawi          </td><td>  1</td><td>  458</td><td>-0.7666516</td><td>-0.6664509</td><td> 0.0318961</td><td>-0.3069656</td><td>  299.8452</td><td>2.183406e-03</td></tr>\n",
              "\t<tr><td>20</td><td>2015</td><td>Mexico          </td><td> 11</td><td>12771</td><td>-0.7660108</td><td> 0.2092917</td><td>-0.7986991</td><td>-0.4471673</td><td> 7625.2530</td><td>8.613264e-04</td></tr>\n",
              "\t<tr><td>21</td><td>2015</td><td>Morocco         </td><td>  2</td><td> 3648</td><td>-0.2202772</td><td>-0.0623169</td><td>-0.3414874</td><td>-0.0890306</td><td> 2513.5110</td><td>5.482456e-04</td></tr>\n",
              "\t<tr><td>22</td><td>2015</td><td>Nepal           </td><td>  2</td><td> 4370</td><td>-0.5780753</td><td>-1.0538680</td><td>-0.9983346</td><td>-0.6769011</td><td>  856.5601</td><td>4.576659e-04</td></tr>\n",
              "\t<tr><td>23</td><td>2015</td><td>Netherlands     </td><td>  8</td><td> 3154</td><td> 1.8751010</td><td> 1.8591050</td><td> 0.9261193</td><td> 1.9429480</td><td>37497.2200</td><td>2.536462e-03</td></tr>\n",
              "\t<tr><td>24</td><td>2015</td><td>Nigeria         </td><td> 17</td><td>14582</td><td>-1.0795420</td><td>-0.9590327</td><td>-1.9254430</td><td>-0.9616836</td><td> 2299.9110</td><td>1.165821e-03</td></tr>\n",
              "\t<tr><td>25</td><td>2015</td><td>Pakistan        </td><td> 20</td><td>17366</td><td>-0.8108425</td><td>-0.6677570</td><td>-2.4827080</td><td>-0.7667320</td><td> 1256.6000</td><td>1.151676e-03</td></tr>\n",
              "\t<tr><td>26</td><td>2015</td><td>Papua New Guinea</td><td>  2</td><td>  199</td><td>-0.9399223</td><td>-0.6067827</td><td>-0.4221483</td><td>-0.8693526</td><td> 2195.4240</td><td>1.005025e-02</td></tr>\n",
              "\t<tr><td>27</td><td>2015</td><td>Philippines     </td><td>  2</td><td> 4106</td><td>-0.4534664</td><td> 0.1119681</td><td>-0.8556625</td><td>-0.3429787</td><td> 3045.6390</td><td>4.870921e-04</td></tr>\n",
              "\t<tr><td>28</td><td>2015</td><td>Saudi Arabia    </td><td>  2</td><td> 6621</td><td> 0.0522682</td><td> 0.1996553</td><td>-0.6263990</td><td> 0.1177256</td><td>16895.9400</td><td>3.020692e-04</td></tr>\n",
              "\t<tr><td>29</td><td>2015</td><td>South Africa    </td><td>157</td><td>11801</td><td> 0.0252705</td><td> 0.2915252</td><td>-0.2129929</td><td> 0.0881371</td><td> 5190.8080</td><td>1.330396e-02</td></tr>\n",
              "\t<tr><td>30</td><td>2015</td><td>Sri Lanka       </td><td>  7</td><td> 3268</td><td>-0.3441233</td><td>-0.0095256</td><td> 0.0903681</td><td> 0.0372322</td><td> 3476.3950</td><td>2.141983e-03</td></tr>\n",
              "\t<tr><td>⋮</td><td>⋮</td><td>⋮</td><td>⋮</td><td>⋮</td><td>⋮</td><td>⋮</td><td>⋮</td><td>⋮</td><td>⋮</td><td>⋮</td></tr>\n",
              "\t<tr><td>205</td><td>2019</td><td>Pakistan            </td><td> 22</td><td> 17629</td><td>-0.8666273</td><td>-0.6771356</td><td>-2.2651870</td><td>-0.6674315</td><td> 1187.6320</td><td>1.247944e-03</td></tr>\n",
              "\t<tr><td>206</td><td>2019</td><td>Philippines         </td><td>  1</td><td>  4072</td><td>-0.5730505</td><td> 0.0520084</td><td>-0.9151124</td><td>-0.4769835</td><td> 3483.2760</td><td>2.455796e-04</td></tr>\n",
              "\t<tr><td>207</td><td>2019</td><td>Poland              </td><td>  2</td><td>  4570</td><td> 0.6421292</td><td> 0.5348010</td><td> 0.5636535</td><td> 0.4312604</td><td>13293.6600</td><td>4.376368e-04</td></tr>\n",
              "\t<tr><td>208</td><td>2019</td><td>South Africa        </td><td> 58</td><td> 11709</td><td> 0.0729309</td><td> 0.3676561</td><td>-0.2676704</td><td>-0.0761623</td><td> 5423.6580</td><td>4.953455e-03</td></tr>\n",
              "\t<tr><td>209</td><td>2019</td><td>Sri Lanka           </td><td>  3</td><td>  2369</td><td>-0.2891587</td><td>-0.1143393</td><td>-0.2176228</td><td>-0.0118801</td><td> 3460.5330</td><td>1.266357e-03</td></tr>\n",
              "\t<tr><td>210</td><td>2019</td><td>Sudan               </td><td>  8</td><td> 16528</td><td>-1.3654320</td><td>-1.6220590</td><td>-1.7017870</td><td>-1.1407210</td><td>  520.1662</td><td>4.840271e-04</td></tr>\n",
              "\t<tr><td>211</td><td>2019</td><td>Uganda              </td><td>  2</td><td>  1086</td><td>-1.1693660</td><td>-0.5854658</td><td>-0.6912174</td><td>-0.3143390</td><td>  662.0798</td><td>1.841621e-03</td></tr>\n",
              "\t<tr><td>212</td><td>2019</td><td>Ukraine             </td><td>  1</td><td> 18805</td><td>-0.7559236</td><td>-0.2970470</td><td>-1.4235760</td><td>-0.6982756</td><td> 3238.3320</td><td>5.317735e-05</td></tr>\n",
              "\t<tr><td>213</td><td>2019</td><td>United States       </td><td> 37</td><td>145670</td><td> 1.2156340</td><td> 1.4888450</td><td> 0.1349753</td><td> 1.4613600</td><td>55401.5900</td><td>2.539988e-04</td></tr>\n",
              "\t<tr><td>214</td><td>2019</td><td>Vietnam             </td><td>  1</td><td>  2166</td><td>-0.5156115</td><td> 0.0383097</td><td> 0.0254956</td><td>-0.0165804</td><td> 2147.9940</td><td>4.616805e-04</td></tr>\n",
              "\t<tr><td>215</td><td>2020</td><td>Afghanistan         </td><td>  1</td><td>  2426</td><td>-1.4754050</td><td>-1.5231150</td><td>-2.7298080</td><td>-1.8076970</td><td>  475.7459</td><td>4.122012e-04</td></tr>\n",
              "\t<tr><td>216</td><td>2020</td><td>Bangladesh          </td><td>  5</td><td>  3674</td><td>-0.9782742</td><td>-0.7878783</td><td>-0.9173985</td><td>-0.5731802</td><td> 2032.3110</td><td>1.360915e-03</td></tr>\n",
              "\t<tr><td>217</td><td>2020</td><td>Belarus             </td><td>  4</td><td> 15867</td><td>-0.1682376</td><td>-0.7293182</td><td>-0.7303549</td><td>-0.9959167</td><td> 5148.2140</td><td>2.520955e-04</td></tr>\n",
              "\t<tr><td>218</td><td>2020</td><td>Canada              </td><td>  3</td><td> 11989</td><td> 1.5977070</td><td> 1.6443230</td><td> 1.1092460</td><td> 1.6551190</td><td>34808.0300</td><td>2.502294e-04</td></tr>\n",
              "\t<tr><td>219</td><td>2020</td><td>China               </td><td>  4</td><td> 20424</td><td>-0.0658865</td><td> 0.6479592</td><td>-0.2910680</td><td>-0.0595887</td><td> 7540.2170</td><td>1.958480e-04</td></tr>\n",
              "\t<tr><td>220</td><td>2020</td><td>India               </td><td>185</td><td> 50935</td><td>-0.2448308</td><td> 0.3865438</td><td>-0.8619818</td><td>-0.0177096</td><td> 1681.8790</td><td>3.632080e-03</td></tr>\n",
              "\t<tr><td>221</td><td>2020</td><td>Iraq                </td><td>  3</td><td>  9488</td><td>-1.2837750</td><td>-1.3267200</td><td>-2.5283430</td><td>-1.7536840</td><td> 3222.0770</td><td>3.161889e-04</td></tr>\n",
              "\t<tr><td>222</td><td>2020</td><td>Ireland             </td><td>  1</td><td>  3095</td><td> 1.5668980</td><td> 1.4802190</td><td> 0.9751874</td><td> 1.4988850</td><td>41458.7900</td><td>3.231018e-04</td></tr>\n",
              "\t<tr><td>223</td><td>2020</td><td>Mexico              </td><td>  3</td><td> 10851</td><td>-0.8476247</td><td>-0.1550609</td><td>-0.8500293</td><td>-0.6701080</td><td> 6267.6080</td><td>2.764722e-04</td></tr>\n",
              "\t<tr><td>224</td><td>2020</td><td>Nigeria             </td><td>  6</td><td> 15934</td><td>-1.0968800</td><td>-1.0294750</td><td>-1.8593490</td><td>-0.8124883</td><td> 1730.3810</td><td>3.765533e-04</td></tr>\n",
              "\t<tr><td>225</td><td>2020</td><td>Pakistan            </td><td> 26</td><td> 12976</td><td>-0.8403147</td><td>-0.5459959</td><td>-1.8533560</td><td>-0.6917597</td><td> 1100.0830</td><td>2.003699e-03</td></tr>\n",
              "\t<tr><td>226</td><td>2020</td><td>Poland              </td><td>  1</td><td>  5657</td><td> 0.6507944</td><td> 0.3764992</td><td> 0.5743839</td><td> 0.5398862</td><td>13298.4800</td><td>1.767721e-04</td></tr>\n",
              "\t<tr><td>227</td><td>2020</td><td>Qatar               </td><td>  1</td><td>   437</td><td> 0.7839146</td><td> 0.9082767</td><td> 0.6707044</td><td> 1.0009290</td><td>37833.3000</td><td>2.288330e-03</td></tr>\n",
              "\t<tr><td>228</td><td>2020</td><td>South Africa        </td><td> 22</td><td>  8200</td><td> 0.0640369</td><td> 0.2993964</td><td>-0.2368584</td><td>-0.1154166</td><td> 4550.7670</td><td>2.682927e-03</td></tr>\n",
              "\t<tr><td>229</td><td>2020</td><td>Thailand            </td><td>  1</td><td>  4359</td><td>-0.4222212</td><td> 0.3007005</td><td>-0.6245449</td><td> 0.1213088</td><td> 5716.3340</td><td>2.294104e-04</td></tr>\n",
              "\t<tr><td>230</td><td>2020</td><td>Tunisia             </td><td>  4</td><td>  1530</td><td>-0.0680283</td><td>-0.2039159</td><td>-0.6339517</td><td> 0.1375134</td><td> 3357.4150</td><td>2.614379e-03</td></tr>\n",
              "\t<tr><td>231</td><td>2020</td><td>Ukraine             </td><td>  2</td><td> 13476</td><td>-0.7841346</td><td>-0.3556524</td><td>-1.1640590</td><td>-0.6700379</td><td> 3286.5910</td><td>1.484120e-04</td></tr>\n",
              "\t<tr><td>232</td><td>2020</td><td>United Arab Emirates</td><td>  1</td><td>   938</td><td> 1.1143960</td><td> 1.3255030</td><td> 0.6264683</td><td> 0.9169419</td><td>33375.8000</td><td>1.066098e-03</td></tr>\n",
              "\t<tr><td>233</td><td>2020</td><td>United States       </td><td> 19</td><td>246280</td><td> 1.0688380</td><td> 1.3189420</td><td>-0.0220327</td><td> 1.3680860</td><td>53302.9900</td><td>7.714796e-05</td></tr>\n",
              "\t<tr><td>234</td><td>2020</td><td>Vietnam             </td><td>  2</td><td>  1857</td><td>-0.3527095</td><td> 0.2003077</td><td>-0.0734304</td><td>-0.1339320</td><td> 2235.4960</td><td>1.077006e-03</td></tr>\n",
              "</tbody>\n",
              "</table>\n"
            ],
            "text/markdown": "\nA data.frame: 234 × 11\n\n| X &lt;int&gt; | Year &lt;int&gt; | Country &lt;chr&gt; | StudentProtestCount &lt;int&gt; | AllProtestCount &lt;int&gt; | Control.of.Corruption..Estimate &lt;dbl&gt; | Government.Effectiveness..Estimate &lt;dbl&gt; | Political.Stability.and.Absence.of.Violence.Terrorism..Estimate &lt;dbl&gt; | Political.Stability.and.Absence.of.Violence.Terrorism..Estimate.1 &lt;dbl&gt; | income &lt;dbl&gt; | protest.ratio &lt;dbl&gt; |\n|---|---|---|---|---|---|---|---|---|---|---|\n|  1 | 2014 | South Africa     |   3 |    93 | -0.0614517 |  0.3407953 | -0.1463890 |  0.1827036 |  5721.9670 | 3.225806e-02 |\n|  2 | 2015 | Afghanistan      |   2 |  4820 | -1.3422160 | -1.3231760 | -2.5712220 | -1.5040860 |   516.9467 | 4.149378e-04 |\n|  3 | 2015 | Bangladesh       |  29 |  4623 | -0.8084212 | -0.7238550 | -1.2120180 | -0.7513467 |  1219.1510 | 6.272983e-03 |\n|  4 | 2015 | Benin            |   1 |   408 | -0.5508423 | -0.6198767 | -0.0135140 | -0.5360809 |   958.7780 | 2.450980e-03 |\n|  5 | 2015 | Canada           |   3 | 10403 |  1.8871810 |  1.7617290 |  1.2746980 |  1.8419200 | 35263.2300 | 2.883784e-04 |\n|  6 | 2015 | Chile            |   1 |  3535 |  1.2804150 |  1.0857820 |  0.4334392 |  1.3439570 | 11235.7900 | 2.828854e-04 |\n|  7 | 2015 | China            |   8 | 16748 | -0.2820595 |  0.4075751 | -0.5502946 | -0.4098733 |  6039.7430 | 4.776690e-04 |\n|  8 | 2015 | France           |   1 | 18638 |  1.2864980 |  1.4481220 |  0.1067064 |  1.3985060 | 30879.8400 | 5.365383e-05 |\n|  9 | 2015 | Ghana            |   1 |  2105 | -0.1887468 | -0.2224221 | -0.0320993 |  0.1423040 |  1380.6500 | 4.750594e-04 |\n| 10 | 2015 | Greece           |   3 | 11132 | -0.0873486 |  0.1770223 | -0.2302524 |  0.2769418 | 14989.5300 | 2.694934e-04 |\n| 11 | 2015 | Guatemala        |   1 |  2558 | -0.7332659 | -0.7112794 | -0.6550602 | -0.9473416 |  3416.1090 | 3.909304e-04 |\n| 12 | 2015 | Haiti            |   2 |  1648 | -1.2377180 | -2.0164660 | -0.6708382 | -1.1806910 |  1329.5260 | 1.213592e-03 |\n| 13 | 2015 | Honduras         |   1 |  1887 | -0.5667320 | -0.8218005 | -0.4689144 | -0.9256861 |  2009.2390 | 5.299417e-04 |\n| 14 | 2015 | India            | 143 | 46133 | -0.3519882 |  0.0900683 | -0.9484934 | -0.0474092 |  1405.1800 | 3.099733e-03 |\n| 15 | 2015 | Israel           |   6 | 31487 |  0.9433662 |  1.3874480 | -1.0949130 |  1.1621570 | 30811.0900 | 1.905548e-04 |\n| 16 | 2015 | Kenya            |  13 |  2696 | -1.0136170 | -0.3015067 | -1.2444060 | -0.4882332 |  1090.2630 | 4.821958e-03 |\n| 17 | 2015 | Lebanon          |   1 |  5039 | -0.8838731 | -0.4745394 | -1.7025870 | -0.8257188 |  6204.1910 | 1.984521e-04 |\n| 18 | 2015 | Liberia          |   8 |   623 | -0.6454833 | -1.3572740 | -0.8180257 | -0.8566647 |   389.9621 | 1.284109e-02 |\n| 19 | 2015 | Malawi           |   1 |   458 | -0.7666516 | -0.6664509 |  0.0318961 | -0.3069656 |   299.8452 | 2.183406e-03 |\n| 20 | 2015 | Mexico           |  11 | 12771 | -0.7660108 |  0.2092917 | -0.7986991 | -0.4471673 |  7625.2530 | 8.613264e-04 |\n| 21 | 2015 | Morocco          |   2 |  3648 | -0.2202772 | -0.0623169 | -0.3414874 | -0.0890306 |  2513.5110 | 5.482456e-04 |\n| 22 | 2015 | Nepal            |   2 |  4370 | -0.5780753 | -1.0538680 | -0.9983346 | -0.6769011 |   856.5601 | 4.576659e-04 |\n| 23 | 2015 | Netherlands      |   8 |  3154 |  1.8751010 |  1.8591050 |  0.9261193 |  1.9429480 | 37497.2200 | 2.536462e-03 |\n| 24 | 2015 | Nigeria          |  17 | 14582 | -1.0795420 | -0.9590327 | -1.9254430 | -0.9616836 |  2299.9110 | 1.165821e-03 |\n| 25 | 2015 | Pakistan         |  20 | 17366 | -0.8108425 | -0.6677570 | -2.4827080 | -0.7667320 |  1256.6000 | 1.151676e-03 |\n| 26 | 2015 | Papua New Guinea |   2 |   199 | -0.9399223 | -0.6067827 | -0.4221483 | -0.8693526 |  2195.4240 | 1.005025e-02 |\n| 27 | 2015 | Philippines      |   2 |  4106 | -0.4534664 |  0.1119681 | -0.8556625 | -0.3429787 |  3045.6390 | 4.870921e-04 |\n| 28 | 2015 | Saudi Arabia     |   2 |  6621 |  0.0522682 |  0.1996553 | -0.6263990 |  0.1177256 | 16895.9400 | 3.020692e-04 |\n| 29 | 2015 | South Africa     | 157 | 11801 |  0.0252705 |  0.2915252 | -0.2129929 |  0.0881371 |  5190.8080 | 1.330396e-02 |\n| 30 | 2015 | Sri Lanka        |   7 |  3268 | -0.3441233 | -0.0095256 |  0.0903681 |  0.0372322 |  3476.3950 | 2.141983e-03 |\n| ⋮ | ⋮ | ⋮ | ⋮ | ⋮ | ⋮ | ⋮ | ⋮ | ⋮ | ⋮ | ⋮ |\n| 205 | 2019 | Pakistan             |  22 |  17629 | -0.8666273 | -0.6771356 | -2.2651870 | -0.6674315 |  1187.6320 | 1.247944e-03 |\n| 206 | 2019 | Philippines          |   1 |   4072 | -0.5730505 |  0.0520084 | -0.9151124 | -0.4769835 |  3483.2760 | 2.455796e-04 |\n| 207 | 2019 | Poland               |   2 |   4570 |  0.6421292 |  0.5348010 |  0.5636535 |  0.4312604 | 13293.6600 | 4.376368e-04 |\n| 208 | 2019 | South Africa         |  58 |  11709 |  0.0729309 |  0.3676561 | -0.2676704 | -0.0761623 |  5423.6580 | 4.953455e-03 |\n| 209 | 2019 | Sri Lanka            |   3 |   2369 | -0.2891587 | -0.1143393 | -0.2176228 | -0.0118801 |  3460.5330 | 1.266357e-03 |\n| 210 | 2019 | Sudan                |   8 |  16528 | -1.3654320 | -1.6220590 | -1.7017870 | -1.1407210 |   520.1662 | 4.840271e-04 |\n| 211 | 2019 | Uganda               |   2 |   1086 | -1.1693660 | -0.5854658 | -0.6912174 | -0.3143390 |   662.0798 | 1.841621e-03 |\n| 212 | 2019 | Ukraine              |   1 |  18805 | -0.7559236 | -0.2970470 | -1.4235760 | -0.6982756 |  3238.3320 | 5.317735e-05 |\n| 213 | 2019 | United States        |  37 | 145670 |  1.2156340 |  1.4888450 |  0.1349753 |  1.4613600 | 55401.5900 | 2.539988e-04 |\n| 214 | 2019 | Vietnam              |   1 |   2166 | -0.5156115 |  0.0383097 |  0.0254956 | -0.0165804 |  2147.9940 | 4.616805e-04 |\n| 215 | 2020 | Afghanistan          |   1 |   2426 | -1.4754050 | -1.5231150 | -2.7298080 | -1.8076970 |   475.7459 | 4.122012e-04 |\n| 216 | 2020 | Bangladesh           |   5 |   3674 | -0.9782742 | -0.7878783 | -0.9173985 | -0.5731802 |  2032.3110 | 1.360915e-03 |\n| 217 | 2020 | Belarus              |   4 |  15867 | -0.1682376 | -0.7293182 | -0.7303549 | -0.9959167 |  5148.2140 | 2.520955e-04 |\n| 218 | 2020 | Canada               |   3 |  11989 |  1.5977070 |  1.6443230 |  1.1092460 |  1.6551190 | 34808.0300 | 2.502294e-04 |\n| 219 | 2020 | China                |   4 |  20424 | -0.0658865 |  0.6479592 | -0.2910680 | -0.0595887 |  7540.2170 | 1.958480e-04 |\n| 220 | 2020 | India                | 185 |  50935 | -0.2448308 |  0.3865438 | -0.8619818 | -0.0177096 |  1681.8790 | 3.632080e-03 |\n| 221 | 2020 | Iraq                 |   3 |   9488 | -1.2837750 | -1.3267200 | -2.5283430 | -1.7536840 |  3222.0770 | 3.161889e-04 |\n| 222 | 2020 | Ireland              |   1 |   3095 |  1.5668980 |  1.4802190 |  0.9751874 |  1.4988850 | 41458.7900 | 3.231018e-04 |\n| 223 | 2020 | Mexico               |   3 |  10851 | -0.8476247 | -0.1550609 | -0.8500293 | -0.6701080 |  6267.6080 | 2.764722e-04 |\n| 224 | 2020 | Nigeria              |   6 |  15934 | -1.0968800 | -1.0294750 | -1.8593490 | -0.8124883 |  1730.3810 | 3.765533e-04 |\n| 225 | 2020 | Pakistan             |  26 |  12976 | -0.8403147 | -0.5459959 | -1.8533560 | -0.6917597 |  1100.0830 | 2.003699e-03 |\n| 226 | 2020 | Poland               |   1 |   5657 |  0.6507944 |  0.3764992 |  0.5743839 |  0.5398862 | 13298.4800 | 1.767721e-04 |\n| 227 | 2020 | Qatar                |   1 |    437 |  0.7839146 |  0.9082767 |  0.6707044 |  1.0009290 | 37833.3000 | 2.288330e-03 |\n| 228 | 2020 | South Africa         |  22 |   8200 |  0.0640369 |  0.2993964 | -0.2368584 | -0.1154166 |  4550.7670 | 2.682927e-03 |\n| 229 | 2020 | Thailand             |   1 |   4359 | -0.4222212 |  0.3007005 | -0.6245449 |  0.1213088 |  5716.3340 | 2.294104e-04 |\n| 230 | 2020 | Tunisia              |   4 |   1530 | -0.0680283 | -0.2039159 | -0.6339517 |  0.1375134 |  3357.4150 | 2.614379e-03 |\n| 231 | 2020 | Ukraine              |   2 |  13476 | -0.7841346 | -0.3556524 | -1.1640590 | -0.6700379 |  3286.5910 | 1.484120e-04 |\n| 232 | 2020 | United Arab Emirates |   1 |    938 |  1.1143960 |  1.3255030 |  0.6264683 |  0.9169419 | 33375.8000 | 1.066098e-03 |\n| 233 | 2020 | United States        |  19 | 246280 |  1.0688380 |  1.3189420 | -0.0220327 |  1.3680860 | 53302.9900 | 7.714796e-05 |\n| 234 | 2020 | Vietnam              |   2 |   1857 | -0.3527095 |  0.2003077 | -0.0734304 | -0.1339320 |  2235.4960 | 1.077006e-03 |\n\n",
            "text/latex": "A data.frame: 234 × 11\n\\begin{tabular}{lllllllllll}\n X & Year & Country & StudentProtestCount & AllProtestCount & Control.of.Corruption..Estimate & Government.Effectiveness..Estimate & Political.Stability.and.Absence.of.Violence.Terrorism..Estimate & Political.Stability.and.Absence.of.Violence.Terrorism..Estimate.1 & income & protest.ratio\\\\\n <int> & <int> & <chr> & <int> & <int> & <dbl> & <dbl> & <dbl> & <dbl> & <dbl> & <dbl>\\\\\n\\hline\n\t  1 & 2014 & South Africa     &   3 &    93 & -0.0614517 &  0.3407953 & -0.1463890 &  0.1827036 &  5721.9670 & 3.225806e-02\\\\\n\t  2 & 2015 & Afghanistan      &   2 &  4820 & -1.3422160 & -1.3231760 & -2.5712220 & -1.5040860 &   516.9467 & 4.149378e-04\\\\\n\t  3 & 2015 & Bangladesh       &  29 &  4623 & -0.8084212 & -0.7238550 & -1.2120180 & -0.7513467 &  1219.1510 & 6.272983e-03\\\\\n\t  4 & 2015 & Benin            &   1 &   408 & -0.5508423 & -0.6198767 & -0.0135140 & -0.5360809 &   958.7780 & 2.450980e-03\\\\\n\t  5 & 2015 & Canada           &   3 & 10403 &  1.8871810 &  1.7617290 &  1.2746980 &  1.8419200 & 35263.2300 & 2.883784e-04\\\\\n\t  6 & 2015 & Chile            &   1 &  3535 &  1.2804150 &  1.0857820 &  0.4334392 &  1.3439570 & 11235.7900 & 2.828854e-04\\\\\n\t  7 & 2015 & China            &   8 & 16748 & -0.2820595 &  0.4075751 & -0.5502946 & -0.4098733 &  6039.7430 & 4.776690e-04\\\\\n\t  8 & 2015 & France           &   1 & 18638 &  1.2864980 &  1.4481220 &  0.1067064 &  1.3985060 & 30879.8400 & 5.365383e-05\\\\\n\t  9 & 2015 & Ghana            &   1 &  2105 & -0.1887468 & -0.2224221 & -0.0320993 &  0.1423040 &  1380.6500 & 4.750594e-04\\\\\n\t 10 & 2015 & Greece           &   3 & 11132 & -0.0873486 &  0.1770223 & -0.2302524 &  0.2769418 & 14989.5300 & 2.694934e-04\\\\\n\t 11 & 2015 & Guatemala        &   1 &  2558 & -0.7332659 & -0.7112794 & -0.6550602 & -0.9473416 &  3416.1090 & 3.909304e-04\\\\\n\t 12 & 2015 & Haiti            &   2 &  1648 & -1.2377180 & -2.0164660 & -0.6708382 & -1.1806910 &  1329.5260 & 1.213592e-03\\\\\n\t 13 & 2015 & Honduras         &   1 &  1887 & -0.5667320 & -0.8218005 & -0.4689144 & -0.9256861 &  2009.2390 & 5.299417e-04\\\\\n\t 14 & 2015 & India            & 143 & 46133 & -0.3519882 &  0.0900683 & -0.9484934 & -0.0474092 &  1405.1800 & 3.099733e-03\\\\\n\t 15 & 2015 & Israel           &   6 & 31487 &  0.9433662 &  1.3874480 & -1.0949130 &  1.1621570 & 30811.0900 & 1.905548e-04\\\\\n\t 16 & 2015 & Kenya            &  13 &  2696 & -1.0136170 & -0.3015067 & -1.2444060 & -0.4882332 &  1090.2630 & 4.821958e-03\\\\\n\t 17 & 2015 & Lebanon          &   1 &  5039 & -0.8838731 & -0.4745394 & -1.7025870 & -0.8257188 &  6204.1910 & 1.984521e-04\\\\\n\t 18 & 2015 & Liberia          &   8 &   623 & -0.6454833 & -1.3572740 & -0.8180257 & -0.8566647 &   389.9621 & 1.284109e-02\\\\\n\t 19 & 2015 & Malawi           &   1 &   458 & -0.7666516 & -0.6664509 &  0.0318961 & -0.3069656 &   299.8452 & 2.183406e-03\\\\\n\t 20 & 2015 & Mexico           &  11 & 12771 & -0.7660108 &  0.2092917 & -0.7986991 & -0.4471673 &  7625.2530 & 8.613264e-04\\\\\n\t 21 & 2015 & Morocco          &   2 &  3648 & -0.2202772 & -0.0623169 & -0.3414874 & -0.0890306 &  2513.5110 & 5.482456e-04\\\\\n\t 22 & 2015 & Nepal            &   2 &  4370 & -0.5780753 & -1.0538680 & -0.9983346 & -0.6769011 &   856.5601 & 4.576659e-04\\\\\n\t 23 & 2015 & Netherlands      &   8 &  3154 &  1.8751010 &  1.8591050 &  0.9261193 &  1.9429480 & 37497.2200 & 2.536462e-03\\\\\n\t 24 & 2015 & Nigeria          &  17 & 14582 & -1.0795420 & -0.9590327 & -1.9254430 & -0.9616836 &  2299.9110 & 1.165821e-03\\\\\n\t 25 & 2015 & Pakistan         &  20 & 17366 & -0.8108425 & -0.6677570 & -2.4827080 & -0.7667320 &  1256.6000 & 1.151676e-03\\\\\n\t 26 & 2015 & Papua New Guinea &   2 &   199 & -0.9399223 & -0.6067827 & -0.4221483 & -0.8693526 &  2195.4240 & 1.005025e-02\\\\\n\t 27 & 2015 & Philippines      &   2 &  4106 & -0.4534664 &  0.1119681 & -0.8556625 & -0.3429787 &  3045.6390 & 4.870921e-04\\\\\n\t 28 & 2015 & Saudi Arabia     &   2 &  6621 &  0.0522682 &  0.1996553 & -0.6263990 &  0.1177256 & 16895.9400 & 3.020692e-04\\\\\n\t 29 & 2015 & South Africa     & 157 & 11801 &  0.0252705 &  0.2915252 & -0.2129929 &  0.0881371 &  5190.8080 & 1.330396e-02\\\\\n\t 30 & 2015 & Sri Lanka        &   7 &  3268 & -0.3441233 & -0.0095256 &  0.0903681 &  0.0372322 &  3476.3950 & 2.141983e-03\\\\\n\t ⋮ & ⋮ & ⋮ & ⋮ & ⋮ & ⋮ & ⋮ & ⋮ & ⋮ & ⋮ & ⋮\\\\\n\t 205 & 2019 & Pakistan             &  22 &  17629 & -0.8666273 & -0.6771356 & -2.2651870 & -0.6674315 &  1187.6320 & 1.247944e-03\\\\\n\t 206 & 2019 & Philippines          &   1 &   4072 & -0.5730505 &  0.0520084 & -0.9151124 & -0.4769835 &  3483.2760 & 2.455796e-04\\\\\n\t 207 & 2019 & Poland               &   2 &   4570 &  0.6421292 &  0.5348010 &  0.5636535 &  0.4312604 & 13293.6600 & 4.376368e-04\\\\\n\t 208 & 2019 & South Africa         &  58 &  11709 &  0.0729309 &  0.3676561 & -0.2676704 & -0.0761623 &  5423.6580 & 4.953455e-03\\\\\n\t 209 & 2019 & Sri Lanka            &   3 &   2369 & -0.2891587 & -0.1143393 & -0.2176228 & -0.0118801 &  3460.5330 & 1.266357e-03\\\\\n\t 210 & 2019 & Sudan                &   8 &  16528 & -1.3654320 & -1.6220590 & -1.7017870 & -1.1407210 &   520.1662 & 4.840271e-04\\\\\n\t 211 & 2019 & Uganda               &   2 &   1086 & -1.1693660 & -0.5854658 & -0.6912174 & -0.3143390 &   662.0798 & 1.841621e-03\\\\\n\t 212 & 2019 & Ukraine              &   1 &  18805 & -0.7559236 & -0.2970470 & -1.4235760 & -0.6982756 &  3238.3320 & 5.317735e-05\\\\\n\t 213 & 2019 & United States        &  37 & 145670 &  1.2156340 &  1.4888450 &  0.1349753 &  1.4613600 & 55401.5900 & 2.539988e-04\\\\\n\t 214 & 2019 & Vietnam              &   1 &   2166 & -0.5156115 &  0.0383097 &  0.0254956 & -0.0165804 &  2147.9940 & 4.616805e-04\\\\\n\t 215 & 2020 & Afghanistan          &   1 &   2426 & -1.4754050 & -1.5231150 & -2.7298080 & -1.8076970 &   475.7459 & 4.122012e-04\\\\\n\t 216 & 2020 & Bangladesh           &   5 &   3674 & -0.9782742 & -0.7878783 & -0.9173985 & -0.5731802 &  2032.3110 & 1.360915e-03\\\\\n\t 217 & 2020 & Belarus              &   4 &  15867 & -0.1682376 & -0.7293182 & -0.7303549 & -0.9959167 &  5148.2140 & 2.520955e-04\\\\\n\t 218 & 2020 & Canada               &   3 &  11989 &  1.5977070 &  1.6443230 &  1.1092460 &  1.6551190 & 34808.0300 & 2.502294e-04\\\\\n\t 219 & 2020 & China                &   4 &  20424 & -0.0658865 &  0.6479592 & -0.2910680 & -0.0595887 &  7540.2170 & 1.958480e-04\\\\\n\t 220 & 2020 & India                & 185 &  50935 & -0.2448308 &  0.3865438 & -0.8619818 & -0.0177096 &  1681.8790 & 3.632080e-03\\\\\n\t 221 & 2020 & Iraq                 &   3 &   9488 & -1.2837750 & -1.3267200 & -2.5283430 & -1.7536840 &  3222.0770 & 3.161889e-04\\\\\n\t 222 & 2020 & Ireland              &   1 &   3095 &  1.5668980 &  1.4802190 &  0.9751874 &  1.4988850 & 41458.7900 & 3.231018e-04\\\\\n\t 223 & 2020 & Mexico               &   3 &  10851 & -0.8476247 & -0.1550609 & -0.8500293 & -0.6701080 &  6267.6080 & 2.764722e-04\\\\\n\t 224 & 2020 & Nigeria              &   6 &  15934 & -1.0968800 & -1.0294750 & -1.8593490 & -0.8124883 &  1730.3810 & 3.765533e-04\\\\\n\t 225 & 2020 & Pakistan             &  26 &  12976 & -0.8403147 & -0.5459959 & -1.8533560 & -0.6917597 &  1100.0830 & 2.003699e-03\\\\\n\t 226 & 2020 & Poland               &   1 &   5657 &  0.6507944 &  0.3764992 &  0.5743839 &  0.5398862 & 13298.4800 & 1.767721e-04\\\\\n\t 227 & 2020 & Qatar                &   1 &    437 &  0.7839146 &  0.9082767 &  0.6707044 &  1.0009290 & 37833.3000 & 2.288330e-03\\\\\n\t 228 & 2020 & South Africa         &  22 &   8200 &  0.0640369 &  0.2993964 & -0.2368584 & -0.1154166 &  4550.7670 & 2.682927e-03\\\\\n\t 229 & 2020 & Thailand             &   1 &   4359 & -0.4222212 &  0.3007005 & -0.6245449 &  0.1213088 &  5716.3340 & 2.294104e-04\\\\\n\t 230 & 2020 & Tunisia              &   4 &   1530 & -0.0680283 & -0.2039159 & -0.6339517 &  0.1375134 &  3357.4150 & 2.614379e-03\\\\\n\t 231 & 2020 & Ukraine              &   2 &  13476 & -0.7841346 & -0.3556524 & -1.1640590 & -0.6700379 &  3286.5910 & 1.484120e-04\\\\\n\t 232 & 2020 & United Arab Emirates &   1 &    938 &  1.1143960 &  1.3255030 &  0.6264683 &  0.9169419 & 33375.8000 & 1.066098e-03\\\\\n\t 233 & 2020 & United States        &  19 & 246280 &  1.0688380 &  1.3189420 & -0.0220327 &  1.3680860 & 53302.9900 & 7.714796e-05\\\\\n\t 234 & 2020 & Vietnam              &   2 &   1857 & -0.3527095 &  0.2003077 & -0.0734304 & -0.1339320 &  2235.4960 & 1.077006e-03\\\\\n\\end{tabular}\n",
            "text/plain": [
              "    X   Year Country              StudentProtestCount AllProtestCount\n",
              "1    1  2014 South Africa           3                    93          \n",
              "2    2  2015 Afghanistan            2                  4820          \n",
              "3    3  2015 Bangladesh            29                  4623          \n",
              "4    4  2015 Benin                  1                   408          \n",
              "5    5  2015 Canada                 3                 10403          \n",
              "6    6  2015 Chile                  1                  3535          \n",
              "7    7  2015 China                  8                 16748          \n",
              "8    8  2015 France                 1                 18638          \n",
              "9    9  2015 Ghana                  1                  2105          \n",
              "10  10  2015 Greece                 3                 11132          \n",
              "11  11  2015 Guatemala              1                  2558          \n",
              "12  12  2015 Haiti                  2                  1648          \n",
              "13  13  2015 Honduras               1                  1887          \n",
              "14  14  2015 India                143                 46133          \n",
              "15  15  2015 Israel                 6                 31487          \n",
              "16  16  2015 Kenya                 13                  2696          \n",
              "17  17  2015 Lebanon                1                  5039          \n",
              "18  18  2015 Liberia                8                   623          \n",
              "19  19  2015 Malawi                 1                   458          \n",
              "20  20  2015 Mexico                11                 12771          \n",
              "21  21  2015 Morocco                2                  3648          \n",
              "22  22  2015 Nepal                  2                  4370          \n",
              "23  23  2015 Netherlands            8                  3154          \n",
              "24  24  2015 Nigeria               17                 14582          \n",
              "25  25  2015 Pakistan              20                 17366          \n",
              "26  26  2015 Papua New Guinea       2                   199          \n",
              "27  27  2015 Philippines            2                  4106          \n",
              "28  28  2015 Saudi Arabia           2                  6621          \n",
              "29  29  2015 South Africa         157                 11801          \n",
              "30  30  2015 Sri Lanka              7                  3268          \n",
              "⋮   ⋮   ⋮    ⋮                    ⋮                   ⋮              \n",
              "205 205 2019 Pakistan              22                  17629         \n",
              "206 206 2019 Philippines            1                   4072         \n",
              "207 207 2019 Poland                 2                   4570         \n",
              "208 208 2019 South Africa          58                  11709         \n",
              "209 209 2019 Sri Lanka              3                   2369         \n",
              "210 210 2019 Sudan                  8                  16528         \n",
              "211 211 2019 Uganda                 2                   1086         \n",
              "212 212 2019 Ukraine                1                  18805         \n",
              "213 213 2019 United States         37                 145670         \n",
              "214 214 2019 Vietnam                1                   2166         \n",
              "215 215 2020 Afghanistan            1                   2426         \n",
              "216 216 2020 Bangladesh             5                   3674         \n",
              "217 217 2020 Belarus                4                  15867         \n",
              "218 218 2020 Canada                 3                  11989         \n",
              "219 219 2020 China                  4                  20424         \n",
              "220 220 2020 India                185                  50935         \n",
              "221 221 2020 Iraq                   3                   9488         \n",
              "222 222 2020 Ireland                1                   3095         \n",
              "223 223 2020 Mexico                 3                  10851         \n",
              "224 224 2020 Nigeria                6                  15934         \n",
              "225 225 2020 Pakistan              26                  12976         \n",
              "226 226 2020 Poland                 1                   5657         \n",
              "227 227 2020 Qatar                  1                    437         \n",
              "228 228 2020 South Africa          22                   8200         \n",
              "229 229 2020 Thailand               1                   4359         \n",
              "230 230 2020 Tunisia                4                   1530         \n",
              "231 231 2020 Ukraine                2                  13476         \n",
              "232 232 2020 United Arab Emirates   1                    938         \n",
              "233 233 2020 United States         19                 246280         \n",
              "234 234 2020 Vietnam                2                   1857         \n",
              "    Control.of.Corruption..Estimate Government.Effectiveness..Estimate\n",
              "1   -0.0614517                       0.3407953                        \n",
              "2   -1.3422160                      -1.3231760                        \n",
              "3   -0.8084212                      -0.7238550                        \n",
              "4   -0.5508423                      -0.6198767                        \n",
              "5    1.8871810                       1.7617290                        \n",
              "6    1.2804150                       1.0857820                        \n",
              "7   -0.2820595                       0.4075751                        \n",
              "8    1.2864980                       1.4481220                        \n",
              "9   -0.1887468                      -0.2224221                        \n",
              "10  -0.0873486                       0.1770223                        \n",
              "11  -0.7332659                      -0.7112794                        \n",
              "12  -1.2377180                      -2.0164660                        \n",
              "13  -0.5667320                      -0.8218005                        \n",
              "14  -0.3519882                       0.0900683                        \n",
              "15   0.9433662                       1.3874480                        \n",
              "16  -1.0136170                      -0.3015067                        \n",
              "17  -0.8838731                      -0.4745394                        \n",
              "18  -0.6454833                      -1.3572740                        \n",
              "19  -0.7666516                      -0.6664509                        \n",
              "20  -0.7660108                       0.2092917                        \n",
              "21  -0.2202772                      -0.0623169                        \n",
              "22  -0.5780753                      -1.0538680                        \n",
              "23   1.8751010                       1.8591050                        \n",
              "24  -1.0795420                      -0.9590327                        \n",
              "25  -0.8108425                      -0.6677570                        \n",
              "26  -0.9399223                      -0.6067827                        \n",
              "27  -0.4534664                       0.1119681                        \n",
              "28   0.0522682                       0.1996553                        \n",
              "29   0.0252705                       0.2915252                        \n",
              "30  -0.3441233                      -0.0095256                        \n",
              "⋮   ⋮                               ⋮                                 \n",
              "205 -0.8666273                      -0.6771356                        \n",
              "206 -0.5730505                       0.0520084                        \n",
              "207  0.6421292                       0.5348010                        \n",
              "208  0.0729309                       0.3676561                        \n",
              "209 -0.2891587                      -0.1143393                        \n",
              "210 -1.3654320                      -1.6220590                        \n",
              "211 -1.1693660                      -0.5854658                        \n",
              "212 -0.7559236                      -0.2970470                        \n",
              "213  1.2156340                       1.4888450                        \n",
              "214 -0.5156115                       0.0383097                        \n",
              "215 -1.4754050                      -1.5231150                        \n",
              "216 -0.9782742                      -0.7878783                        \n",
              "217 -0.1682376                      -0.7293182                        \n",
              "218  1.5977070                       1.6443230                        \n",
              "219 -0.0658865                       0.6479592                        \n",
              "220 -0.2448308                       0.3865438                        \n",
              "221 -1.2837750                      -1.3267200                        \n",
              "222  1.5668980                       1.4802190                        \n",
              "223 -0.8476247                      -0.1550609                        \n",
              "224 -1.0968800                      -1.0294750                        \n",
              "225 -0.8403147                      -0.5459959                        \n",
              "226  0.6507944                       0.3764992                        \n",
              "227  0.7839146                       0.9082767                        \n",
              "228  0.0640369                       0.2993964                        \n",
              "229 -0.4222212                       0.3007005                        \n",
              "230 -0.0680283                      -0.2039159                        \n",
              "231 -0.7841346                      -0.3556524                        \n",
              "232  1.1143960                       1.3255030                        \n",
              "233  1.0688380                       1.3189420                        \n",
              "234 -0.3527095                       0.2003077                        \n",
              "    Political.Stability.and.Absence.of.Violence.Terrorism..Estimate\n",
              "1   -0.1463890                                                     \n",
              "2   -2.5712220                                                     \n",
              "3   -1.2120180                                                     \n",
              "4   -0.0135140                                                     \n",
              "5    1.2746980                                                     \n",
              "6    0.4334392                                                     \n",
              "7   -0.5502946                                                     \n",
              "8    0.1067064                                                     \n",
              "9   -0.0320993                                                     \n",
              "10  -0.2302524                                                     \n",
              "11  -0.6550602                                                     \n",
              "12  -0.6708382                                                     \n",
              "13  -0.4689144                                                     \n",
              "14  -0.9484934                                                     \n",
              "15  -1.0949130                                                     \n",
              "16  -1.2444060                                                     \n",
              "17  -1.7025870                                                     \n",
              "18  -0.8180257                                                     \n",
              "19   0.0318961                                                     \n",
              "20  -0.7986991                                                     \n",
              "21  -0.3414874                                                     \n",
              "22  -0.9983346                                                     \n",
              "23   0.9261193                                                     \n",
              "24  -1.9254430                                                     \n",
              "25  -2.4827080                                                     \n",
              "26  -0.4221483                                                     \n",
              "27  -0.8556625                                                     \n",
              "28  -0.6263990                                                     \n",
              "29  -0.2129929                                                     \n",
              "30   0.0903681                                                     \n",
              "⋮   ⋮                                                              \n",
              "205 -2.2651870                                                     \n",
              "206 -0.9151124                                                     \n",
              "207  0.5636535                                                     \n",
              "208 -0.2676704                                                     \n",
              "209 -0.2176228                                                     \n",
              "210 -1.7017870                                                     \n",
              "211 -0.6912174                                                     \n",
              "212 -1.4235760                                                     \n",
              "213  0.1349753                                                     \n",
              "214  0.0254956                                                     \n",
              "215 -2.7298080                                                     \n",
              "216 -0.9173985                                                     \n",
              "217 -0.7303549                                                     \n",
              "218  1.1092460                                                     \n",
              "219 -0.2910680                                                     \n",
              "220 -0.8619818                                                     \n",
              "221 -2.5283430                                                     \n",
              "222  0.9751874                                                     \n",
              "223 -0.8500293                                                     \n",
              "224 -1.8593490                                                     \n",
              "225 -1.8533560                                                     \n",
              "226  0.5743839                                                     \n",
              "227  0.6707044                                                     \n",
              "228 -0.2368584                                                     \n",
              "229 -0.6245449                                                     \n",
              "230 -0.6339517                                                     \n",
              "231 -1.1640590                                                     \n",
              "232  0.6264683                                                     \n",
              "233 -0.0220327                                                     \n",
              "234 -0.0734304                                                     \n",
              "    Political.Stability.and.Absence.of.Violence.Terrorism..Estimate.1\n",
              "1    0.1827036                                                       \n",
              "2   -1.5040860                                                       \n",
              "3   -0.7513467                                                       \n",
              "4   -0.5360809                                                       \n",
              "5    1.8419200                                                       \n",
              "6    1.3439570                                                       \n",
              "7   -0.4098733                                                       \n",
              "8    1.3985060                                                       \n",
              "9    0.1423040                                                       \n",
              "10   0.2769418                                                       \n",
              "11  -0.9473416                                                       \n",
              "12  -1.1806910                                                       \n",
              "13  -0.9256861                                                       \n",
              "14  -0.0474092                                                       \n",
              "15   1.1621570                                                       \n",
              "16  -0.4882332                                                       \n",
              "17  -0.8257188                                                       \n",
              "18  -0.8566647                                                       \n",
              "19  -0.3069656                                                       \n",
              "20  -0.4471673                                                       \n",
              "21  -0.0890306                                                       \n",
              "22  -0.6769011                                                       \n",
              "23   1.9429480                                                       \n",
              "24  -0.9616836                                                       \n",
              "25  -0.7667320                                                       \n",
              "26  -0.8693526                                                       \n",
              "27  -0.3429787                                                       \n",
              "28   0.1177256                                                       \n",
              "29   0.0881371                                                       \n",
              "30   0.0372322                                                       \n",
              "⋮   ⋮                                                                \n",
              "205 -0.6674315                                                       \n",
              "206 -0.4769835                                                       \n",
              "207  0.4312604                                                       \n",
              "208 -0.0761623                                                       \n",
              "209 -0.0118801                                                       \n",
              "210 -1.1407210                                                       \n",
              "211 -0.3143390                                                       \n",
              "212 -0.6982756                                                       \n",
              "213  1.4613600                                                       \n",
              "214 -0.0165804                                                       \n",
              "215 -1.8076970                                                       \n",
              "216 -0.5731802                                                       \n",
              "217 -0.9959167                                                       \n",
              "218  1.6551190                                                       \n",
              "219 -0.0595887                                                       \n",
              "220 -0.0177096                                                       \n",
              "221 -1.7536840                                                       \n",
              "222  1.4988850                                                       \n",
              "223 -0.6701080                                                       \n",
              "224 -0.8124883                                                       \n",
              "225 -0.6917597                                                       \n",
              "226  0.5398862                                                       \n",
              "227  1.0009290                                                       \n",
              "228 -0.1154166                                                       \n",
              "229  0.1213088                                                       \n",
              "230  0.1375134                                                       \n",
              "231 -0.6700379                                                       \n",
              "232  0.9169419                                                       \n",
              "233  1.3680860                                                       \n",
              "234 -0.1339320                                                       \n",
              "    income     protest.ratio\n",
              "1    5721.9670 3.225806e-02 \n",
              "2     516.9467 4.149378e-04 \n",
              "3    1219.1510 6.272983e-03 \n",
              "4     958.7780 2.450980e-03 \n",
              "5   35263.2300 2.883784e-04 \n",
              "6   11235.7900 2.828854e-04 \n",
              "7    6039.7430 4.776690e-04 \n",
              "8   30879.8400 5.365383e-05 \n",
              "9    1380.6500 4.750594e-04 \n",
              "10  14989.5300 2.694934e-04 \n",
              "11   3416.1090 3.909304e-04 \n",
              "12   1329.5260 1.213592e-03 \n",
              "13   2009.2390 5.299417e-04 \n",
              "14   1405.1800 3.099733e-03 \n",
              "15  30811.0900 1.905548e-04 \n",
              "16   1090.2630 4.821958e-03 \n",
              "17   6204.1910 1.984521e-04 \n",
              "18    389.9621 1.284109e-02 \n",
              "19    299.8452 2.183406e-03 \n",
              "20   7625.2530 8.613264e-04 \n",
              "21   2513.5110 5.482456e-04 \n",
              "22    856.5601 4.576659e-04 \n",
              "23  37497.2200 2.536462e-03 \n",
              "24   2299.9110 1.165821e-03 \n",
              "25   1256.6000 1.151676e-03 \n",
              "26   2195.4240 1.005025e-02 \n",
              "27   3045.6390 4.870921e-04 \n",
              "28  16895.9400 3.020692e-04 \n",
              "29   5190.8080 1.330396e-02 \n",
              "30   3476.3950 2.141983e-03 \n",
              "⋮   ⋮          ⋮            \n",
              "205  1187.6320 1.247944e-03 \n",
              "206  3483.2760 2.455796e-04 \n",
              "207 13293.6600 4.376368e-04 \n",
              "208  5423.6580 4.953455e-03 \n",
              "209  3460.5330 1.266357e-03 \n",
              "210   520.1662 4.840271e-04 \n",
              "211   662.0798 1.841621e-03 \n",
              "212  3238.3320 5.317735e-05 \n",
              "213 55401.5900 2.539988e-04 \n",
              "214  2147.9940 4.616805e-04 \n",
              "215   475.7459 4.122012e-04 \n",
              "216  2032.3110 1.360915e-03 \n",
              "217  5148.2140 2.520955e-04 \n",
              "218 34808.0300 2.502294e-04 \n",
              "219  7540.2170 1.958480e-04 \n",
              "220  1681.8790 3.632080e-03 \n",
              "221  3222.0770 3.161889e-04 \n",
              "222 41458.7900 3.231018e-04 \n",
              "223  6267.6080 2.764722e-04 \n",
              "224  1730.3810 3.765533e-04 \n",
              "225  1100.0830 2.003699e-03 \n",
              "226 13298.4800 1.767721e-04 \n",
              "227 37833.3000 2.288330e-03 \n",
              "228  4550.7670 2.682927e-03 \n",
              "229  5716.3340 2.294104e-04 \n",
              "230  3357.4150 2.614379e-03 \n",
              "231  3286.5910 1.484120e-04 \n",
              "232 33375.8000 1.066098e-03 \n",
              "233 53302.9900 7.714796e-05 \n",
              "234  2235.4960 1.077006e-03 "
            ]
          },
          "metadata": {}
        }
      ]
    },
    {
      "cell_type": "code",
      "source": [
        "cleaneddata = cleaneddata[-c(1)]"
      ],
      "metadata": {
        "id": "z7eeFbHYJNv4"
      },
      "execution_count": 3,
      "outputs": []
    },
    {
      "cell_type": "markdown",
      "source": [
        "### Plotting the number of protest yearly per country."
      ],
      "metadata": {
        "id": "ow_dva-f7NVm"
      }
    },
    {
      "cell_type": "code",
      "source": [
        "#cols = c('aquamarine','blue', 'blueviolet', 'brown1', 'darkgreen', 'deeppink1', 'orange1', 'yellow', 'black','darkgoldenrod')"
      ],
      "metadata": {
        "id": "uE4Zwikd-1C1"
      },
      "execution_count": 48,
      "outputs": []
    },
    {
      "cell_type": "code",
      "source": [
        "#colnames(cleaneddata)"
      ],
      "metadata": {
        "id": "deUAYDWM_qiA"
      },
      "execution_count": null,
      "outputs": []
    },
    {
      "cell_type": "code",
      "source": [
        "# for (i in 0:7){\n",
        "# jpeg(paste( 'StudentProtestCount',i, '.jpg',sep = '', collapse = NULL))\n",
        "# plot(x =  cleaneddata$Year[cleaneddata$Country == list_countries[10*i +1,1]],y = cleaneddata$StudentProtestCount[cleaneddata$Country == list_countries[10*i +1,1]], main=\"Student protest per year per country\", xlab = 'Year', ylab = 'Student Protest Count', col = cols[1], pch = 20, xlim= c(2013, 2021), ylim= c(min(cleaneddata$StudentProtestCount), max(cleaneddata$StudentProtestCount)))\n",
        "# for (j in 2:10){\n",
        "# points(x =  cleaneddata$Year[cleaneddata$Country == list_countries[10*i +j,1 ]] ,y = cleaneddata$StudentProtestCount[cleaneddata$Country == list_countries[10*i +j,1]], main=\"Student protest per year per country\", xlab = 'Year', ylab = 'Student Protest Count', col = cols[j], pch = 20)\n",
        "# }\n",
        "\n",
        "# legend(\"topright\", legend =  list_countries[(10*i+1):(10*i +10),1],\n",
        "#       lwd = 3, col = cols)\n",
        "# dev.off()            \n",
        "# }\n",
        "\n"
      ],
      "metadata": {
        "id": "81URMK5X_hCB"
      },
      "execution_count": 50,
      "outputs": []
    },
    {
      "cell_type": "markdown",
      "source": [
        "### Plotting the ratio Studentprotest/Allprotest per year per country"
      ],
      "metadata": {
        "id": "ptGXNv9MKjhC"
      }
    },
    {
      "cell_type": "code",
      "source": [
        "# for (i in 0:7){\n",
        "# jpeg(paste( 'ProtestRatio',i, '.jpg',sep = '', collapse = NULL))\n",
        "# plot(x =  cleaneddata$Year[cleaneddata$Country == list_countries[10*i +1,1]],y = cleaneddata$protest.ratio[cleaneddata$Country == list_countries[10*i +1,1]], main=\" Ratio of Student protest per year per country\", xlab = 'Year', ylab = 'Student Protest/All protests', col = cols[1], pch = 20, xlim= c(2013, 2021), ylim= c(0, 1))\n",
        "# for (j in 2:10){\n",
        "# points(x =  cleaneddata$Year[cleaneddata$Country == list_countries[10*i +j,1 ]] ,y = cleaneddata$protest.ratio[cleaneddata$Country == list_countries[10*i +j,1]], main=\"Ratio of Student protest  per year per country\", xlab = 'Year', ylab = 'Student Protest/All protests', col = cols[j], pch = 20)\n",
        "# }\n",
        "\n",
        "# legend(\"topright\", legend =  list_countries[(10*i+1):(10*i +10),1],\n",
        "#       lwd = 3, col = cols)\n",
        "# dev.off()            \n",
        "# }\n",
        "\n"
      ],
      "metadata": {
        "id": "5B1g6fw9IBSs"
      },
      "execution_count": 51,
      "outputs": []
    },
    {
      "cell_type": "code",
      "source": [
        ""
      ],
      "metadata": {
        "id": "AkF_ApTKO4D2"
      },
      "execution_count": 52,
      "outputs": []
    },
    {
      "cell_type": "markdown",
      "source": [
        "## Using Data Explorer"
      ],
      "metadata": {
        "id": "JeOX2pIliV_t"
      }
    },
    {
      "cell_type": "code",
      "source": [
        "#library(DataExplorer)"
      ],
      "metadata": {
        "id": "WV_zr4ruIEoj"
      },
      "execution_count": 53,
      "outputs": []
    },
    {
      "cell_type": "code",
      "source": [
        "#plot_str(cleaneddata)"
      ],
      "metadata": {
        "id": "Qcy8Ea5DjjA_"
      },
      "execution_count": 54,
      "outputs": []
    },
    {
      "cell_type": "code",
      "source": [
        "#t(introduce(cleaneddata))"
      ],
      "metadata": {
        "id": "ti8oHg5oluDP"
      },
      "execution_count": 55,
      "outputs": []
    },
    {
      "cell_type": "code",
      "source": [
        "#plot_intro(cleaneddata)"
      ],
      "metadata": {
        "id": "493eZTjemE_j"
      },
      "execution_count": 56,
      "outputs": []
    },
    {
      "cell_type": "code",
      "source": [
        "#plot_bar(cleaneddata) # We could not plot because there is a lot of countries"
      ],
      "metadata": {
        "id": "PHuyHgucn60x"
      },
      "execution_count": 57,
      "outputs": []
    },
    {
      "cell_type": "code",
      "source": [
        "# for (i in c(1,3,4,5,6,7,8,1,10)){\n",
        "#      jpeg(paste(  colnames(cleaneddata)[i] ,'.jpg',sep = '', collapse = NULL))\n",
        "#      plot_histogram(cleaneddata[i])\n",
        "#      dev.off()\n",
        "#               }"
      ],
      "metadata": {
        "id": "NTKPfVOUoLQ7"
      },
      "execution_count": 58,
      "outputs": []
    },
    {
      "cell_type": "code",
      "source": [
        "# s =''\n",
        "# for (i in c(1,3,4,5,6,7,8,1,10)){\n",
        "# s =(paste(s,\"\\\\includegraphics[scale =0.5]{image/\", colnames(cleaneddata)[i] ,'.jpg}\\\\',sep = '', collapse = NULL))\n",
        "# }\n",
        "# s"
      ],
      "metadata": {
        "id": "dM55nYwKs6Gz"
      },
      "execution_count": 59,
      "outputs": []
    },
    {
      "cell_type": "code",
      "source": [
        "# jpeg('correlation.jpg')\n",
        "# plot_correlation(cleaneddata, maxcat = 5L)\n",
        "# dev.off()"
      ],
      "metadata": {
        "id": "2mWpLjrSwLDX"
      },
      "execution_count": 60,
      "outputs": []
    },
    {
      "cell_type": "code",
      "source": [
        "#colnames(cleaneddata)"
      ],
      "metadata": {
        "id": "1S5pOds7zpYz"
      },
      "execution_count": 61,
      "outputs": []
    },
    {
      "cell_type": "code",
      "source": [
        "# jpeg('scatter.jpg')\n",
        "# plot_scatterplot(cleaneddata, by = 'protest.ratio', sampled_rows = 1000L)\n",
        "# dev.off()"
      ],
      "metadata": {
        "id": "say9qvj0zYJu"
      },
      "execution_count": 62,
      "outputs": []
    },
    {
      "cell_type": "code",
      "source": [
        "#plot_scatterplot(cleaneddata, by = 'StudentProtestCount', sampled_rows = 1000L)\n"
      ],
      "metadata": {
        "id": "3y2VxwXF1wVJ"
      },
      "execution_count": 63,
      "outputs": []
    },
    {
      "cell_type": "code",
      "source": [
        "#plot_scatterplot(cleaneddata, by = 'AllProtestCount', sampled_rows = 1000L)\n"
      ],
      "metadata": {
        "id": "Uo1x5MXS12wB"
      },
      "execution_count": 64,
      "outputs": []
    },
    {
      "cell_type": "markdown",
      "source": [
        "# Analysis"
      ],
      "metadata": {
        "id": "1-xHwIvMI6K_"
      }
    },
    {
      "cell_type": "code",
      "source": [
        "# loading libraries\n",
        "#library('ISLR')\n",
        "library(glmnet)\n",
        "library(dplyr)\n",
        "library(tidyr)"
      ],
      "metadata": {
        "id": "BNUWpgMtKEL5"
      },
      "execution_count": null,
      "outputs": []
    },
    {
      "cell_type": "code",
      "source": [
        "Country = cleaneddata$Country\n",
        "cleaneddata = cleaneddata[-c(2)]\n",
        "cleaneddata$Country = Country#putting the country variables in the end\n"
      ],
      "metadata": {
        "id": "Op8gEbl9LqCk"
      },
      "execution_count": 6,
      "outputs": []
    },
    {
      "cell_type": "code",
      "source": [
        "# spliting the data into test and train.\n",
        "\n",
        "# Create testing / training sets\n",
        "set.seed(1) # so that the result will always be the same for the split\n",
        "train <- sample(1:nrow(cleaneddata), nrow(cleaneddata)*70/100) # Indices for training set, we use 70% of the data\n",
        "test <- -train # Indices for test set (= remaining indices)\n",
        "\n",
        "X = model.matrix(~., cleaneddata[,1:9])[, -1] # make dummy variable, remove the intercept\n",
        "Y = cleaneddata %>%\n",
        "    select(protest.ratio) %>%\n",
        "    unlist() %>%\n",
        "    as.numeric()\n",
        "\n",
        "data.train = X[train,]\n",
        "data.test = X[test,]\n",
        "\n",
        "\n",
        "data.train = as.data.frame(X[train,])\n",
        "data.test = as.data.frame(X[test,])"
      ],
      "metadata": {
        "id": "eElfMTJRI9Ff"
      },
      "execution_count": 7,
      "outputs": []
    },
    {
      "cell_type": "markdown",
      "source": [
        "## Logistic regression"
      ],
      "metadata": {
        "id": "MrOwfTs9Illw"
      }
    },
    {
      "cell_type": "markdown",
      "source": [
        "### Simple binomial/quasi-binomial regression"
      ],
      "metadata": {
        "id": "qNu4J_6DIqXv"
      }
    },
    {
      "cell_type": "markdown",
      "source": [
        "#### if you want to play with the data"
      ],
      "metadata": {
        "id": "CwAEfXvLCDcB"
      }
    },
    {
      "cell_type": "code",
      "source": [
        "# # Only income as a predictor\n",
        "# modlogitinc<- glm(protest.ratio ~ income,\n",
        "#              data= data.train, \n",
        "#              family= binomial(link= \"logit\"),\n",
        "#              weights=AllProtestCount)\n",
        "\n",
        "# summary(modlogitinc)"
      ],
      "metadata": {
        "id": "B7mXKxIgscop"
      },
      "execution_count": null,
      "outputs": []
    },
    {
      "cell_type": "code",
      "source": [
        "# plot(data.train$income, data.train$protest.ratio, pch= 20, xlab= \"Income\",\n",
        "# ylab= \"P(ratio =1)\")\n",
        "# lines(sort(data.train$income), modlogitinc$fit[order(data.train$income)], lwd= 2)"
      ],
      "metadata": {
        "id": "JnIJMcRXsvJZ"
      },
      "execution_count": null,
      "outputs": []
    },
    {
      "cell_type": "code",
      "source": [
        "# plot(data.train$income, data.train$protest.ratio, pch= 20, xlab= \"Income\",\n",
        "# # ylab= \"P(ratio =1)\")\n",
        "# lines(sort(data.train$income), modlogit$fit[order(data.train$income)], lwd= 2)"
      ],
      "metadata": {
        "id": "QbpksMZXsvF5"
      },
      "execution_count": null,
      "outputs": []
    },
    {
      "cell_type": "code",
      "source": [
        "# plot(data.train$Year, data.train$protest.ratio, pch= 20, xlab= \"Income\",\n",
        "# ylab= \"P(ratio =1)\")\n",
        "# lines(sort(data.train$Year), modlogit$fit[order(data.train$Year)], lwd= 2)"
      ],
      "metadata": {
        "id": "C0mOrfqdsu_o"
      },
      "execution_count": null,
      "outputs": []
    },
    {
      "cell_type": "code",
      "source": [
        "# Ypredict = predict(modlogit,  type = \"response\", newdata = X.test)\n",
        "\n",
        "# Ytrainpredict = predict(modlogit,  type = \"response\", newdata = data.train)\n",
        "\n"
      ],
      "metadata": {
        "id": "-oZQ97lBsu8Z"
      },
      "execution_count": null,
      "outputs": []
    },
    {
      "cell_type": "code",
      "source": [
        "# ## RMSE\n",
        "# ## Training error\n",
        "\n",
        "# RMSEtrain = sqrt(sum((Ytrainpredict- data.train$protest.ratio )^2 ))\n",
        "\n",
        "# ## Testing error\n",
        "\n",
        "# RMSEtest = sqrt(sum((Ypredict- Y.test)^2 ))\n",
        "\n"
      ],
      "metadata": {
        "id": "9Xh18t3NvMfo"
      },
      "execution_count": null,
      "outputs": []
    },
    {
      "cell_type": "code",
      "source": [
        "# s = paste('RMSE Train = ', RMSEtrain ,\"\\n RMSE test = \", RMSEtest)\n",
        "# print(s)"
      ],
      "metadata": {
        "id": "DIfGq-lyvMYJ"
      },
      "execution_count": null,
      "outputs": []
    },
    {
      "cell_type": "markdown",
      "source": [
        "### All at once"
      ],
      "metadata": {
        "id": "eNvRVvT06bu4"
      }
    },
    {
      "cell_type": "code",
      "source": [
        "library(\"conflicted\")\n",
        "suppressPackageStartupMessages(library(\"tidyverse\"))\n",
        "conflict_prefer(\"filter\", \"dplyr\")\n",
        "#> [conflicted] Will prefer dplyr::filter over any other package\n",
        "library(\"betareg\")\n",
        "library(\"broom\") # bridge the gap from untidy outputs of \n",
        "#predictions and estimations to the tidy data we want to work with\n",
        "library(\"kableExtra\")"
      ],
      "metadata": {
        "id": "6MB9N-GWKc3B",
        "colab": {
          "base_uri": "https://localhost:8080/"
        },
        "outputId": "2aba71d2-3ef1-4511-9a0e-227d5162e479"
      },
      "execution_count": 9,
      "outputs": [
        {
          "output_type": "stream",
          "name": "stderr",
          "text": [
            "Warning message in system(\"timedatectl\", intern = TRUE):\n",
            "“running command 'timedatectl' had status 1”\n",
            "[conflicted] Will prefer \u001b[34mdplyr::filter\u001b[39m over any other package\n"
          ]
        }
      ]
    },
    {
      "cell_type": "code",
      "source": [
        "res11 <- list()\n",
        "\n",
        "### Average ###\n",
        "\n",
        "# This \"model\" simply predicts for each year\n",
        "# the average proportion of student protest among all protests\n",
        "\n",
        "\n",
        "res11$average_no <- \n",
        "  glm(protest.ratio ~ Year, data = data.train,\n",
        "        family = quasibinomial(logit), weights = AllProtestCount)\n",
        "\n",
        "### binomial (logit) ###\n",
        "\n",
        "res11$binomial_logit <-\n",
        "    glm(protest.ratio ~ Year + Control.of.Corruption..Estimate\n",
        "        + Government.Effectiveness..Estimate +Political.Stability.and.Absence.of.Violence.Terrorism..Estimate\n",
        "        + Political.Stability.and.Absence.of.Violence.Terrorism..Estimate.1\n",
        "        + income, data = data.train,\n",
        "        family = binomial(logit), weights = AllProtestCount)\n",
        "\n",
        "### binomial (probit) ###\n",
        "\n",
        "res11$binomial_probit <-\n",
        "    glm(protest.ratio ~ Year + Control.of.Corruption..Estimate\n",
        "        + Government.Effectiveness..Estimate +Political.Stability.and.Absence.of.Violence.Terrorism..Estimate\n",
        "        + Political.Stability.and.Absence.of.Violence.Terrorism..Estimate.1\n",
        "        + income, data = data.train,\n",
        "        family = binomial(probit), weights = AllProtestCount)\n",
        "\n",
        "### binomial (loglog) ###\n",
        "\n",
        "res11$binomial_cloglog <-\n",
        "    glm(protest.ratio ~ Year + Control.of.Corruption..Estimate\n",
        "        + Government.Effectiveness..Estimate +Political.Stability.and.Absence.of.Violence.Terrorism..Estimate\n",
        "        + Political.Stability.and.Absence.of.Violence.Terrorism..Estimate.1\n",
        "        + income, data = data.train,\n",
        "        family = binomial(link ='cloglog'), weights = AllProtestCount)\n",
        "\n",
        "\n",
        "\n",
        "### quasi-binomial (logit) ###\n",
        "\n",
        "res11$quasibinomial_lin <-\n",
        "    glm(protest.ratio ~ Year + Control.of.Corruption..Estimate\n",
        "        + Government.Effectiveness..Estimate +Political.Stability.and.Absence.of.Violence.Terrorism..Estimate\n",
        "        + Political.Stability.and.Absence.of.Violence.Terrorism..Estimate.1\n",
        "        + income, data = data.train,\n",
        "        family = quasibinomial(logit), weights = AllProtestCount)\n",
        "\n",
        "\n",
        "\n",
        "### beta (logit) ###\n",
        "\n",
        "res11$betaDsplogit_lin <-\n",
        "    betareg(protest.ratio ~ Year + Control.of.Corruption..Estimate\n",
        "    + Government.Effectiveness..Estimate +Political.Stability.and.Absence.of.Violence.Terrorism..Estimate\n",
        "    + Political.Stability.and.Absence.of.Violence.Terrorism..Estimate.1\n",
        "    + income, data = data.train)\n",
        "\n",
        "### beta (loglog) ###\n",
        "\n",
        "res11$betaDsploglog_lin <-\n",
        "    update(res11$betaDsplogit_lin, link = \"loglog\")\n",
        "\n",
        "\n",
        "## Binomial with cross validated Ridge penalty\n",
        "\n",
        "\n",
        "## Binomial with cross validated  Lasso  penalty\n",
        "\n",
        "\n",
        "\n",
        "res12 <- enframe(res11)\n",
        "\n",
        "#res12"
      ],
      "metadata": {
        "id": "TE5vSFu_vMSI"
      },
      "execution_count": null,
      "outputs": []
    },
    {
      "cell_type": "code",
      "source": [
        "summary(res11)"
      ],
      "metadata": {
        "id": "5sr2PVIQvMPJ",
        "colab": {
          "base_uri": "https://localhost:8080/",
          "height": 156
        },
        "outputId": "8c5ca2cb-f705-4bda-9692-02430586aad2"
      },
      "execution_count": 13,
      "outputs": [
        {
          "output_type": "display_data",
          "data": {
            "text/plain": [
              "                  Length Class   Mode\n",
              "average_no        30     glm     list\n",
              "binomial_logit    30     glm     list\n",
              "binomial_probit   30     glm     list\n",
              "binomial_cloglog  30     glm     list\n",
              "quasibinomial_lin 30     glm     list\n",
              "betaDsplogit_lin  29     betareg list\n",
              "betaDsploglog_lin 29     betareg list"
            ]
          },
          "metadata": {}
        }
      ]
    },
    {
      "cell_type": "code",
      "source": [
        "# load package\n",
        "library(sjPlot)\n",
        "library(sjmisc)\n",
        "library(sjlabelled)"
      ],
      "metadata": {
        "id": "H87KoL1pJ7bi"
      },
      "execution_count": 12,
      "outputs": []
    },
    {
      "cell_type": "markdown",
      "source": [
        "#### taking the summary of all teh models in html file."
      ],
      "metadata": {
        "id": "ERATTwTxEnDB"
      }
    },
    {
      "cell_type": "code",
      "source": [
        "# for (i in 1:7){\n",
        "# print(tab_model( res11[i], show.se = TRUE, show.std = TRUE, show.stat = TRUE, file = paste('Nopenalty#',i ,'.html', sep ='')))\n",
        "# }"
      ],
      "metadata": {
        "id": "REdk2xB881KW"
      },
      "execution_count": null,
      "outputs": []
    },
    {
      "cell_type": "markdown",
      "source": [
        "### Model Performance"
      ],
      "metadata": {
        "id": "1xS_iLn1E1uZ"
      }
    },
    {
      "cell_type": "code",
      "source": [
        "# model.names <- c('average_no',\n",
        "#               'binomial_logit',\n",
        "#               'binomial_probit',\n",
        "#               'binomial_cloglog',\n",
        "#               'quasibinomial_lin',\n",
        "#               'betaDsplogit_lin',\n",
        "#               'betaDsploglog_lin'\n",
        "#               )"
      ],
      "metadata": {
        "id": "bR1HvZzWEuur"
      },
      "execution_count": null,
      "outputs": []
    },
    {
      "cell_type": "code",
      "source": [
        "# listRMSEtrain = c()\n",
        "# listRMSEtest = c()\n",
        "# listMAEtrain = c()\n",
        "# listMAEtest = c()\n",
        "# for(i in res11)  {\n",
        "#  trainrmse = sqrt(mean((predict(i ,newdata = data.train, type ='response') - data.train$protest.ratio)^2)  )\n",
        "#  trainmae =  mean(abs(predict(i ,newdata = data.train, type ='response') - data.train$protest.ratio) )   \n",
        "#  testrmse = sqrt(mean((predict(i ,newdata = data.test, type ='response') - data.test$protest.ratio)^2)  )\n",
        "#  testmae =  mean(abs(predict(i ,newdata = data.test, type ='response') - data.test$protest.ratio) ) \n",
        "#  listRMSEtrain = append(listRMSEtrain, trainrmse)\n",
        "#  listMAEtrain = append(listMAEtrain, trainmae)\n",
        "#  listRMSEtest = append(listRMSEtest, testrmse)\n",
        "#  listMAEtest = append(listMAEtest, testmae)\n",
        "#   }"
      ],
      "metadata": {
        "id": "YGXQxRRbHVyJ"
      },
      "execution_count": null,
      "outputs": []
    },
    {
      "cell_type": "code",
      "source": [
        "# jpeg('comparison.jpg')\n",
        "# plot(listRMSEtrain, xlab = 'model number', ylab = 'probability', col = 'red', pch = 19, ylim = c(0.001,0.008),\n",
        "# main = \"Comparison of Different Models for Proportion Data\")\n",
        "# points(listRMSEtest , xlab = 'model number', ylab = 'probability', col = 'blue', pch = 19 )\n",
        "# points(listMAEtrain , xlab = 'model number', ylab = 'probability', col = 'pink', pch = 19 )\n",
        "# points(listMAEtest , xlab = 'model number', ylab = 'probability', col = 'purple', pch = 19 )\n",
        "# legend(\"topright\", legend = c('RMSE train', 'RMSE test', 'MAE train','MAE test' ),\n",
        "#  lwd = 3, col = c('red','blue','pink', 'purple'))\n",
        "#  dev.off()"
      ],
      "metadata": {
        "id": "v4QVrloPNr69"
      },
      "execution_count": null,
      "outputs": []
    },
    {
      "cell_type": "markdown",
      "source": [
        "## Likelyhood Ratio test"
      ],
      "metadata": {
        "id": "0sffg1XKcd8D"
      }
    },
    {
      "cell_type": "code",
      "source": [
        "model.full = res11$binomial_logit"
      ],
      "metadata": {
        "id": "zOA_0w1hNruV"
      },
      "execution_count": 14,
      "outputs": []
    },
    {
      "cell_type": "code",
      "source": [
        "model.full"
      ],
      "metadata": {
        "colab": {
          "base_uri": "https://localhost:8080/",
          "height": 451
        },
        "id": "_D3Hnqs7cmHD",
        "outputId": "d389517d-d873-4cb1-91f5-01c8fbfd149e"
      },
      "execution_count": 15,
      "outputs": [
        {
          "output_type": "display_data",
          "data": {
            "text/plain": [
              "\n",
              "Call:  glm(formula = protest.ratio ~ Year + Control.of.Corruption..Estimate + \n",
              "    Government.Effectiveness..Estimate + Political.Stability.and.Absence.of.Violence.Terrorism..Estimate + \n",
              "    Political.Stability.and.Absence.of.Violence.Terrorism..Estimate.1 + \n",
              "    income, family = binomial(logit), data = data.train, weights = AllProtestCount)\n",
              "\n",
              "Coefficients:\n",
              "                                                      (Intercept)  \n",
              "                                                       -1.068e+02  \n",
              "                                                             Year  \n",
              "                                                        5.034e-02  \n",
              "                                  Control.of.Corruption..Estimate  \n",
              "                                                       -2.239e-01  \n",
              "                               Government.Effectiveness..Estimate  \n",
              "                                                       -1.114e+00  \n",
              "  Political.Stability.and.Absence.of.Violence.Terrorism..Estimate  \n",
              "                                                        1.648e-01  \n",
              "Political.Stability.and.Absence.of.Violence.Terrorism..Estimate.1  \n",
              "                                                        1.834e+00  \n",
              "                                                           income  \n",
              "                                                       -8.295e-05  \n",
              "\n",
              "Degrees of Freedom: 162 Total (i.e. Null);  156 Residual\n",
              "Null Deviance:\t    5138 \n",
              "Residual Deviance: 2618 \tAIC: 3178"
            ]
          },
          "metadata": {}
        }
      ]
    },
    {
      "cell_type": "code",
      "source": [
        "model.reduced <-list()\n",
        "model.reduced$noyear <-  glm(formula = protest.ratio ~ Control.of.Corruption..Estimate + \n",
        "    Government.Effectiveness..Estimate + Political.Stability.and.Absence.of.Violence.Terrorism..Estimate + \n",
        "    Political.Stability.and.Absence.of.Violence.Terrorism..Estimate.1 + \n",
        "    income, family = binomial(logit), data = data.train, weights = AllProtestCount)\n",
        "\n",
        "model.reduced$nocorrups <-  glm(formula = protest.ratio ~ Year + \n",
        "    Government.Effectiveness..Estimate + Political.Stability.and.Absence.of.Violence.Terrorism..Estimate + \n",
        "    Political.Stability.and.Absence.of.Violence.Terrorism..Estimate.1 + \n",
        "    income, family = binomial(logit), data = data.train, weights = AllProtestCount)\n",
        "\n",
        "model.reduced$nogov<- glm(formula = protest.ratio ~ Year + Control.of.Corruption..Estimate +  Political.Stability.and.Absence.of.Violence.Terrorism..Estimate + \n",
        "    Political.Stability.and.Absence.of.Violence.Terrorism..Estimate.1 + \n",
        "    income, family = binomial(logit), data = data.train, weights = AllProtestCount)\n",
        "\n",
        "model.reduced$noviolence1 <- glm(formula = protest.ratio ~ Year + Control.of.Corruption..Estimate + \n",
        "    Government.Effectiveness..Estimate   + \n",
        "    Political.Stability.and.Absence.of.Violence.Terrorism..Estimate.1 + \n",
        "    income, family = binomial(logit), data = data.train, weights = AllProtestCount)\n",
        "\n",
        "model.reduced$noviolence2 <- glm(formula = protest.ratio ~ Year + Control.of.Corruption..Estimate + \n",
        "    Government.Effectiveness..Estimate + Political.Stability.and.Absence.of.Violence.Terrorism..Estimate + \n",
        "    income, family = binomial(logit), data = data.train, weights = AllProtestCount)\n",
        "model.reduced$noincome <-  glm(formula = protest.ratio ~ Year + Control.of.Corruption..Estimate + \n",
        "    Government.Effectiveness..Estimate + Political.Stability.and.Absence.of.Violence.Terrorism..Estimate + \n",
        "    Political.Stability.and.Absence.of.Violence.Terrorism..Estimate.1,\n",
        "    family = binomial(logit), data = data.train, weights = AllProtestCount)"
      ],
      "metadata": {
        "id": "txLnArJgcn2i"
      },
      "execution_count": 18,
      "outputs": []
    },
    {
      "cell_type": "code",
      "source": [
        "summary(model.reduced)"
      ],
      "metadata": {
        "colab": {
          "base_uri": "https://localhost:8080/",
          "height": 139
        },
        "id": "WmqcKA11czKy",
        "outputId": "2d1d1565-d370-4cf8-bc6f-60cbd93aa5af"
      },
      "execution_count": 19,
      "outputs": [
        {
          "output_type": "display_data",
          "data": {
            "text/plain": [
              "            Length Class Mode\n",
              "noyear      30     glm   list\n",
              "nocorrups   30     glm   list\n",
              "nogov       30     glm   list\n",
              "noviolence1 30     glm   list\n",
              "noviolence2 30     glm   list\n",
              "noincome    30     glm   list"
            ]
          },
          "metadata": {}
        }
      ]
    },
    {
      "cell_type": "code",
      "source": [
        "library(lmtest)"
      ],
      "metadata": {
        "id": "IbMu-hXQczIE"
      },
      "execution_count": null,
      "outputs": []
    },
    {
      "cell_type": "code",
      "source": [
        "pv <- list()\n",
        "for (i in model.reduced){\n",
        "#print(lrtest(model.full,i ))\n",
        "pv <- append(pv, (lrtest(model.full,i )[2,5]))#pvalue of the test.\n",
        "}"
      ],
      "metadata": {
        "id": "ZzQKiSCPczFB"
      },
      "execution_count": 28,
      "outputs": []
    },
    {
      "cell_type": "code",
      "source": [
        "s = '\\begin{tabular}{|c|c|} \\\\hline coef&p-value\\\\ \\\\hline'\n",
        "for (i in 1:6){\n",
        "s= (paste(s,'$\\beta_ ', i, '$&$', pv[i], '$\\\\\\\\hline', sep =''))  \n",
        "}\n",
        "s = paste(s, '\\\\end{tabular}')\n",
        "s"
      ],
      "metadata": {
        "colab": {
          "base_uri": "https://localhost:8080/",
          "height": 52
        },
        "id": "NlcMG5uTczCE",
        "outputId": "48c46bb4-f53b-4fdc-fac5-db0362e6700a"
      },
      "execution_count": 39,
      "outputs": [
        {
          "output_type": "display_data",
          "data": {
            "text/html": [
              "'\\begin{tabular}{|c|c|} \\\\hline coef&amp;p-value\\\\ \\\\hline$\\beta_ 1$&amp;$3.75698504222392e-05$\\\\\\\\hline$\\beta_ 2$&amp;$0.0609156196305164$\\\\\\\\hline$\\beta_ 3$&amp;$6.45692893801627e-46$\\\\\\\\hline$\\beta_ 4$&amp;$4.08655878501374e-05$\\\\\\\\hline$\\beta_ 5$&amp;$1.21009505279062e-52$\\\\\\\\hline$\\beta_ 6$&amp;$3.27073640406758e-220$\\\\\\\\hline \\\\end{tabular}'"
            ],
            "text/markdown": "'\\begin{tabular}{|c|c|} \\\\hline coef&amp;p-value\\\\ \\\\hline$\\beta_ 1$&amp;$3.75698504222392e-05$\\\\\\\\hline$\\beta_ 2$&amp;$0.0609156196305164$\\\\\\\\hline$\\beta_ 3$&amp;$6.45692893801627e-46$\\\\\\\\hline$\\beta_ 4$&amp;$4.08655878501374e-05$\\\\\\\\hline$\\beta_ 5$&amp;$1.21009505279062e-52$\\\\\\\\hline$\\beta_ 6$&amp;$3.27073640406758e-220$\\\\\\\\hline \\\\end{tabular}'",
            "text/latex": "'\\textbackslash{}begin\\{tabular\\}\\{\\textbar{}c\\textbar{}c\\textbar{}\\} \\textbackslash{}\\textbackslash{}hline coef\\&p-value\\textbackslash{}\\textbackslash{} \\textbackslash{}\\textbackslash{}hline\\$\\textbackslash{}beta\\_ 1\\$\\&\\$3.75698504222392e-05\\$\\textbackslash{}\\textbackslash{}\\textbackslash{}\\textbackslash{}hline\\$\\textbackslash{}beta\\_ 2\\$\\&\\$0.0609156196305164\\$\\textbackslash{}\\textbackslash{}\\textbackslash{}\\textbackslash{}hline\\$\\textbackslash{}beta\\_ 3\\$\\&\\$6.45692893801627e-46\\$\\textbackslash{}\\textbackslash{}\\textbackslash{}\\textbackslash{}hline\\$\\textbackslash{}beta\\_ 4\\$\\&\\$4.08655878501374e-05\\$\\textbackslash{}\\textbackslash{}\\textbackslash{}\\textbackslash{}hline\\$\\textbackslash{}beta\\_ 5\\$\\&\\$1.21009505279062e-52\\$\\textbackslash{}\\textbackslash{}\\textbackslash{}\\textbackslash{}hline\\$\\textbackslash{}beta\\_ 6\\$\\&\\$3.27073640406758e-220\\$\\textbackslash{}\\textbackslash{}\\textbackslash{}\\textbackslash{}hline \\textbackslash{}\\textbackslash{}end\\{tabular\\}'",
            "text/plain": [
              "[1] \"\\begin{tabular}{|c|c|} \\\\hline coef&p-value\\\\ \\\\hline$\\beta_ 1$&$3.75698504222392e-05$\\\\\\\\hline$\\beta_ 2$&$0.0609156196305164$\\\\\\\\hline$\\beta_ 3$&$6.45692893801627e-46$\\\\\\\\hline$\\beta_ 4$&$4.08655878501374e-05$\\\\\\\\hline$\\beta_ 5$&$1.21009505279062e-52$\\\\\\\\hline$\\beta_ 6$&$3.27073640406758e-220$\\\\\\\\hline \\\\end{tabular}\""
            ]
          },
          "metadata": {}
        }
      ]
    },
    {
      "cell_type": "code",
      "source": [
        "noyear \n",
        "nocorrups \n",
        "nogov \n",
        "noviolence1 \n",
        "noviolence2 \n",
        "noincome"
      ],
      "metadata": {
        "id": "LdMltUrRcy_K"
      },
      "execution_count": null,
      "outputs": []
    },
    {
      "cell_type": "code",
      "source": [
        "selectedmodel = model.reduced$nocorrups"
      ],
      "metadata": {
        "id": "lcVrI_4Ucy8p"
      },
      "execution_count": 41,
      "outputs": []
    },
    {
      "cell_type": "markdown",
      "source": [
        "### Logistic regression with elastic net penalty using cross validation."
      ],
      "metadata": {
        "id": "ne0wl2iwItif"
      }
    },
    {
      "cell_type": "code",
      "source": [
        ""
      ],
      "metadata": {
        "id": "baYGJxPiI0zw"
      },
      "execution_count": null,
      "outputs": []
    },
    {
      "cell_type": "markdown",
      "source": [
        "## Poisson regression."
      ],
      "metadata": {
        "id": "uz1dO6pJI1mH"
      }
    },
    {
      "cell_type": "code",
      "source": [
        ""
      ],
      "metadata": {
        "id": "GV-GRYFDI3-f"
      },
      "execution_count": null,
      "outputs": []
    },
    {
      "cell_type": "markdown",
      "source": [
        "Test "
      ],
      "metadata": {
        "id": "W4_Nwry0N0Ax"
      }
    },
    {
      "cell_type": "code",
      "source": [
        ""
      ],
      "metadata": {
        "id": "myC80aVBOUFJ"
      },
      "execution_count": null,
      "outputs": []
    },
    {
      "cell_type": "code",
      "source": [
        ""
      ],
      "metadata": {
        "id": "-Wd4c89mO8Bz"
      },
      "execution_count": null,
      "outputs": []
    }
  ]
}